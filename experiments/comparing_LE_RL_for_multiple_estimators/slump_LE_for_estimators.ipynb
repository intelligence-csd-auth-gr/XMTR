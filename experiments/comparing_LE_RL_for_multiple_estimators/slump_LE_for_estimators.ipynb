{
  "nbformat": 4,
  "nbformat_minor": 0,
  "metadata": {
    "colab": {
      "provenance": []
    },
    "kernelspec": {
      "name": "python3",
      "display_name": "Python 3"
    },
    "language_info": {
      "name": "python"
    }
  },
  "cells": [
    {
      "cell_type": "code",
      "execution_count": null,
      "metadata": {
        "id": "Dnc59FJqBIwm"
      },
      "outputs": [],
      "source": [
        "from XMTR import MTR\n",
        "import numpy as np\n",
        "import pandas as pd\n",
        "from scipy.io import arff\n",
        "from sklearn.metrics import mean_absolute_error\n",
        "from sklearn.model_selection import train_test_split, GridSearchCV\n",
        "from sklearn.preprocessing import MinMaxScaler\n",
        "from sklearn.ensemble import RandomForestRegressor"
      ]
    },
    {
      "cell_type": "code",
      "source": [
        "def calc_al_error(instance, perc):\n",
        "  # the error should be non zero\n",
        "  return (abs(instance)+0.1)*perc \n",
        "\n",
        "\n",
        "# load data\n",
        "slump_data = arff.loadarff('slump.arff')\n",
        "slump_df = pd.DataFrame(slump_data[0])\n",
        "\n",
        "# get column names\n",
        "column_names = slump_df.columns\n",
        "\n",
        "# get data/target values\n",
        "f_n = column_names[:7]\n",
        "t_n = column_names[7:]\n",
        "\n",
        "X = slump_df[f_n]\n",
        "y = slump_df[t_n]\n",
        "\n",
        "# convert to numpy\n",
        "X = X.to_numpy()\n",
        "y = y.to_numpy()\n",
        "\n",
        "# scale target values\n",
        "scaler = MinMaxScaler(feature_range=(0,10))\n",
        "y = scaler.fit_transform(y)\n",
        "\n",
        "\n",
        "# split data\n",
        "X_train, X_test, y_train, y_test = train_test_split(X, y, test_size=.3, random_state=42)\n",
        "allowed_error = 0.5\n",
        "\n",
        "max_ds = [2]\n",
        "min_s_ls = [5]\n",
        "m_fs = [None]\n",
        "ests = [i for i in range(100, 1001, 50)]\n",
        "total = (len(max_ds)*len(min_s_ls)*len(m_fs)*len(ests))\n",
        "counter = 1\n",
        "all_errors = []\n",
        "min_error = 10**10 # just a ref\n",
        "for max_d in max_ds:\n",
        "  for min_s_l in min_s_ls:\n",
        "    for m_f in m_fs:\n",
        "      for est in ests:\n",
        "        # create/train model\n",
        "        RFmodel = RandomForestRegressor(n_estimators=est, max_depth=max_d, min_samples_leaf=min_s_l, max_features=m_f, n_jobs=-1, random_state=42)\n",
        "        RFmodel.fit(X_train, y_train)\n",
        "        MTR_obj = MTR(model=RFmodel, X_train = X_train, X_test=X_test, y_train=y_train, y_test=y_test, feature_names=f_n, target_names=t_n)\n",
        "        avgEstimators = []\n",
        "        MTRpreds = []\n",
        "        # get results\n",
        "        for i in range(len(X_test)):\n",
        "          error = calc_al_error(y_test[i], allowed_error)\n",
        "          rule = MTR_obj.explain(X_test[i], error) # explain instance\n",
        "          \n",
        "          decisionsAndErrors = MTR_obj.getDecisionsAndErros() # get preds/errors\n",
        "          MTRpreds.append(decisionsAndErrors)\n",
        "\n",
        "          estimators = MTR_obj.getAmountOfReduction() # get estimators\n",
        "          avgEstimators.append(estimators[0])\n",
        "\n",
        "        MTRpreds = np.array(MTRpreds)\n",
        "\n",
        "        # local error\n",
        "        MTRerrors = np.array([subarray[:,1] for subarray in MTRpreds])\n",
        "        total_error = np.mean(MTRerrors, axis=0) # error per target\n",
        "        final_error = np.array(total_error).mean() # avg error\n",
        "        all_errors.append(final_error)\n",
        "        if final_error < min_error:\n",
        "          min_error = final_error\n",
        "          best_par = {\"max_d=\":max_d, \"min_s_l=\":min_s_l, \"m_f=\": m_f, \"est=\": est, \"local error=\": final_error}\n",
        "        print(counter, '/', total, \"| max_depth=\",max_d,\" | \", \"min_sample_leaf=\",min_s_l,\" | \", \"max_f=\", m_f,\" | \", \"est=\", est,\" | \", \"local error=\", final_error, \" | \", \"estimators=\", round(np.array(avgEstimators).mean(),3),\"/\",est)\n",
        "        counter += 1"
      ],
      "metadata": {
        "colab": {
          "base_uri": "https://localhost:8080/"
        },
        "id": "-T-vKgw_BWvU",
        "outputId": "148d6501-83f2-4879-9c65-96c856573232"
      },
      "execution_count": 3,
      "outputs": [
        {
          "output_type": "stream",
          "name": "stdout",
          "text": [
            "1 / 19 | max_depth= 2  |  min_sample_leaf= 5  |  max_f= None  |  est= 100  |  local error= 2.01814370502376  |  estimators= 58.742 / 100\n",
            "2 / 19 | max_depth= 2  |  min_sample_leaf= 5  |  max_f= None  |  est= 150  |  local error= 2.0288186264210495  |  estimators= 88.0 / 150\n",
            "3 / 19 | max_depth= 2  |  min_sample_leaf= 5  |  max_f= None  |  est= 200  |  local error= 2.037926706649111  |  estimators= 117.0 / 200\n",
            "4 / 19 | max_depth= 2  |  min_sample_leaf= 5  |  max_f= None  |  est= 250  |  local error= 2.03485711884485  |  estimators= 147.194 / 250\n",
            "5 / 19 | max_depth= 2  |  min_sample_leaf= 5  |  max_f= None  |  est= 300  |  local error= 2.0420722677913976  |  estimators= 176.71 / 300\n",
            "6 / 19 | max_depth= 2  |  min_sample_leaf= 5  |  max_f= None  |  est= 350  |  local error= 2.0342577349167055  |  estimators= 207.387 / 350\n",
            "7 / 19 | max_depth= 2  |  min_sample_leaf= 5  |  max_f= None  |  est= 400  |  local error= 2.035503049291747  |  estimators= 236.774 / 400\n",
            "8 / 19 | max_depth= 2  |  min_sample_leaf= 5  |  max_f= None  |  est= 450  |  local error= 2.039513753835292  |  estimators= 266.161 / 450\n",
            "9 / 19 | max_depth= 2  |  min_sample_leaf= 5  |  max_f= None  |  est= 500  |  local error= 2.044352748042723  |  estimators= 294.581 / 500\n",
            "10 / 19 | max_depth= 2  |  min_sample_leaf= 5  |  max_f= None  |  est= 550  |  local error= 2.0452754655043868  |  estimators= 323.968 / 550\n",
            "11 / 19 | max_depth= 2  |  min_sample_leaf= 5  |  max_f= None  |  est= 600  |  local error= 2.044316089420582  |  estimators= 354.161 / 600\n",
            "12 / 19 | max_depth= 2  |  min_sample_leaf= 5  |  max_f= None  |  est= 650  |  local error= 2.0448407285092736  |  estimators= 383.065 / 650\n",
            "13 / 19 | max_depth= 2  |  min_sample_leaf= 5  |  max_f= None  |  est= 700  |  local error= 2.0427553024255443  |  estimators= 412.903 / 700\n",
            "14 / 19 | max_depth= 2  |  min_sample_leaf= 5  |  max_f= None  |  est= 750  |  local error= 2.0445947411786025  |  estimators= 441.516 / 750\n",
            "15 / 19 | max_depth= 2  |  min_sample_leaf= 5  |  max_f= None  |  est= 800  |  local error= 2.0455358050983343  |  estimators= 470.742 / 800\n",
            "16 / 19 | max_depth= 2  |  min_sample_leaf= 5  |  max_f= None  |  est= 850  |  local error= 2.045487563071102  |  estimators= 499.032 / 850\n",
            "17 / 19 | max_depth= 2  |  min_sample_leaf= 5  |  max_f= None  |  est= 900  |  local error= 2.04548728690282  |  estimators= 528.258 / 900\n",
            "18 / 19 | max_depth= 2  |  min_sample_leaf= 5  |  max_f= None  |  est= 950  |  local error= 2.0455153210430024  |  estimators= 557.839 / 950\n",
            "19 / 19 | max_depth= 2  |  min_sample_leaf= 5  |  max_f= None  |  est= 1000  |  local error= 2.0440639101501263  |  estimators= 588.0 / 1000\n"
          ]
        }
      ]
    },
    {
      "cell_type": "code",
      "source": [
        "all_errors"
      ],
      "metadata": {
        "colab": {
          "base_uri": "https://localhost:8080/"
        },
        "id": "vW--4qgiHZJB",
        "outputId": "180bdaeb-7fd0-42b6-937a-9fb61250dad2"
      },
      "execution_count": 4,
      "outputs": [
        {
          "output_type": "execute_result",
          "data": {
            "text/plain": [
              "[2.01814370502376,\n",
              " 2.0288186264210495,\n",
              " 2.037926706649111,\n",
              " 2.03485711884485,\n",
              " 2.0420722677913976,\n",
              " 2.0342577349167055,\n",
              " 2.035503049291747,\n",
              " 2.039513753835292,\n",
              " 2.044352748042723,\n",
              " 2.0452754655043868,\n",
              " 2.044316089420582,\n",
              " 2.0448407285092736,\n",
              " 2.0427553024255443,\n",
              " 2.0445947411786025,\n",
              " 2.0455358050983343,\n",
              " 2.045487563071102,\n",
              " 2.04548728690282,\n",
              " 2.0455153210430024,\n",
              " 2.0440639101501263]"
            ]
          },
          "metadata": {},
          "execution_count": 4
        }
      ]
    },
    {
      "cell_type": "code",
      "source": [
        "for e in all_errors:\n",
        "  print(e)"
      ],
      "metadata": {
        "colab": {
          "base_uri": "https://localhost:8080/"
        },
        "id": "d26Deb4pHbjc",
        "outputId": "7262c6c6-43b4-4b69-e153-0df53b3b5bb7"
      },
      "execution_count": 5,
      "outputs": [
        {
          "output_type": "stream",
          "name": "stdout",
          "text": [
            "2.01814370502376\n",
            "2.0288186264210495\n",
            "2.037926706649111\n",
            "2.03485711884485\n",
            "2.0420722677913976\n",
            "2.0342577349167055\n",
            "2.035503049291747\n",
            "2.039513753835292\n",
            "2.044352748042723\n",
            "2.0452754655043868\n",
            "2.044316089420582\n",
            "2.0448407285092736\n",
            "2.0427553024255443\n",
            "2.0445947411786025\n",
            "2.0455358050983343\n",
            "2.045487563071102\n",
            "2.04548728690282\n",
            "2.0455153210430024\n",
            "2.0440639101501263\n"
          ]
        }
      ]
    }
  ]
}