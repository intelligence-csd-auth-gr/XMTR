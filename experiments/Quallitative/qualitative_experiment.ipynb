{
  "nbformat": 4,
  "nbformat_minor": 0,
  "metadata": {
    "colab": {
      "provenance": []
    },
    "kernelspec": {
      "name": "python3",
      "display_name": "Python 3"
    },
    "language_info": {
      "name": "python"
    }
  },
  "cells": [
    {
      "cell_type": "code",
      "execution_count": null,
      "metadata": {
        "id": "ZeYRftz7ipux"
      },
      "outputs": [],
      "source": [
        "!unzip Marlena.zip"
      ]
    },
    {
      "cell_type": "code",
      "source": [
        "from XMTR import MTR\n",
        "from Marlena.algorithms.MARLENA.marlena.marlena.marlena import MARLENA\n",
        "from sklearn.preprocessing import MinMaxScaler\n",
        "from sklearn.ensemble import RandomForestRegressor\n",
        "import numpy as np\n",
        "import pandas as pd\n",
        "from scipy.io import arff\n",
        "from sklearn.metrics import mean_absolute_error\n",
        "from sklearn.model_selection import train_test_split, KFold\n",
        "import warnings\n",
        "warnings.simplefilter(action='ignore')\n",
        "import time\n",
        "import csv"
      ],
      "metadata": {
        "id": "dbRzITl4iuz5"
      },
      "execution_count": null,
      "outputs": []
    },
    {
      "cell_type": "code",
      "source": [
        "def calc_al_error(instance, perc):\n",
        "  # the error should be non zero\n",
        "  return (abs(instance)+0.1)*perc \n",
        "\n",
        "fb_df = pd.read_csv('dataset_Facebook.csv', sep=';')#, nrows=200)\n",
        "\n",
        "# fill NaN\n",
        "fb_df['like'].fillna(0,inplace=True)\n",
        "fb_df['share'].fillna(0,inplace=True)\n",
        "fb_df['Paid'].fillna(0,inplace=True)\n",
        "fb_df.drop(['Type'], inplace=True, axis=1)\n",
        "\n",
        "\n",
        "# get column names\n",
        "column_names = fb_df.columns\n",
        "\n",
        "# get data/target names\n",
        "f_n = column_names[:14]\n",
        "t_n = column_names[14:]\n",
        "\n",
        "index_of_features = {}\n",
        "index = 0\n",
        "for feature in f_n:\n",
        "  index_of_features[feature] = index\n",
        "  index += 1\n",
        "\n",
        "X = fb_df[f_n]\n",
        "y = fb_df[t_n]\n",
        "\n",
        "# convert to numpy\n",
        "X = X.to_numpy()\n",
        "y = y.to_numpy()\n",
        "\n",
        "scaler = MinMaxScaler(feature_range=(1,10))\n",
        "y = scaler.fit_transform(y)\n",
        "\n",
        "# split data\n",
        "X_train, X_test, y_train, y_test = train_test_split(X, y, test_size=.1, random_state=42)\n",
        "\n",
        "# MTR\n",
        "#RFmodel = RandomForestRegressor(n_estimators=500, max_depth=3, min_samples_leaf=5, max_features=None, n_jobs=-1, random_state=42)\n",
        "RFmodel = RandomForestRegressor(n_estimators=500, max_depth=2, min_samples_leaf=5, max_features=0.75, n_jobs=-1, random_state=42)\n",
        "RFmodel.fit(X_train, y_train)\n",
        "MTR_obj = MTR(model=RFmodel, X_train = X_train, X_test=X_test, y_train=y_train, y_test=y_test, feature_names=f_n, target_names=t_n)\n",
        "model = MTR_obj.getModel()"
      ],
      "metadata": {
        "id": "o2Ih2xcKiwM5"
      },
      "execution_count": null,
      "outputs": []
    },
    {
      "cell_type": "markdown",
      "source": [
        "# ALTER FEATURES THAT ARE ONLY IN XMTR RULE"
      ],
      "metadata": {
        "id": "7qNNPK1Oi5_t"
      }
    },
    {
      "cell_type": "code",
      "source": [
        "random_instance = 0 # the examined instance\n",
        "percentage = 0.1 # percentage of allowed error\n",
        "\n",
        "instance = X_test[random_instance]\n",
        "error = calc_al_error(y_test[random_instance], percentage)\n",
        "\n",
        "# MTR RULE\n",
        "MTRrule = MTR_obj.explain(instance, error)\n",
        "feature_limits = MTR_obj.getFeatureLimits()\n",
        "decisionsAndErrors = MTR_obj.getDecisionsAndErros()\n",
        "\n",
        "# MARLENA RULE\n",
        "marlena = MARLENA(neigh_type='mixed', random_state=42)\n",
        "i2e = pd.Series(instance, index=f_n)\n",
        "X2E = pd.DataFrame(X_train, columns=f_n)\n",
        "# returns rule, mask(MarlenaPrediction), list_split_conditions, len_rule, instance_imporant_feat, fidelity, hit, DT\n",
        "MARrule, MarlenaPrediction, list_split_conditions, len_rule, _, _, _, _ = marlena.extract_explanation(i2e, X2E, model, f_n, [],\n",
        "                                          t_n, k=10, size=50, alpha=0.7)"
      ],
      "metadata": {
        "id": "VhXWXCw0izeV"
      },
      "execution_count": null,
      "outputs": []
    },
    {
      "cell_type": "code",
      "source": [
        "# THE ACTUAL VALUES OF EACH FEATURE\n",
        "for i in range(len(instance)):\n",
        "  print(f_n[i], \": \", instance[i])"
      ],
      "metadata": {
        "colab": {
          "base_uri": "https://localhost:8080/"
        },
        "id": "38LNOV-9uzxF",
        "outputId": "86a661c7-b5e4-4306-afde-5c5cc7aff3fe"
      },
      "execution_count": null,
      "outputs": [
        {
          "output_type": "stream",
          "name": "stdout",
          "text": [
            "Page total likes :  116091.0\n",
            "Category :  3.0\n",
            "Post Month :  5.0\n",
            "Post Weekday :  6.0\n",
            "Post Hour :  3.0\n",
            "Paid :  0.0\n",
            "Lifetime Post Total Reach :  3332.0\n",
            "Lifetime Post Total Impressions :  5797.0\n",
            "Lifetime Engaged Users :  463.0\n",
            "Lifetime Post Consumers :  406.0\n",
            "Lifetime Post Consumptions :  552.0\n",
            "Lifetime Post Impressions by people who have liked your Page :  4347.0\n",
            "Lifetime Post reach by people who like your Page :  2330.0\n",
            "Lifetime People who have liked your Page and engaged with your post :  341.0\n"
          ]
        }
      ]
    },
    {
      "cell_type": "code",
      "source": [
        "# THE ACTUAL VALUES OF EACH TARGET\n",
        "for i in range(len(y_test[random_instance])):\n",
        "  print(t_n[i], \": \", scaler.inverse_transform(np.array([y_test[random_instance]]).reshape(1, -1))[0][i])"
      ],
      "metadata": {
        "colab": {
          "base_uri": "https://localhost:8080/"
        },
        "id": "nEApoQuDvY-B",
        "outputId": "94cbda37-19db-4198-cd81-7e77e28886cc"
      },
      "execution_count": null,
      "outputs": [
        {
          "output_type": "stream",
          "name": "stdout",
          "text": [
            "comment :  0.0\n",
            "like :  87.00000000000007\n",
            "share :  18.0\n",
            "Total Interactions :  105.00000000000001\n"
          ]
        }
      ]
    },
    {
      "cell_type": "markdown",
      "source": [
        "**Final rules** (predictions are not inverse transformed here)"
      ],
      "metadata": {
        "id": "h1roaYQ_mvTF"
      }
    },
    {
      "cell_type": "code",
      "source": [
        "# XMTR RULE\n",
        "MTRrule"
      ],
      "metadata": {
        "colab": {
          "base_uri": "https://localhost:8080/",
          "height": 88
        },
        "id": "v77qgGvqk3rW",
        "outputId": "33d84279-c756-4c00-c43f-293bbc118718"
      },
      "execution_count": null,
      "outputs": [
        {
          "output_type": "execute_result",
          "data": {
            "text/plain": [
              "'if 236.0<=Lifetime Post reach by people who like your Page<=9150.0 & 341.0<=Lifetime Engaged Users<=597.0 & 9.0<=Lifetime People who have liked your Page and engaged with your post<=378.0 & 567.0<=Lifetime Post Impressions by people who have liked your Page<=19668.5 & 570.0<=Lifetime Post Total Impressions<=6122.5 & 2333.5<=Lifetime Post Total Reach<=3346.0 & 9.0<=Lifetime Post Consumers<=2244.5 then comment: 1.0935 +/- 0.0 error, like: 1.1705 +/- 0.0 error, share: 1.2056 +/- 0.0 error, Total Interactions: 1.1704 +/- 0.0 error'"
            ],
            "application/vnd.google.colaboratory.intrinsic+json": {
              "type": "string"
            }
          },
          "metadata": {},
          "execution_count": 25
        }
      ]
    },
    {
      "cell_type": "code",
      "source": [
        "# MARLENA RULE\n",
        "MARrule, list_split_conditions"
      ],
      "metadata": {
        "colab": {
          "base_uri": "https://localhost:8080/"
        },
        "id": "ZIQhZGMuk-gS",
        "outputId": "0d5fb821-b856-473d-e9ff-91b30d6f5db7"
      },
      "execution_count": null,
      "outputs": [
        {
          "output_type": "execute_result",
          "data": {
            "text/plain": [
              "(['{Lifetime People who have liked your Page and engaged with your post,\\n Lifetime Post Total Reach,\\n Lifetime Post Total Impressions,\\n Lifetime Engaged Users,\\n Lifetime Post Consumptions} -> comment:1.093512138046181 like:1.170537774906238 share:1.2056097090262126 Total Interactions:1.1703883102776997 '],\n",
              " {'Lifetime People who have liked your Page and engaged with your post': [['<=',\n",
              "    476.87],\n",
              "   ['<=', 400.5]],\n",
              "  'Lifetime Post Total Reach': [['<=', 3851.15], ['<=', 3373.97]],\n",
              "  'Lifetime Post Total Impressions': [['<=', 6399.78], ['<=', 6146.1]],\n",
              "  'Lifetime Engaged Users': [['<=', 589.01]],\n",
              "  'Lifetime Post Consumptions': [['>', 542.0]]})"
            ]
          },
          "metadata": {},
          "execution_count": 13
        }
      ]
    },
    {
      "cell_type": "markdown",
      "source": [
        "Features present on rules"
      ],
      "metadata": {
        "id": "xZPRPPnlmzdi"
      }
    },
    {
      "cell_type": "code",
      "source": [
        "XMTR_ft = set(feature_limits.keys()) # features present on XMTR rule\n",
        "MARLENA_ft = set(list_split_conditions.keys()) # features present on MARLENA rule\n",
        "\n",
        "ft_both_rules = XMTR_ft.intersection(MARLENA_ft) # the features tah are present on both rules\n",
        "ft_extra_on_MTR = XMTR_ft.difference(MARLENA_ft) # features that are present in XMTR but not in MARLENA\n",
        "ft_extra_on_MARLENA = MARLENA_ft.difference(XMTR_ft) # features that are present in MARLENA but not in XMTR\n",
        "\n",
        "print(\"XMTR:\", len(XMTR_ft), \" MARLENAl\", len(MARLENA_ft)) # rule lenghts\n",
        "print(\"both:\", len(ft_both_rules), ft_both_rules) # features present on both rules\n",
        "print(\"extra_on_XMTR:\", len(ft_extra_on_MTR), ft_extra_on_MTR) # features present on XMTR and not in MARLENA\n",
        "print(\"extra_on_MARLENA:\", len(ft_extra_on_MARLENA), ft_extra_on_MARLENA) # features present in MARLENA and not in XMTR"
      ],
      "metadata": {
        "colab": {
          "base_uri": "https://localhost:8080/"
        },
        "id": "rH974ebqkpcG",
        "outputId": "71958d81-cc8d-4202-aba6-fa70b2343a02"
      },
      "execution_count": null,
      "outputs": [
        {
          "output_type": "stream",
          "name": "stdout",
          "text": [
            "XMTR: 7  MARLENAl 5\n",
            "both: 4 {'Lifetime Engaged Users', 'Lifetime People who have liked your Page and engaged with your post', 'Lifetime Post Total Impressions', 'Lifetime Post Total Reach'}\n",
            "extra_on_XMTR: 3 {'Lifetime Post Impressions by people who have liked your Page', 'Lifetime Post Consumers', 'Lifetime Post reach by people who like your Page'}\n",
            "extra_on_MARLENA: 1 {'Lifetime Post Consumptions'}\n"
          ]
        }
      ]
    },
    {
      "cell_type": "markdown",
      "source": [
        "**Feature ranges**"
      ],
      "metadata": {
        "id": "KcVyhNVYjgJW"
      }
    },
    {
      "cell_type": "code",
      "source": [
        "# feature reanges of XMTR\n",
        "print(\"XMTR\")\n",
        "for key in feature_limits.keys():\n",
        "  print(\"   \", key, feature_limits[key])\n",
        "  \n",
        "print(\"=\"*100)\n",
        "# feature ranges of MARLENA\n",
        "print(\"MARLENA\")\n",
        "for key in list_split_conditions.keys():\n",
        "  print(\"   \", key, list_split_conditions[key])"
      ],
      "metadata": {
        "colab": {
          "base_uri": "https://localhost:8080/"
        },
        "id": "Rmg0UWucjbMs",
        "outputId": "c359210c-e0d3-4a06-9080-a62496ca264c"
      },
      "execution_count": null,
      "outputs": [
        {
          "output_type": "stream",
          "name": "stdout",
          "text": [
            "XMTR\n",
            "    Lifetime Post reach by people who like your Page [236.0, 9150.0]\n",
            "    Lifetime Engaged Users [341.0, 597.0]\n",
            "    Lifetime People who have liked your Page and engaged with your post [9.0, 378.0]\n",
            "    Lifetime Post Impressions by people who have liked your Page [567.0, 19668.5]\n",
            "    Lifetime Post Total Impressions [570.0, 6122.5]\n",
            "    Lifetime Post Total Reach [2333.5, 3346.0]\n",
            "    Lifetime Post Consumers [9.0, 2244.5]\n",
            "====================================================================================================\n",
            "MARLENA\n",
            "    Lifetime People who have liked your Page and engaged with your post [['<=', 476.87], ['<=', 400.5]]\n",
            "    Lifetime Post Total Reach [['<=', 3851.15], ['<=', 3373.97]]\n",
            "    Lifetime Post Total Impressions [['<=', 6399.78], ['<=', 6146.1]]\n",
            "    Lifetime Engaged Users [['<=', 589.01]]\n",
            "    Lifetime Post Consumptions [['>', 542.0]]\n"
          ]
        }
      ]
    },
    {
      "cell_type": "markdown",
      "source": [
        "**Target values and Predictions** (with inverse transformation)"
      ],
      "metadata": {
        "id": "2Mp47RjjnJF5"
      }
    },
    {
      "cell_type": "code",
      "source": [
        "# actual target values\n",
        "print(\"Actual values:\", scaler.inverse_transform(np.array([y_test[random_instance]]).reshape(1, -1)))\n",
        "\n",
        "# predictions of XMTR\n",
        "MTRpred = np.array([np.array(decisionsAndErrors)[:,0]])\n",
        "print(\"   XMTR preds:\", scaler.inverse_transform(MTRpred.reshape(1, -1)))\n",
        "\n",
        "# predictions of Marlena\n",
        "print(\"MARLENA preds:\", scaler.inverse_transform(MarlenaPrediction.reshape(1, -1)))"
      ],
      "metadata": {
        "colab": {
          "base_uri": "https://localhost:8080/"
        },
        "id": "w_GGIR6bnzO_",
        "outputId": "4dab11a2-bb10-412f-f495-24798e98c910"
      },
      "execution_count": null,
      "outputs": [
        {
          "output_type": "stream",
          "name": "stdout",
          "text": [
            "Actual values [[  0.  87.  18. 105.]]\n",
            "   XMTR preds [[  3.86516837  98.00237465  18.04796335 119.91550637]]\n",
            "MARLENA preds [[  3.86516837  98.00237465  18.04796335 119.91550637]]\n"
          ]
        }
      ]
    },
    {
      "cell_type": "markdown",
      "source": [
        "Change features of the examined instance"
      ],
      "metadata": {
        "id": "hPEir_pIrSDw"
      }
    },
    {
      "cell_type": "code",
      "source": [
        "instance_altered = instance.copy() # get a copy of the examined instance\n",
        "\n",
        "# for each feature that is in XMTR rule and is not in MARLENA rule\n",
        "for f in ft_extra_on_MTR:\n",
        "  index = index_of_features[f] # get the index of that feature\n",
        "  rng = feature_limits[f] # get the range of the feature (given from XMTR)\n",
        "\n",
        "  # check which of min or max is further from the actual value\n",
        "  from_min = abs(instance[index]-rng[0])\n",
        "  from_max = abs(instance[index]-rng[1])\n",
        "  if from_min > from_max:\n",
        "    value = rng[0]#+rng[0]*0.001\n",
        "  else:\n",
        "    value = rng[1]#-rng[1]*0.001\n",
        "  print(\"feature:\", f, \" from \", instance[index], \" to \", value)\n",
        "  # give the furthest value on the instance feature\n",
        "  instance_altered[index] = value"
      ],
      "metadata": {
        "colab": {
          "base_uri": "https://localhost:8080/"
        },
        "id": "xZsSEF_SqKO_",
        "outputId": "cb62acc0-264b-49a6-e012-2bb9cb600054"
      },
      "execution_count": null,
      "outputs": [
        {
          "output_type": "stream",
          "name": "stdout",
          "text": [
            "feature: Lifetime Post Impressions by people who have liked your Page  from  4347.0  to  19668.5\n",
            "feature: Lifetime Post Consumers  from  406.0  to  2244.5\n",
            "feature: Lifetime Post reach by people who like your Page  from  2330.0  to  9150.0\n"
          ]
        }
      ]
    },
    {
      "cell_type": "markdown",
      "source": [
        "CREATE EXPLANATIONS FOR THE ALTERED INSTANCE"
      ],
      "metadata": {
        "id": "37QDbHyW41gn"
      }
    },
    {
      "cell_type": "code",
      "source": [
        "# XMTR\n",
        "MTRrule_new = MTR_obj.explain(instance_altered, error)\n",
        "feature_limits_new = MTR_obj.getFeatureLimits()\n",
        "decisionsAndErrors_new = MTR_obj.getDecisionsAndErros()\n",
        "\n",
        "# MARLENA\n",
        "marlena_new = MARLENA(neigh_type='mixed', random_state=42)\n",
        "i2e_new = pd.Series(instance_altered, index=f_n)\n",
        "X2E_new = pd.DataFrame(X_train, columns=f_n)\n",
        "# returns rule, mask(MarlenaPrediction), list_split_conditions, len_rule, instance_imporant_feat, fidelity, hit, DT\n",
        "MARrule_new, MarlenaPrediction_new, list_split_conditions_new, len_rule_new, _, _, _, _ = marlena_new.extract_explanation(i2e_new, X2E_new, model, f_n, [],\n",
        "                                          t_n, k=10, size=50, alpha=0.7)\n"
      ],
      "metadata": {
        "id": "fecCG-C7uqln"
      },
      "execution_count": null,
      "outputs": []
    },
    {
      "cell_type": "code",
      "source": [
        "# XMTR RULE\n",
        "MTRrule_new"
      ],
      "metadata": {
        "colab": {
          "base_uri": "https://localhost:8080/",
          "height": 88
        },
        "id": "J9gTR8DS5FQ-",
        "outputId": "1a1ff6b0-79e7-42b3-fd25-7428c2a7b7af"
      },
      "execution_count": null,
      "outputs": [
        {
          "output_type": "execute_result",
          "data": {
            "text/plain": [
              "'if 236.0<=Lifetime Post reach by people who like your Page<=9150.0 & 341.0<=Lifetime Engaged Users<=597.0 & 9.0<=Lifetime People who have liked your Page and engaged with your post<=378.0 & 567.0<=Lifetime Post Impressions by people who have liked your Page<=19668.5 & 570.0<=Lifetime Post Total Impressions<=6122.5 & 2333.5<=Lifetime Post Total Reach<=3346.0 & 9.0<=Lifetime Post Consumers<=2244.5 then comment: 1.0935 +/- 0.0 error, like: 1.1705 +/- 0.0 error, share: 1.2056 +/- 0.0 error, Total Interactions: 1.1704 +/- 0.0 error'"
            ],
            "application/vnd.google.colaboratory.intrinsic+json": {
              "type": "string"
            }
          },
          "metadata": {},
          "execution_count": 40
        }
      ]
    },
    {
      "cell_type": "code",
      "source": [
        "# MARLENA RULE\n",
        "MARrule_new, list_split_conditions_new"
      ],
      "metadata": {
        "colab": {
          "base_uri": "https://localhost:8080/"
        },
        "id": "RVsi5EEi5F3_",
        "outputId": "68852b38-716f-44f8-e286-e5cd0f918861"
      },
      "execution_count": null,
      "outputs": [
        {
          "output_type": "execute_result",
          "data": {
            "text/plain": [
              "(['{Lifetime People who have liked your Page and engaged with your post,\\n Lifetime Post reach by people who like your Page,\\n Lifetime Post Consumers,\\n Lifetime Post Total Reach,\\n Lifetime Post Total Impressions} -> comment:1.1026136795848607 like:1.183403860318009 share:1.218915747642533 Total Interactions:1.1830881741408132 '],\n",
              " {'Lifetime People who have liked your Page and engaged with your post': [['<=',\n",
              "    498.22],\n",
              "   ['<=', 473.39],\n",
              "   ['<=', 418.5]],\n",
              "  'Lifetime Post reach by people who like your Page': [['>', 2753.09],\n",
              "   ['<=', 10720.45]],\n",
              "  'Lifetime Post Consumers': [['>', 592.56]],\n",
              "  'Lifetime Post Total Reach': [['<=', 5463.81]],\n",
              "  'Lifetime Post Total Impressions': [['<=', 12716.8]]})"
            ]
          },
          "metadata": {},
          "execution_count": 41
        }
      ]
    },
    {
      "cell_type": "code",
      "source": [
        "# see if XMTR preds stayed the same\n",
        "decisionsAndErrors = np.round(np.array(decisionsAndErrors), decimals = 14)\n",
        "decisionsAndErrors_new = np.round(np.array(decisionsAndErrors_new), decimals = 14)\n",
        "print(\"are XMTR preds same? ->\", np.array_equal(decisionsAndErrors, decisionsAndErrors_new))"
      ],
      "metadata": {
        "colab": {
          "base_uri": "https://localhost:8080/"
        },
        "id": "76lG6yMa57OO",
        "outputId": "4524256b-d2e6-4fae-d67c-bd8538e2c196"
      },
      "execution_count": null,
      "outputs": [
        {
          "output_type": "stream",
          "name": "stdout",
          "text": [
            "are XMTR preds same? -> True\n"
          ]
        }
      ]
    },
    {
      "cell_type": "code",
      "source": [
        "# see the difference in MARLENA preds\n",
        "print(\"MARLENA dif\", abs((MarlenaPrediction - MarlenaPrediction_new).mean()))"
      ],
      "metadata": {
        "colab": {
          "base_uri": "https://localhost:8080/"
        },
        "id": "v0E6_KCe6M36",
        "outputId": "0feb5ea1-be66-4061-90bb-b2e3d853cf7d"
      },
      "execution_count": null,
      "outputs": [
        {
          "output_type": "stream",
          "name": "stdout",
          "text": [
            "MARLENA dif 0.01199338235747116\n"
          ]
        }
      ]
    },
    {
      "cell_type": "code",
      "source": [
        "print(\"MARLENA preds\")\n",
        "pred_before = scaler.inverse_transform(MarlenaPrediction.reshape(1, -1))\n",
        "pred_after = scaler.inverse_transform(MarlenaPrediction_new.reshape(1, -1))\n",
        "print(pred_before)\n",
        "print(pred_after)\n",
        "\n",
        "print(\"=============\")\n",
        "print(\"XMTR preds\")\n",
        "MTRpred = np.array([np.array(decisionsAndErrors)[:,0]])\n",
        "MTRpred_original = scaler.inverse_transform(MTRpred.reshape(1, -1))\n",
        "\n",
        "MTRpred = np.array([np.array(decisionsAndErrors_new)[:,0]])\n",
        "MTRpred_after = scaler.inverse_transform(MTRpred.reshape(1, -1))\n",
        "\n",
        "print(MTRpred_original)\n",
        "print(MTRpred_after)\n",
        "\n",
        "print(\"=============\")\n",
        "print(\"original\")\n",
        "y_original = scaler.inverse_transform(np.array([y_test[random_instance]]).reshape(1, -1))\n",
        "print(y_original)"
      ],
      "metadata": {
        "colab": {
          "base_uri": "https://localhost:8080/"
        },
        "id": "LK6X6xtR6TEu",
        "outputId": "c0d7ae9d-cbda-4952-feb4-e185e84d1242"
      },
      "execution_count": null,
      "outputs": [
        {
          "output_type": "stream",
          "name": "stdout",
          "text": [
            "MARLENA preds\n",
            "[[  3.86516837  98.00237465  18.04796335 119.91550637]]\n",
            "[[  4.24136542 105.39608506  19.21593785 128.85338833]]\n",
            "=============\n",
            "XMTR preds\n",
            "[[  3.86516837  98.00237465  18.04796335 119.91550637]]\n",
            "[[  3.86516837  98.00237465  18.04796335 119.91550637]]\n",
            "=============\n",
            "original\n",
            "[[  0.  87.  18. 105.]]\n"
          ]
        }
      ]
    },
    {
      "cell_type": "markdown",
      "source": [
        "# ALTER FEATURES THAT ARE ONLY IN MARLENA RULE"
      ],
      "metadata": {
        "id": "ejFyoOOf6jNT"
      }
    },
    {
      "cell_type": "code",
      "source": [
        "# for the features that are only in the MARLENA rule, multiply them by 10^5\n",
        "instance_altered2 = instance.copy()\n",
        "for f in ft_extra_on_MARLENA:\n",
        "  index = index_of_features[f] # get the index of that feature\n",
        "  instance_altered2[index] = instance[index]*(10**10)\n",
        "  print(\"feature:\", f, \" from \", instance[index], \" to \", instance_altered2[index])"
      ],
      "metadata": {
        "colab": {
          "base_uri": "https://localhost:8080/"
        },
        "id": "HQTE4MZC6pVt",
        "outputId": "f4f6e5ce-159c-4620-f343-a03f02a3330a"
      },
      "execution_count": 101,
      "outputs": [
        {
          "output_type": "stream",
          "name": "stdout",
          "text": [
            "feature: Lifetime Post Consumptions  from  552.0  to  5520000000000.0\n"
          ]
        }
      ]
    },
    {
      "cell_type": "markdown",
      "source": [
        "CREATE EXPLANATIONS FOR THE ALTERED INSTANCE"
      ],
      "metadata": {
        "id": "5k7XqtRf7nEJ"
      }
    },
    {
      "cell_type": "code",
      "source": [
        "# XMTR\n",
        "MTRrule_new2 = MTR_obj.explain(instance_altered2, error)\n",
        "feature_limits_new2 = MTR_obj.getFeatureLimits()\n",
        "decisionsAndErrors_new2 = MTR_obj.getDecisionsAndErros()\n",
        "\n",
        "# MARLENA\n",
        "marlena_new2 = MARLENA(neigh_type='mixed', random_state=42)\n",
        "i2e_new2 = pd.Series(instance_altered2, index=f_n)\n",
        "X2E_new2 = pd.DataFrame(X_train, columns=f_n)\n",
        "# returns rule, mask(MarlenaPrediction), list_split_conditions, len_rule, instance_imporant_feat, fidelity, hit, DT\n",
        "MARrule_new2, MarlenaPrediction_new2, list_split_conditions_new2, len_rule_new2, _, _, _, _ = marlena_new2.extract_explanation(i2e_new2, X2E_new2, model, f_n, [],\n",
        "                                          t_n, k=10, size=50, alpha=0.7)\n"
      ],
      "metadata": {
        "id": "Cq5KLMSP7aG6"
      },
      "execution_count": 107,
      "outputs": []
    },
    {
      "cell_type": "code",
      "source": [
        "# XMTR RULE\n",
        "MTRrule_new2"
      ],
      "metadata": {
        "colab": {
          "base_uri": "https://localhost:8080/",
          "height": 88
        },
        "id": "S08INXd_75Xe",
        "outputId": "f24e7b70-ac1d-42cb-9937-d0db54de625f"
      },
      "execution_count": 103,
      "outputs": [
        {
          "output_type": "execute_result",
          "data": {
            "text/plain": [
              "'if 236.0<=Lifetime Post reach by people who like your Page<=9150.0 & 341.0<=Lifetime Engaged Users<=597.0 & 9.0<=Lifetime People who have liked your Page and engaged with your post<=378.0 & 567.0<=Lifetime Post Impressions by people who have liked your Page<=19668.5 & 570.0<=Lifetime Post Total Impressions<=6122.5 & 2333.5<=Lifetime Post Total Reach<=3346.0 & 9.0<=Lifetime Post Consumers<=2244.5 then comment: 1.0935 +/- 0.0 error, like: 1.1705 +/- 0.0 error, share: 1.2056 +/- 0.0 error, Total Interactions: 1.1704 +/- 0.0 error'"
            ],
            "application/vnd.google.colaboratory.intrinsic+json": {
              "type": "string"
            }
          },
          "metadata": {},
          "execution_count": 103
        }
      ]
    },
    {
      "cell_type": "code",
      "source": [
        "# MARLENA RULE\n",
        "MARrule_new2, list_split_conditions_new2"
      ],
      "metadata": {
        "colab": {
          "base_uri": "https://localhost:8080/"
        },
        "id": "3T1RSq1c7_Rn",
        "outputId": "fc1bab3c-82d0-42a8-fb10-0ba902bc223f"
      },
      "execution_count": 104,
      "outputs": [
        {
          "output_type": "execute_result",
          "data": {
            "text/plain": [
              "(['{Lifetime People who have liked your Page and engaged with your post,\\n Lifetime Post Total Impressions,\\n Lifetime Post Total Reach,\\n Lifetime Engaged Users,\\n Post Hour} -> comment:1.093512138046181 like:1.170537774906238 share:1.2056097090262126 Total Interactions:1.1703883102776997 '],\n",
              " {'Lifetime People who have liked your Page and engaged with your post': [['<=',\n",
              "    488.66],\n",
              "   ['<=', 445.96]],\n",
              "  'Lifetime Post Total Impressions': [['<=', 6615.25]],\n",
              "  'Lifetime Post Total Reach': [['<=', 4315.48]],\n",
              "  'Lifetime Engaged Users': [['<=', 639.88]],\n",
              "  'Post Hour': [['<=', 15.5]]})"
            ]
          },
          "metadata": {},
          "execution_count": 104
        }
      ]
    },
    {
      "cell_type": "code",
      "source": [
        "# see if XMTR preds stayed the same\n",
        "decisionsAndErrors = np.round(np.array(decisionsAndErrors), decimals = 14)\n",
        "decisionsAndErrors_new2 = np.round(np.array(decisionsAndErrors_new2), decimals = 14)\n",
        "print(\"are XMTR preds same? ->\", np.array_equal(decisionsAndErrors, decisionsAndErrors_new2))"
      ],
      "metadata": {
        "colab": {
          "base_uri": "https://localhost:8080/"
        },
        "id": "5nFPFtHh8SV5",
        "outputId": "61675555-b2ad-44ed-f46a-bf85f5d66c2c"
      },
      "execution_count": 105,
      "outputs": [
        {
          "output_type": "stream",
          "name": "stdout",
          "text": [
            "are XMTR preds same? -> True\n"
          ]
        }
      ]
    },
    {
      "cell_type": "code",
      "source": [
        "# see the difference in MARLENA preds\n",
        "print(\"MARLENA dif\", abs((MarlenaPrediction - MarlenaPrediction_new2).mean()))"
      ],
      "metadata": {
        "colab": {
          "base_uri": "https://localhost:8080/"
        },
        "id": "YGqIVJ-O8ab4",
        "outputId": "8c739b4d-5c5f-418c-dde5-d6feabc2a939"
      },
      "execution_count": 108,
      "outputs": [
        {
          "output_type": "stream",
          "name": "stdout",
          "text": [
            "MARLENA dif 5.551115123125783e-17\n"
          ]
        }
      ]
    },
    {
      "cell_type": "code",
      "source": [
        "for i in range(len(MarlenaPrediction_new2)):\n",
        "  print(MarlenaPrediction[i], \"->\", MarlenaPrediction_new2[i])"
      ],
      "metadata": {
        "colab": {
          "base_uri": "https://localhost:8080/"
        },
        "id": "-9RDxBNP-hlD",
        "outputId": "f19a3e4c-be0a-4f28-f0df-56557b8a0c6a"
      },
      "execution_count": 109,
      "outputs": [
        {
          "output_type": "stream",
          "name": "stdout",
          "text": [
            "1.093512138046181 -> 1.093512138046181\n",
            "1.170537774906238 -> 1.170537774906238\n",
            "1.2056097090262126 -> 1.2056097090262123\n",
            "1.1703883102776997 -> 1.1703883102776997\n"
          ]
        }
      ]
    },
    {
      "cell_type": "code",
      "source": [
        "np.set_printoptions(precision=16)\n",
        "print(\"MARLENA preds\")\n",
        "pred_before = scaler.inverse_transform(MarlenaPrediction.reshape(1, -1))\n",
        "pred_after = scaler.inverse_transform(MarlenaPrediction_new2.reshape(1, -1))\n",
        "\n",
        "print(pred_before)\n",
        "print(pred_after)\n",
        "\n",
        "print(\"=============\")\n",
        "print(\"XMTR preds\")\n",
        "MTRpred = np.array([np.array(decisionsAndErrors)[:,0]])\n",
        "MTRpred_original = scaler.inverse_transform(MTRpred.reshape(1, -1))\n",
        "\n",
        "MTRpred = np.array([np.array(decisionsAndErrors_new2)[:,0]])\n",
        "MTRpred_after = scaler.inverse_transform(MTRpred.reshape(1, -1))\n",
        "\n",
        "print(MTRpred_original)\n",
        "print(MTRpred_after)\n",
        "\n",
        "print(\"=============\")\n",
        "print(\"original\")\n",
        "y_original = scaler.inverse_transform(np.array([y_test[random_instance]]).reshape(1, -1))\n",
        "print(y_original)"
      ],
      "metadata": {
        "colab": {
          "base_uri": "https://localhost:8080/"
        },
        "id": "8yEMOPiS9MBO",
        "outputId": "49784c35-96c1-4b96-862c-c2e86886accf"
      },
      "execution_count": 115,
      "outputs": [
        {
          "output_type": "stream",
          "name": "stdout",
          "text": [
            "MARLENA preds\n",
            "[[  3.8651683725754804  98.00237464611811    18.047963347856435\n",
            "  119.91550636655002  ]]\n",
            "[[  3.8651683725754804  98.00237464611811    18.047963347856417\n",
            "  119.91550636655002  ]]\n",
            "=============\n",
            "XMTR preds\n",
            "[[  3.8651683725754435  98.00237464611926    18.047963347856204\n",
            "  119.91550636655018  ]]\n",
            "[[  3.8651683725754893  98.00237464611811    18.047963347856417\n",
            "  119.91550636655002  ]]\n",
            "=============\n",
            "original\n",
            "[[  0.                87.00000000000007  18.\n",
            "  105.00000000000001]]\n"
          ]
        }
      ]
    }
  ]
}