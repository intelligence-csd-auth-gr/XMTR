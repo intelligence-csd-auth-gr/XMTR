{
  "nbformat": 4,
  "nbformat_minor": 0,
  "metadata": {
    "colab": {
      "provenance": []
    },
    "kernelspec": {
      "name": "python3",
      "display_name": "Python 3"
    },
    "language_info": {
      "name": "python"
    }
  },
  "cells": [
    {
      "cell_type": "code",
      "execution_count": null,
      "metadata": {
        "colab": {
          "base_uri": "https://localhost:8080/"
        },
        "id": "T-5j4O61v0oc",
        "outputId": "574ebb21-36ff-4a55-bdbd-2ca5fe7c3844"
      },
      "outputs": [
        {
          "output_type": "stream",
          "name": "stdout",
          "text": [
            "1 / 72 | max_depth= 2  |  min_sample_leaf= 5  |  max_f= sqrt  |  est= 100 mae= 0.13905740290611496\n",
            "2 / 72 | max_depth= 2  |  min_sample_leaf= 5  |  max_f= sqrt  |  est= 500 mae= 0.13810806245505342\n",
            "3 / 72 | max_depth= 2  |  min_sample_leaf= 5  |  max_f= sqrt  |  est= 1000 mae= 0.13869566626796206\n",
            "4 / 72 | max_depth= 2  |  min_sample_leaf= 5  |  max_f= log2  |  est= 100 mae= 0.13905740290611496\n",
            "5 / 72 | max_depth= 2  |  min_sample_leaf= 5  |  max_f= log2  |  est= 500 mae= 0.13810806245505342\n",
            "6 / 72 | max_depth= 2  |  min_sample_leaf= 5  |  max_f= log2  |  est= 1000 mae= 0.13869566626796206\n",
            "7 / 72 | max_depth= 2  |  min_sample_leaf= 5  |  max_f= 0.75  |  est= 100 mae= 0.14359264838544764\n",
            "8 / 72 | max_depth= 2  |  min_sample_leaf= 5  |  max_f= 0.75  |  est= 500 mae= 0.13814665256727993\n",
            "9 / 72 | max_depth= 2  |  min_sample_leaf= 5  |  max_f= 0.75  |  est= 1000 mae= 0.1383630585091286\n",
            "10 / 72 | max_depth= 2  |  min_sample_leaf= 5  |  max_f= None  |  est= 100 mae= 0.14182974706703794\n",
            "11 / 72 | max_depth= 2  |  min_sample_leaf= 5  |  max_f= None  |  est= 500 mae= 0.13947508791772284\n",
            "12 / 72 | max_depth= 2  |  min_sample_leaf= 5  |  max_f= None  |  est= 1000 mae= 0.1396528536242524\n",
            "13 / 72 | max_depth= 2  |  min_sample_leaf= 10  |  max_f= sqrt  |  est= 100 mae= 0.12971175085039488\n",
            "14 / 72 | max_depth= 2  |  min_sample_leaf= 10  |  max_f= sqrt  |  est= 500 mae= 0.12883751650893313\n",
            "15 / 72 | max_depth= 2  |  min_sample_leaf= 10  |  max_f= sqrt  |  est= 1000 mae= 0.12990814042209997\n",
            "16 / 72 | max_depth= 2  |  min_sample_leaf= 10  |  max_f= log2  |  est= 100 mae= 0.12971175085039488\n",
            "17 / 72 | max_depth= 2  |  min_sample_leaf= 10  |  max_f= log2  |  est= 500 mae= 0.12883751650893313\n",
            "18 / 72 | max_depth= 2  |  min_sample_leaf= 10  |  max_f= log2  |  est= 1000 mae= 0.12990814042209997\n",
            "19 / 72 | max_depth= 2  |  min_sample_leaf= 10  |  max_f= 0.75  |  est= 100 mae= 0.1339341965789312\n",
            "20 / 72 | max_depth= 2  |  min_sample_leaf= 10  |  max_f= 0.75  |  est= 500 mae= 0.13095951769270125\n",
            "21 / 72 | max_depth= 2  |  min_sample_leaf= 10  |  max_f= 0.75  |  est= 1000 mae= 0.13070834538069837\n",
            "22 / 72 | max_depth= 2  |  min_sample_leaf= 10  |  max_f= None  |  est= 100 mae= 0.13456336960396384\n",
            "23 / 72 | max_depth= 2  |  min_sample_leaf= 10  |  max_f= None  |  est= 500 mae= 0.13300144642916722\n",
            "24 / 72 | max_depth= 2  |  min_sample_leaf= 10  |  max_f= None  |  est= 1000 mae= 0.13271287242993593\n",
            "25 / 72 | max_depth= 5  |  min_sample_leaf= 5  |  max_f= sqrt  |  est= 100 mae= 0.11593371389761045\n",
            "26 / 72 | max_depth= 5  |  min_sample_leaf= 5  |  max_f= sqrt  |  est= 500 mae= 0.11444506359060945\n",
            "27 / 72 | max_depth= 5  |  min_sample_leaf= 5  |  max_f= sqrt  |  est= 1000 mae= 0.11472255120654255\n",
            "28 / 72 | max_depth= 5  |  min_sample_leaf= 5  |  max_f= log2  |  est= 100 mae= 0.11593371389761045\n",
            "29 / 72 | max_depth= 5  |  min_sample_leaf= 5  |  max_f= log2  |  est= 500 mae= 0.11444506359060946\n",
            "30 / 72 | max_depth= 5  |  min_sample_leaf= 5  |  max_f= log2  |  est= 1000 mae= 0.11472255120654258\n",
            "31 / 72 | max_depth= 5  |  min_sample_leaf= 5  |  max_f= 0.75  |  est= 100 mae= 0.11407698827054742\n",
            "32 / 72 | max_depth= 5  |  min_sample_leaf= 5  |  max_f= 0.75  |  est= 500 mae= 0.11103403203913788\n",
            "33 / 72 | max_depth= 5  |  min_sample_leaf= 5  |  max_f= 0.75  |  est= 1000 mae= 0.11160689387126449\n",
            "34 / 72 | max_depth= 5  |  min_sample_leaf= 5  |  max_f= None  |  est= 100 mae= 0.11219801607814192\n",
            "35 / 72 | max_depth= 5  |  min_sample_leaf= 5  |  max_f= None  |  est= 500 mae= 0.11162357305977699\n",
            "36 / 72 | max_depth= 5  |  min_sample_leaf= 5  |  max_f= None  |  est= 1000 mae= 0.11137584934394784\n",
            "37 / 72 | max_depth= 5  |  min_sample_leaf= 10  |  max_f= sqrt  |  est= 100 mae= 0.11622315414225165\n",
            "38 / 72 | max_depth= 5  |  min_sample_leaf= 10  |  max_f= sqrt  |  est= 500 mae= 0.11262262179266007\n",
            "39 / 72 | max_depth= 5  |  min_sample_leaf= 10  |  max_f= sqrt  |  est= 1000 mae= 0.112096121384262\n",
            "40 / 72 | max_depth= 5  |  min_sample_leaf= 10  |  max_f= log2  |  est= 100 mae= 0.11622315414225165\n",
            "41 / 72 | max_depth= 5  |  min_sample_leaf= 10  |  max_f= log2  |  est= 500 mae= 0.11262262179266007\n",
            "42 / 72 | max_depth= 5  |  min_sample_leaf= 10  |  max_f= log2  |  est= 1000 mae= 0.11209612138426198\n",
            "43 / 72 | max_depth= 5  |  min_sample_leaf= 10  |  max_f= 0.75  |  est= 100 mae= 0.11194069409425278\n",
            "44 / 72 | max_depth= 5  |  min_sample_leaf= 10  |  max_f= 0.75  |  est= 500 mae= 0.11034742080086862\n",
            "45 / 72 | max_depth= 5  |  min_sample_leaf= 10  |  max_f= 0.75  |  est= 1000 mae= 0.10950821186037707\n",
            "46 / 72 | max_depth= 5  |  min_sample_leaf= 10  |  max_f= None  |  est= 100 mae= 0.10925837720834139\n",
            "47 / 72 | max_depth= 5  |  min_sample_leaf= 10  |  max_f= None  |  est= 500 mae= 0.10862926074865492\n",
            "48 / 72 | max_depth= 5  |  min_sample_leaf= 10  |  max_f= None  |  est= 1000 mae= 0.10792137988068853\n",
            "49 / 72 | max_depth= 10  |  min_sample_leaf= 5  |  max_f= sqrt  |  est= 100 mae= 0.11099545343779108\n",
            "50 / 72 | max_depth= 10  |  min_sample_leaf= 5  |  max_f= sqrt  |  est= 500 mae= 0.10679651362664967\n",
            "51 / 72 | max_depth= 10  |  min_sample_leaf= 5  |  max_f= sqrt  |  est= 1000 mae= 0.10643360037408166\n",
            "52 / 72 | max_depth= 10  |  min_sample_leaf= 5  |  max_f= log2  |  est= 100 mae= 0.11099545343779105\n",
            "53 / 72 | max_depth= 10  |  min_sample_leaf= 5  |  max_f= log2  |  est= 500 mae= 0.10679651362664966\n",
            "54 / 72 | max_depth= 10  |  min_sample_leaf= 5  |  max_f= log2  |  est= 1000 mae= 0.10643360037408169\n",
            "55 / 72 | max_depth= 10  |  min_sample_leaf= 5  |  max_f= 0.75  |  est= 100 mae= 0.10324112254936836\n",
            "56 / 72 | max_depth= 10  |  min_sample_leaf= 5  |  max_f= 0.75  |  est= 500 mae= 0.1008790132759901\n",
            "57 / 72 | max_depth= 10  |  min_sample_leaf= 5  |  max_f= 0.75  |  est= 1000 mae= 0.10169288819813695\n",
            "58 / 72 | max_depth= 10  |  min_sample_leaf= 5  |  max_f= None  |  est= 100 mae= 0.10252090807639881\n",
            "59 / 72 | max_depth= 10  |  min_sample_leaf= 5  |  max_f= None  |  est= 500 mae= 0.10105720520730105\n",
            "60 / 72 | max_depth= 10  |  min_sample_leaf= 5  |  max_f= None  |  est= 1000 mae= 0.1008904947161239\n",
            "61 / 72 | max_depth= 10  |  min_sample_leaf= 10  |  max_f= sqrt  |  est= 100 mae= 0.11137676575395483\n",
            "62 / 72 | max_depth= 10  |  min_sample_leaf= 10  |  max_f= sqrt  |  est= 500 mae= 0.10952329189868525\n",
            "63 / 72 | max_depth= 10  |  min_sample_leaf= 10  |  max_f= sqrt  |  est= 1000 mae= 0.10875605530297718\n",
            "64 / 72 | max_depth= 10  |  min_sample_leaf= 10  |  max_f= log2  |  est= 100 mae= 0.11137676575395483\n",
            "65 / 72 | max_depth= 10  |  min_sample_leaf= 10  |  max_f= log2  |  est= 500 mae= 0.10952329189868525\n",
            "66 / 72 | max_depth= 10  |  min_sample_leaf= 10  |  max_f= log2  |  est= 1000 mae= 0.10875605530297716\n",
            "67 / 72 | max_depth= 10  |  min_sample_leaf= 10  |  max_f= 0.75  |  est= 100 mae= 0.1063499258802624\n",
            "68 / 72 | max_depth= 10  |  min_sample_leaf= 10  |  max_f= 0.75  |  est= 500 mae= 0.1039536077310219\n",
            "69 / 72 | max_depth= 10  |  min_sample_leaf= 10  |  max_f= 0.75  |  est= 1000 mae= 0.10375970926742784\n",
            "70 / 72 | max_depth= 10  |  min_sample_leaf= 10  |  max_f= None  |  est= 100 mae= 0.10453363966691016\n",
            "71 / 72 | max_depth= 10  |  min_sample_leaf= 10  |  max_f= None  |  est= 500 mae= 0.10323528105717902\n",
            "72 / 72 | max_depth= 10  |  min_sample_leaf= 10  |  max_f= None  |  est= 1000 mae= 0.102454450860094\n"
          ]
        }
      ],
      "source": [
        "import numpy as np\n",
        "import pandas as pd\n",
        "from scipy.io import arff\n",
        "from sklearn.metrics import mean_absolute_error\n",
        "from sklearn.model_selection import train_test_split, GridSearchCV\n",
        "from sklearn.preprocessing import MinMaxScaler\n",
        "from sklearn.ensemble import RandomForestRegressor\n",
        "\n",
        "fb_df = pd.read_csv('dataset_Facebook.csv', sep=';')#, nrows=200)\n",
        "\n",
        "# fill NaN\n",
        "fb_df['like'].fillna(0,inplace=True)\n",
        "fb_df['share'].fillna(0,inplace=True)\n",
        "fb_df['Paid'].fillna(0,inplace=True)\n",
        "fb_df.drop(['Type'], inplace=True, axis=1)\n",
        "\n",
        "\n",
        "# get column names\n",
        "column_names = fb_df.columns\n",
        "\n",
        "# get data/target names\n",
        "f_n = column_names[:14]\n",
        "t_n = column_names[14:]\n",
        "\n",
        "X = fb_df[f_n]\n",
        "y = fb_df[t_n]\n",
        "\n",
        "# convert to numpy\n",
        "X = X.to_numpy()\n",
        "y = y.to_numpy()\n",
        "\n",
        "scaler = MinMaxScaler(feature_range=(1,10))\n",
        "y = scaler.fit_transform(y)\n",
        "\n",
        "# split data\n",
        "X_train, X_test, y_train, y_test = train_test_split(X, y, test_size=.1, random_state=42)\n",
        "\n",
        "\n",
        "max_ds = [2, 5, 10]\n",
        "min_s_ls = [5, 10]\n",
        "m_fs = ['sqrt', 'log2', 0.75, None]\n",
        "ests = [100, 500, 1000]\n",
        "total = (len(max_ds)*len(min_s_ls)*len(m_fs)*len(ests))\n",
        "counter = 1\n",
        "min_mae = 10**10 # just a ref, should be > than len(feature_names)\n",
        "for max_d in max_ds:\n",
        "  for min_s_l in min_s_ls:\n",
        "    for m_f in m_fs:\n",
        "      for est in ests:\n",
        "        RFmodel = RandomForestRegressor(n_estimators=est, max_depth=max_d, min_samples_leaf=min_s_l, max_features=m_f, n_jobs=-1, random_state=42)\n",
        "        RFmodel.fit(X_train, y_train)\n",
        "        pred = RFmodel.predict(X_test)\n",
        "        mae = mean_absolute_error(pred, y_test)\n",
        "        if mae < min_mae:\n",
        "          min_mae = mae\n",
        "          best_par = {\"test:\":counter, \"max_d=\":max_d, \"min_s_l=\":min_s_l, \"m_f=\": m_f, \"est=\": est, \"mae=\": min_mae}\n",
        "        print(counter, '/', total, \"| max_depth=\",max_d,\" | \", \"min_sample_leaf=\",min_s_l,\" | \", \"max_f=\", m_f,\" | \", \"est=\", est, \"mae=\", mae)\n",
        "        #print(\" \", pred[1])\n",
        "        #print(\" \", y_test[1])\n",
        "        counter += 1"
      ]
    },
    {
      "cell_type": "code",
      "source": [
        "best_par"
      ],
      "metadata": {
        "colab": {
          "base_uri": "https://localhost:8080/"
        },
        "id": "_qbaGuYUwLHi",
        "outputId": "1b5f17a2-f701-4bc1-e1d8-bd82ea6b322f"
      },
      "execution_count": null,
      "outputs": [
        {
          "output_type": "execute_result",
          "data": {
            "text/plain": [
              "{'test:': 56,\n",
              " 'max_d=': 10,\n",
              " 'min_s_l=': 5,\n",
              " 'm_f=': 0.75,\n",
              " 'est=': 500,\n",
              " 'mae=': 0.1008790132759901}"
            ]
          },
          "metadata": {},
          "execution_count": 3
        }
      ]
    }
  ]
}