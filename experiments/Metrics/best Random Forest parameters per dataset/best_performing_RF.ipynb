{
  "nbformat": 4,
  "nbformat_minor": 0,
  "metadata": {
    "colab": {
      "provenance": []
    },
    "kernelspec": {
      "name": "python3",
      "display_name": "Python 3"
    },
    "language_info": {
      "name": "python"
    }
  },
  "cells": [
    {
      "cell_type": "code",
      "execution_count": null,
      "metadata": {
        "colab": {
          "base_uri": "https://localhost:8080/"
        },
        "id": "LVDDr4Vxytg-",
        "outputId": "0f988525-d8ea-4aaa-8f1e-3919bbea27d6"
      },
      "outputs": [
        {
          "output_type": "stream",
          "name": "stdout",
          "text": [
            "1 / 72 | max_depth= 2  |  min_sample_leaf= 5  |  max_f= sqrt  |  est= 100 mae= 1.198365432771835\n",
            "2 / 72 | max_depth= 2  |  min_sample_leaf= 5  |  max_f= sqrt  |  est= 500 mae= 1.201626084597482\n",
            "3 / 72 | max_depth= 2  |  min_sample_leaf= 5  |  max_f= sqrt  |  est= 1000 mae= 1.1996569715428942\n",
            "4 / 72 | max_depth= 2  |  min_sample_leaf= 5  |  max_f= log2  |  est= 100 mae= 1.24419643692468\n",
            "5 / 72 | max_depth= 2  |  min_sample_leaf= 5  |  max_f= log2  |  est= 500 mae= 1.2428193242626544\n",
            "6 / 72 | max_depth= 2  |  min_sample_leaf= 5  |  max_f= log2  |  est= 1000 mae= 1.2418425867515217\n",
            "7 / 72 | max_depth= 2  |  min_sample_leaf= 5  |  max_f= 0.75  |  est= 100 mae= 1.2168050103202988\n",
            "8 / 72 | max_depth= 2  |  min_sample_leaf= 5  |  max_f= 0.75  |  est= 500 mae= 1.218243204232088\n",
            "9 / 72 | max_depth= 2  |  min_sample_leaf= 5  |  max_f= 0.75  |  est= 1000 mae= 1.2211461738228042\n",
            "10 / 72 | max_depth= 2  |  min_sample_leaf= 5  |  max_f= None  |  est= 100 mae= 1.2251094116552137\n",
            "11 / 72 | max_depth= 2  |  min_sample_leaf= 5  |  max_f= None  |  est= 500 mae= 1.2271320338721443\n",
            "12 / 72 | max_depth= 2  |  min_sample_leaf= 5  |  max_f= None  |  est= 1000 mae= 1.2306441901987957\n",
            "13 / 72 | max_depth= 2  |  min_sample_leaf= 10  |  max_f= sqrt  |  est= 100 mae= 1.1991726810948136\n",
            "14 / 72 | max_depth= 2  |  min_sample_leaf= 10  |  max_f= sqrt  |  est= 500 mae= 1.20210981505823\n",
            "15 / 72 | max_depth= 2  |  min_sample_leaf= 10  |  max_f= sqrt  |  est= 1000 mae= 1.2000128379944663\n",
            "16 / 72 | max_depth= 2  |  min_sample_leaf= 10  |  max_f= log2  |  est= 100 mae= 1.2449989436749211\n",
            "17 / 72 | max_depth= 2  |  min_sample_leaf= 10  |  max_f= log2  |  est= 500 mae= 1.2444746248646434\n",
            "18 / 72 | max_depth= 2  |  min_sample_leaf= 10  |  max_f= log2  |  est= 1000 mae= 1.2429525328134328\n",
            "19 / 72 | max_depth= 2  |  min_sample_leaf= 10  |  max_f= 0.75  |  est= 100 mae= 1.2168050103202988\n",
            "20 / 72 | max_depth= 2  |  min_sample_leaf= 10  |  max_f= 0.75  |  est= 500 mae= 1.2182432042320883\n",
            "21 / 72 | max_depth= 2  |  min_sample_leaf= 10  |  max_f= 0.75  |  est= 1000 mae= 1.2211461738228044\n",
            "22 / 72 | max_depth= 2  |  min_sample_leaf= 10  |  max_f= None  |  est= 100 mae= 1.2251094116552137\n",
            "23 / 72 | max_depth= 2  |  min_sample_leaf= 10  |  max_f= None  |  est= 500 mae= 1.2271320338721443\n",
            "24 / 72 | max_depth= 2  |  min_sample_leaf= 10  |  max_f= None  |  est= 1000 mae= 1.2306441901987955\n",
            "25 / 72 | max_depth= 5  |  min_sample_leaf= 5  |  max_f= sqrt  |  est= 100 mae= 0.5502984736977845\n",
            "26 / 72 | max_depth= 5  |  min_sample_leaf= 5  |  max_f= sqrt  |  est= 500 mae= 0.550354159703611\n",
            "27 / 72 | max_depth= 5  |  min_sample_leaf= 5  |  max_f= sqrt  |  est= 1000 mae= 0.55277305870498\n",
            "28 / 72 | max_depth= 5  |  min_sample_leaf= 5  |  max_f= log2  |  est= 100 mae= 0.6044150670304707\n",
            "29 / 72 | max_depth= 5  |  min_sample_leaf= 5  |  max_f= log2  |  est= 500 mae= 0.6055804094197448\n",
            "30 / 72 | max_depth= 5  |  min_sample_leaf= 5  |  max_f= log2  |  est= 1000 mae= 0.6054902513264979\n",
            "31 / 72 | max_depth= 5  |  min_sample_leaf= 5  |  max_f= 0.75  |  est= 100 mae= 0.5294331042908935\n",
            "32 / 72 | max_depth= 5  |  min_sample_leaf= 5  |  max_f= 0.75  |  est= 500 mae= 0.5321885768370076\n",
            "33 / 72 | max_depth= 5  |  min_sample_leaf= 5  |  max_f= 0.75  |  est= 1000 mae= 0.5325763289848128\n",
            "34 / 72 | max_depth= 5  |  min_sample_leaf= 5  |  max_f= None  |  est= 100 mae= 0.5478519725762718\n",
            "35 / 72 | max_depth= 5  |  min_sample_leaf= 5  |  max_f= None  |  est= 500 mae= 0.5492808296522705\n",
            "36 / 72 | max_depth= 5  |  min_sample_leaf= 5  |  max_f= None  |  est= 1000 mae= 0.5494093595493637\n",
            "37 / 72 | max_depth= 5  |  min_sample_leaf= 10  |  max_f= sqrt  |  est= 100 mae= 0.6361735545014855\n",
            "38 / 72 | max_depth= 5  |  min_sample_leaf= 10  |  max_f= sqrt  |  est= 500 mae= 0.633683291976552\n",
            "39 / 72 | max_depth= 5  |  min_sample_leaf= 10  |  max_f= sqrt  |  est= 1000 mae= 0.6354383857106618\n",
            "40 / 72 | max_depth= 5  |  min_sample_leaf= 10  |  max_f= log2  |  est= 100 mae= 0.6688493378995017\n",
            "41 / 72 | max_depth= 5  |  min_sample_leaf= 10  |  max_f= log2  |  est= 500 mae= 0.6770914016963837\n",
            "42 / 72 | max_depth= 5  |  min_sample_leaf= 10  |  max_f= log2  |  est= 1000 mae= 0.6827777346602609\n",
            "43 / 72 | max_depth= 5  |  min_sample_leaf= 10  |  max_f= 0.75  |  est= 100 mae= 0.6126283279118822\n",
            "44 / 72 | max_depth= 5  |  min_sample_leaf= 10  |  max_f= 0.75  |  est= 500 mae= 0.6172772546456256\n",
            "45 / 72 | max_depth= 5  |  min_sample_leaf= 10  |  max_f= 0.75  |  est= 1000 mae= 0.6178692483147719\n",
            "46 / 72 | max_depth= 5  |  min_sample_leaf= 10  |  max_f= None  |  est= 100 mae= 0.6406720190635096\n",
            "47 / 72 | max_depth= 5  |  min_sample_leaf= 10  |  max_f= None  |  est= 500 mae= 0.6385280618027849\n",
            "48 / 72 | max_depth= 5  |  min_sample_leaf= 10  |  max_f= None  |  est= 1000 mae= 0.6399420452748914\n",
            "49 / 72 | max_depth= 10  |  min_sample_leaf= 5  |  max_f= sqrt  |  est= 100 mae= 0.34476207020051947\n",
            "50 / 72 | max_depth= 10  |  min_sample_leaf= 5  |  max_f= sqrt  |  est= 500 mae= 0.3480773657500169\n",
            "51 / 72 | max_depth= 10  |  min_sample_leaf= 5  |  max_f= sqrt  |  est= 1000 mae= 0.3464767079688612\n",
            "52 / 72 | max_depth= 10  |  min_sample_leaf= 5  |  max_f= log2  |  est= 100 mae= 0.36799287514830553\n",
            "53 / 72 | max_depth= 10  |  min_sample_leaf= 5  |  max_f= log2  |  est= 500 mae= 0.3726067095623167\n",
            "54 / 72 | max_depth= 10  |  min_sample_leaf= 5  |  max_f= log2  |  est= 1000 mae= 0.37413820436733614\n",
            "55 / 72 | max_depth= 10  |  min_sample_leaf= 5  |  max_f= 0.75  |  est= 100 mae= 0.35193689278102924\n",
            "56 / 72 | max_depth= 10  |  min_sample_leaf= 5  |  max_f= 0.75  |  est= 500 mae= 0.35823787207604973\n",
            "57 / 72 | max_depth= 10  |  min_sample_leaf= 5  |  max_f= 0.75  |  est= 1000 mae= 0.3565561558617931\n",
            "58 / 72 | max_depth= 10  |  min_sample_leaf= 5  |  max_f= None  |  est= 100 mae= 0.3683914624689846\n",
            "59 / 72 | max_depth= 10  |  min_sample_leaf= 5  |  max_f= None  |  est= 500 mae= 0.3740456872556967\n",
            "60 / 72 | max_depth= 10  |  min_sample_leaf= 5  |  max_f= None  |  est= 1000 mae= 0.3732548106291868\n",
            "61 / 72 | max_depth= 10  |  min_sample_leaf= 10  |  max_f= sqrt  |  est= 100 mae= 0.48253161557942637\n",
            "62 / 72 | max_depth= 10  |  min_sample_leaf= 10  |  max_f= sqrt  |  est= 500 mae= 0.4860775294967441\n",
            "63 / 72 | max_depth= 10  |  min_sample_leaf= 10  |  max_f= sqrt  |  est= 1000 mae= 0.4860360454755709\n",
            "64 / 72 | max_depth= 10  |  min_sample_leaf= 10  |  max_f= log2  |  est= 100 mae= 0.5245103501272885\n",
            "65 / 72 | max_depth= 10  |  min_sample_leaf= 10  |  max_f= log2  |  est= 500 mae= 0.5249042901626138\n",
            "66 / 72 | max_depth= 10  |  min_sample_leaf= 10  |  max_f= log2  |  est= 1000 mae= 0.5236390907583552\n",
            "67 / 72 | max_depth= 10  |  min_sample_leaf= 10  |  max_f= 0.75  |  est= 100 mae= 0.4788363776218567\n",
            "68 / 72 | max_depth= 10  |  min_sample_leaf= 10  |  max_f= 0.75  |  est= 500 mae= 0.4888148258624303\n",
            "69 / 72 | max_depth= 10  |  min_sample_leaf= 10  |  max_f= 0.75  |  est= 1000 mae= 0.4885123224346423\n",
            "70 / 72 | max_depth= 10  |  min_sample_leaf= 10  |  max_f= None  |  est= 100 mae= 0.5104342970624491\n",
            "71 / 72 | max_depth= 10  |  min_sample_leaf= 10  |  max_f= None  |  est= 500 mae= 0.5132441855361463\n",
            "72 / 72 | max_depth= 10  |  min_sample_leaf= 10  |  max_f= None  |  est= 1000 mae= 0.514653291927367\n"
          ]
        }
      ],
      "source": [
        "import numpy as np\n",
        "import pandas as pd\n",
        "from scipy.io import arff\n",
        "from sklearn.metrics import mean_absolute_error\n",
        "from sklearn.model_selection import train_test_split, GridSearchCV\n",
        "from sklearn.preprocessing import MinMaxScaler\n",
        "from sklearn.ensemble import RandomForestRegressor\n",
        "\n",
        "RF2_df = pd.read_csv('RF2.csv')\n",
        "RF2_df = RF2_df.dropna(axis=0)\n",
        "\n",
        "RF2_cols = RF2_df.columns\n",
        "RF2_df = RF2_df[RF2_cols[1:]].reset_index(drop=True)\n",
        "RF2_df = RF2_df.iloc[:500]\n",
        "\n",
        "RF2_cols = RF2_df.columns\n",
        "f_n = RF2_cols[:200]\n",
        "t_n = RF2_cols[576:]\n",
        "#f_n = f_n[:15]\n",
        "#t_n = t_n[:5]\n",
        "\n",
        "X = RF2_df[f_n]\n",
        "y = RF2_df[t_n]\n",
        "\n",
        "# convert to numpy\n",
        "X = X.to_numpy()\n",
        "y = y.to_numpy()\n",
        "\n",
        "scaler = MinMaxScaler(feature_range=(0,10))\n",
        "y = scaler.fit_transform(y)\n",
        "\n",
        "# split data\n",
        "X_train, X_test, y_train, y_test = train_test_split(X, y, test_size=.1, random_state=42)\n",
        "\n",
        "max_ds = [2, 5, 10]\n",
        "min_s_ls = [5, 10]\n",
        "m_fs = ['sqrt', 'log2', 0.75, None]\n",
        "ests = [100, 500, 1000]\n",
        "total = (len(max_ds)*len(min_s_ls)*len(m_fs)*len(ests))\n",
        "counter = 1\n",
        "min_mae = 10**10 # just a ref, should be > than len(feature_names)\n",
        "for max_d in max_ds:\n",
        "  for min_s_l in min_s_ls:\n",
        "    for m_f in m_fs:\n",
        "      for est in ests:\n",
        "        RFmodel = RandomForestRegressor(n_estimators=est, max_depth=max_d, min_samples_leaf=min_s_l, max_features=m_f, n_jobs=-1, random_state=42)\n",
        "        RFmodel.fit(X_train, y_train)\n",
        "        pred = RFmodel.predict(X_test)\n",
        "        mae = mean_absolute_error(pred, y_test)\n",
        "        if mae < min_mae:\n",
        "          min_mae = mae\n",
        "          best_par = {\"test:\":counter, \"max_d=\":max_d, \"min_s_l=\":min_s_l, \"m_f=\": m_f, \"est=\": est, \"mae=\": min_mae}\n",
        "        print(counter, '/', total, \"| max_depth=\",max_d,\" | \", \"min_sample_leaf=\",min_s_l,\" | \", \"max_f=\", m_f,\" | \", \"est=\", est, \"mae=\", mae)\n",
        "        #print(\" \", pred[1])\n",
        "        #print(\" \", y_test[1])\n",
        "        counter += 1"
      ]
    },
    {
      "cell_type": "code",
      "source": [
        "best_par"
      ],
      "metadata": {
        "colab": {
          "base_uri": "https://localhost:8080/"
        },
        "id": "ZY-6aiqyziQy",
        "outputId": "8b992b9c-9106-4bd4-e9e8-45766d8495e8"
      },
      "execution_count": null,
      "outputs": [
        {
          "output_type": "execute_result",
          "data": {
            "text/plain": [
              "{'test:': 49,\n",
              " 'max_d=': 10,\n",
              " 'min_s_l=': 5,\n",
              " 'm_f=': 'sqrt',\n",
              " 'est=': 100,\n",
              " 'mae=': 0.34476207020051947}"
            ]
          },
          "metadata": {},
          "execution_count": 2
        }
      ]
    }
  ]
}