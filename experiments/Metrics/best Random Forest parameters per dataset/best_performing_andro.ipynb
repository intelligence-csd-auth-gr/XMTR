{
  "nbformat": 4,
  "nbformat_minor": 0,
  "metadata": {
    "colab": {
      "provenance": []
    },
    "kernelspec": {
      "name": "python3",
      "display_name": "Python 3"
    },
    "language_info": {
      "name": "python"
    }
  },
  "cells": [
    {
      "cell_type": "code",
      "execution_count": null,
      "metadata": {
        "colab": {
          "base_uri": "https://localhost:8080/"
        },
        "id": "0ypeAVdvt662",
        "outputId": "f5e1c063-4c6a-42db-ad7e-ed499ae3701a"
      },
      "outputs": [
        {
          "output_type": "stream",
          "name": "stdout",
          "text": [
            "1 / 72 | max_depth= 2  |  min_sample_leaf= 5  |  max_f= sqrt  |  est= 100 mae= 1.50808077818073\n",
            "2 / 72 | max_depth= 2  |  min_sample_leaf= 5  |  max_f= sqrt  |  est= 500 mae= 1.5673210921106069\n",
            "3 / 72 | max_depth= 2  |  min_sample_leaf= 5  |  max_f= sqrt  |  est= 1000 mae= 1.5618475917601133\n",
            "4 / 72 | max_depth= 2  |  min_sample_leaf= 5  |  max_f= log2  |  est= 100 mae= 1.5462201853307638\n",
            "5 / 72 | max_depth= 2  |  min_sample_leaf= 5  |  max_f= log2  |  est= 500 mae= 1.5867248178123656\n",
            "6 / 72 | max_depth= 2  |  min_sample_leaf= 5  |  max_f= log2  |  est= 1000 mae= 1.588193292623908\n",
            "7 / 72 | max_depth= 2  |  min_sample_leaf= 5  |  max_f= 0.75  |  est= 100 mae= 1.47129577949503\n",
            "8 / 72 | max_depth= 2  |  min_sample_leaf= 5  |  max_f= 0.75  |  est= 500 mae= 1.5093096184355586\n",
            "9 / 72 | max_depth= 2  |  min_sample_leaf= 5  |  max_f= 0.75  |  est= 1000 mae= 1.5166754864258938\n",
            "10 / 72 | max_depth= 2  |  min_sample_leaf= 5  |  max_f= None  |  est= 100 mae= 1.4705779075459973\n",
            "11 / 72 | max_depth= 2  |  min_sample_leaf= 5  |  max_f= None  |  est= 500 mae= 1.5179969817806558\n",
            "12 / 72 | max_depth= 2  |  min_sample_leaf= 5  |  max_f= None  |  est= 1000 mae= 1.5160527047423926\n",
            "13 / 72 | max_depth= 2  |  min_sample_leaf= 10  |  max_f= sqrt  |  est= 100 mae= 2.0463426194636334\n",
            "14 / 72 | max_depth= 2  |  min_sample_leaf= 10  |  max_f= sqrt  |  est= 500 mae= 2.0827529636392224\n",
            "15 / 72 | max_depth= 2  |  min_sample_leaf= 10  |  max_f= sqrt  |  est= 1000 mae= 2.0798855120787887\n",
            "16 / 72 | max_depth= 2  |  min_sample_leaf= 10  |  max_f= log2  |  est= 100 mae= 2.0634975030207445\n",
            "17 / 72 | max_depth= 2  |  min_sample_leaf= 10  |  max_f= log2  |  est= 500 mae= 2.0910055220695227\n",
            "18 / 72 | max_depth= 2  |  min_sample_leaf= 10  |  max_f= log2  |  est= 1000 mae= 2.08717107724909\n",
            "19 / 72 | max_depth= 2  |  min_sample_leaf= 10  |  max_f= 0.75  |  est= 100 mae= 2.0157352595515055\n",
            "20 / 72 | max_depth= 2  |  min_sample_leaf= 10  |  max_f= 0.75  |  est= 500 mae= 2.0281367192815347\n",
            "21 / 72 | max_depth= 2  |  min_sample_leaf= 10  |  max_f= 0.75  |  est= 1000 mae= 2.0240944284129276\n",
            "22 / 72 | max_depth= 2  |  min_sample_leaf= 10  |  max_f= None  |  est= 100 mae= 2.006046225366814\n",
            "23 / 72 | max_depth= 2  |  min_sample_leaf= 10  |  max_f= None  |  est= 500 mae= 2.01741136163278\n",
            "24 / 72 | max_depth= 2  |  min_sample_leaf= 10  |  max_f= None  |  est= 1000 mae= 2.0125254346809123\n",
            "25 / 72 | max_depth= 5  |  min_sample_leaf= 5  |  max_f= sqrt  |  est= 100 mae= 1.4075319371462267\n",
            "26 / 72 | max_depth= 5  |  min_sample_leaf= 5  |  max_f= sqrt  |  est= 500 mae= 1.4961890569764762\n",
            "27 / 72 | max_depth= 5  |  min_sample_leaf= 5  |  max_f= sqrt  |  est= 1000 mae= 1.4875870359898002\n",
            "28 / 72 | max_depth= 5  |  min_sample_leaf= 5  |  max_f= log2  |  est= 100 mae= 1.4736672887549773\n",
            "29 / 72 | max_depth= 5  |  min_sample_leaf= 5  |  max_f= log2  |  est= 500 mae= 1.5189504557333013\n",
            "30 / 72 | max_depth= 5  |  min_sample_leaf= 5  |  max_f= log2  |  est= 1000 mae= 1.5246375651629342\n",
            "31 / 72 | max_depth= 5  |  min_sample_leaf= 5  |  max_f= 0.75  |  est= 100 mae= 1.3589410215392599\n",
            "32 / 72 | max_depth= 5  |  min_sample_leaf= 5  |  max_f= 0.75  |  est= 500 mae= 1.4049913432315664\n",
            "33 / 72 | max_depth= 5  |  min_sample_leaf= 5  |  max_f= 0.75  |  est= 1000 mae= 1.4065804768768826\n",
            "34 / 72 | max_depth= 5  |  min_sample_leaf= 5  |  max_f= None  |  est= 100 mae= 1.3326504749795756\n",
            "35 / 72 | max_depth= 5  |  min_sample_leaf= 5  |  max_f= None  |  est= 500 mae= 1.3981430351418582\n",
            "36 / 72 | max_depth= 5  |  min_sample_leaf= 5  |  max_f= None  |  est= 1000 mae= 1.3924272791893042\n",
            "37 / 72 | max_depth= 5  |  min_sample_leaf= 10  |  max_f= sqrt  |  est= 100 mae= 2.0463426194636334\n",
            "38 / 72 | max_depth= 5  |  min_sample_leaf= 10  |  max_f= sqrt  |  est= 500 mae= 2.0827529636392224\n",
            "39 / 72 | max_depth= 5  |  min_sample_leaf= 10  |  max_f= sqrt  |  est= 1000 mae= 2.0798855120787887\n",
            "40 / 72 | max_depth= 5  |  min_sample_leaf= 10  |  max_f= log2  |  est= 100 mae= 2.0634975030207445\n",
            "41 / 72 | max_depth= 5  |  min_sample_leaf= 10  |  max_f= log2  |  est= 500 mae= 2.0910055220695227\n",
            "42 / 72 | max_depth= 5  |  min_sample_leaf= 10  |  max_f= log2  |  est= 1000 mae= 2.08717107724909\n",
            "43 / 72 | max_depth= 5  |  min_sample_leaf= 10  |  max_f= 0.75  |  est= 100 mae= 2.0157352595515055\n",
            "44 / 72 | max_depth= 5  |  min_sample_leaf= 10  |  max_f= 0.75  |  est= 500 mae= 2.0281367192815347\n",
            "45 / 72 | max_depth= 5  |  min_sample_leaf= 10  |  max_f= 0.75  |  est= 1000 mae= 2.0240944284129276\n",
            "46 / 72 | max_depth= 5  |  min_sample_leaf= 10  |  max_f= None  |  est= 100 mae= 2.006046225366814\n",
            "47 / 72 | max_depth= 5  |  min_sample_leaf= 10  |  max_f= None  |  est= 500 mae= 2.01741136163278\n",
            "48 / 72 | max_depth= 5  |  min_sample_leaf= 10  |  max_f= None  |  est= 1000 mae= 2.0125254346809123\n",
            "49 / 72 | max_depth= 10  |  min_sample_leaf= 5  |  max_f= sqrt  |  est= 100 mae= 1.4075319371462267\n",
            "50 / 72 | max_depth= 10  |  min_sample_leaf= 5  |  max_f= sqrt  |  est= 500 mae= 1.4961890569764762\n",
            "51 / 72 | max_depth= 10  |  min_sample_leaf= 5  |  max_f= sqrt  |  est= 1000 mae= 1.4875870359898002\n",
            "52 / 72 | max_depth= 10  |  min_sample_leaf= 5  |  max_f= log2  |  est= 100 mae= 1.4736672887549773\n",
            "53 / 72 | max_depth= 10  |  min_sample_leaf= 5  |  max_f= log2  |  est= 500 mae= 1.5189504557333011\n",
            "54 / 72 | max_depth= 10  |  min_sample_leaf= 5  |  max_f= log2  |  est= 1000 mae= 1.5246375651629342\n",
            "55 / 72 | max_depth= 10  |  min_sample_leaf= 5  |  max_f= 0.75  |  est= 100 mae= 1.3589410215392599\n",
            "56 / 72 | max_depth= 10  |  min_sample_leaf= 5  |  max_f= 0.75  |  est= 500 mae= 1.4049913432315664\n",
            "57 / 72 | max_depth= 10  |  min_sample_leaf= 5  |  max_f= 0.75  |  est= 1000 mae= 1.4065804768768826\n",
            "58 / 72 | max_depth= 10  |  min_sample_leaf= 5  |  max_f= None  |  est= 100 mae= 1.3326504749795756\n",
            "59 / 72 | max_depth= 10  |  min_sample_leaf= 5  |  max_f= None  |  est= 500 mae= 1.3981430351418582\n",
            "60 / 72 | max_depth= 10  |  min_sample_leaf= 5  |  max_f= None  |  est= 1000 mae= 1.392427279189304\n",
            "61 / 72 | max_depth= 10  |  min_sample_leaf= 10  |  max_f= sqrt  |  est= 100 mae= 2.0463426194636334\n",
            "62 / 72 | max_depth= 10  |  min_sample_leaf= 10  |  max_f= sqrt  |  est= 500 mae= 2.0827529636392224\n",
            "63 / 72 | max_depth= 10  |  min_sample_leaf= 10  |  max_f= sqrt  |  est= 1000 mae= 2.0798855120787887\n",
            "64 / 72 | max_depth= 10  |  min_sample_leaf= 10  |  max_f= log2  |  est= 100 mae= 2.0634975030207445\n",
            "65 / 72 | max_depth= 10  |  min_sample_leaf= 10  |  max_f= log2  |  est= 500 mae= 2.0910055220695227\n",
            "66 / 72 | max_depth= 10  |  min_sample_leaf= 10  |  max_f= log2  |  est= 1000 mae= 2.08717107724909\n",
            "67 / 72 | max_depth= 10  |  min_sample_leaf= 10  |  max_f= 0.75  |  est= 100 mae= 2.0157352595515055\n",
            "68 / 72 | max_depth= 10  |  min_sample_leaf= 10  |  max_f= 0.75  |  est= 500 mae= 2.0281367192815347\n",
            "69 / 72 | max_depth= 10  |  min_sample_leaf= 10  |  max_f= 0.75  |  est= 1000 mae= 2.024094428412928\n",
            "70 / 72 | max_depth= 10  |  min_sample_leaf= 10  |  max_f= None  |  est= 100 mae= 2.006046225366814\n",
            "71 / 72 | max_depth= 10  |  min_sample_leaf= 10  |  max_f= None  |  est= 500 mae= 2.01741136163278\n",
            "72 / 72 | max_depth= 10  |  min_sample_leaf= 10  |  max_f= None  |  est= 1000 mae= 2.0125254346809123\n"
          ]
        }
      ],
      "source": [
        "import numpy as np\n",
        "import pandas as pd\n",
        "from scipy.io import arff\n",
        "from sklearn.metrics import mean_absolute_error\n",
        "from sklearn.model_selection import train_test_split, GridSearchCV\n",
        "from sklearn.preprocessing import MinMaxScaler\n",
        "from sklearn.ensemble import RandomForestRegressor\n",
        "\n",
        "# load data\n",
        "andro_data = arff.loadarff('andro.arff')\n",
        "andro_df = pd.DataFrame(andro_data[0])\n",
        "\n",
        "# get column names\n",
        "column_names = andro_df.columns\n",
        "\n",
        "# get data/target names\n",
        "f_n = column_names[:30]\n",
        "t_n = column_names[30:]\n",
        "\n",
        "X = andro_df[f_n]\n",
        "y = andro_df[t_n]\n",
        "\n",
        "# convert to numpy\n",
        "X = X.to_numpy()\n",
        "y = y.to_numpy()\n",
        "\n",
        "\n",
        "# scale target values\n",
        "scalerY = MinMaxScaler(feature_range=(0,10))\n",
        "y = scalerY.fit_transform(y)\n",
        "\n",
        "# split data\n",
        "X_train, X_test, y_train, y_test = train_test_split(X, y, test_size=.3, random_state=42)\n",
        "\n",
        "max_ds = [2, 5, 10]\n",
        "min_s_ls = [5, 10]\n",
        "m_fs = ['sqrt', 'log2', 0.75, None]\n",
        "ests = [100, 500, 1000]\n",
        "total = (len(max_ds)*len(min_s_ls)*len(m_fs)*len(ests))\n",
        "counter = 1\n",
        "min_mae = 10**10 # just a ref, should be > than len(feature_names)\n",
        "for max_d in max_ds:\n",
        "  for min_s_l in min_s_ls:\n",
        "    for m_f in m_fs:\n",
        "      for est in ests:\n",
        "        RFmodel = RandomForestRegressor(n_estimators=est, max_depth=max_d, min_samples_leaf=min_s_l, max_features=m_f, n_jobs=-1, random_state=42)\n",
        "        RFmodel.fit(X_train, y_train)\n",
        "        pred = RFmodel.predict(X_test)\n",
        "        mae = mean_absolute_error(pred, y_test)\n",
        "        if mae < min_mae:\n",
        "          min_mae = mae\n",
        "          best_par = {\"test:\":counter, \"max_d=\":max_d, \"min_s_l=\":min_s_l, \"m_f=\": m_f, \"est=\": est, \"mae=\": min_mae}\n",
        "        print(counter, '/', total, \"| max_depth=\",max_d,\" | \", \"min_sample_leaf=\",min_s_l,\" | \", \"max_f=\", m_f,\" | \", \"est=\", est, \"mae=\", mae)\n",
        "        #print(\" \", pred[1])\n",
        "        #print(\" \", y_test[1])\n",
        "        counter += 1"
      ]
    },
    {
      "cell_type": "code",
      "source": [
        "best_par"
      ],
      "metadata": {
        "colab": {
          "base_uri": "https://localhost:8080/"
        },
        "id": "B46RYnkRuHNA",
        "outputId": "47a4faf5-4711-4382-bda3-dbd38eec8a95"
      },
      "execution_count": null,
      "outputs": [
        {
          "output_type": "execute_result",
          "data": {
            "text/plain": [
              "{'test:': 34,\n",
              " 'max_d=': 5,\n",
              " 'min_s_l=': 5,\n",
              " 'm_f=': None,\n",
              " 'est=': 100,\n",
              " 'mae=': 1.3326504749795756}"
            ]
          },
          "metadata": {},
          "execution_count": 2
        }
      ]
    }
  ]
}