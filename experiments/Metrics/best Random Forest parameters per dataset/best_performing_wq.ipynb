{
  "nbformat": 4,
  "nbformat_minor": 0,
  "metadata": {
    "colab": {
      "provenance": []
    },
    "kernelspec": {
      "name": "python3",
      "display_name": "Python 3"
    },
    "language_info": {
      "name": "python"
    }
  },
  "cells": [
    {
      "cell_type": "code",
      "execution_count": null,
      "metadata": {
        "colab": {
          "base_uri": "https://localhost:8080/"
        },
        "id": "UAwb_pxPzsxJ",
        "outputId": "0303635e-21bb-457b-9e7a-33951c4b74bc"
      },
      "outputs": [
        {
          "output_type": "stream",
          "name": "stdout",
          "text": [
            "1 / 72 | max_depth= 2  |  min_sample_leaf= 5  |  max_f= sqrt  |  est= 100 mae= 2.0367607945528947\n",
            "2 / 72 | max_depth= 2  |  min_sample_leaf= 5  |  max_f= sqrt  |  est= 500 mae= 2.0366008096123336\n",
            "3 / 72 | max_depth= 2  |  min_sample_leaf= 5  |  max_f= sqrt  |  est= 1000 mae= 2.0369532212926513\n",
            "4 / 72 | max_depth= 2  |  min_sample_leaf= 5  |  max_f= log2  |  est= 100 mae= 2.0367607945528947\n",
            "5 / 72 | max_depth= 2  |  min_sample_leaf= 5  |  max_f= log2  |  est= 500 mae= 2.0366008096123336\n",
            "6 / 72 | max_depth= 2  |  min_sample_leaf= 5  |  max_f= log2  |  est= 1000 mae= 2.0369532212926513\n",
            "7 / 72 | max_depth= 2  |  min_sample_leaf= 5  |  max_f= 0.75  |  est= 100 mae= 2.034012903538579\n",
            "8 / 72 | max_depth= 2  |  min_sample_leaf= 5  |  max_f= 0.75  |  est= 500 mae= 2.0233030464856148\n",
            "9 / 72 | max_depth= 2  |  min_sample_leaf= 5  |  max_f= 0.75  |  est= 1000 mae= 2.0239870748928337\n",
            "10 / 72 | max_depth= 2  |  min_sample_leaf= 5  |  max_f= None  |  est= 100 mae= 2.0249977791141447\n",
            "11 / 72 | max_depth= 2  |  min_sample_leaf= 5  |  max_f= None  |  est= 500 mae= 2.0216420506567387\n",
            "12 / 72 | max_depth= 2  |  min_sample_leaf= 5  |  max_f= None  |  est= 1000 mae= 2.0225343835537326\n",
            "13 / 72 | max_depth= 2  |  min_sample_leaf= 10  |  max_f= sqrt  |  est= 100 mae= 2.036962574879426\n",
            "14 / 72 | max_depth= 2  |  min_sample_leaf= 10  |  max_f= sqrt  |  est= 500 mae= 2.0351812301754095\n",
            "15 / 72 | max_depth= 2  |  min_sample_leaf= 10  |  max_f= sqrt  |  est= 1000 mae= 2.035168348920483\n",
            "16 / 72 | max_depth= 2  |  min_sample_leaf= 10  |  max_f= log2  |  est= 100 mae= 2.036962574879426\n",
            "17 / 72 | max_depth= 2  |  min_sample_leaf= 10  |  max_f= log2  |  est= 500 mae= 2.0351812301754095\n",
            "18 / 72 | max_depth= 2  |  min_sample_leaf= 10  |  max_f= log2  |  est= 1000 mae= 2.035168348920483\n",
            "19 / 72 | max_depth= 2  |  min_sample_leaf= 10  |  max_f= 0.75  |  est= 100 mae= 2.02945079108084\n",
            "20 / 72 | max_depth= 2  |  min_sample_leaf= 10  |  max_f= 0.75  |  est= 500 mae= 2.0209708187113207\n",
            "21 / 72 | max_depth= 2  |  min_sample_leaf= 10  |  max_f= 0.75  |  est= 1000 mae= 2.0215113315660926\n",
            "22 / 72 | max_depth= 2  |  min_sample_leaf= 10  |  max_f= None  |  est= 100 mae= 2.02227393132507\n",
            "23 / 72 | max_depth= 2  |  min_sample_leaf= 10  |  max_f= None  |  est= 500 mae= 2.0196114874413897\n",
            "24 / 72 | max_depth= 2  |  min_sample_leaf= 10  |  max_f= None  |  est= 1000 mae= 2.0198148469977353\n",
            "25 / 72 | max_depth= 5  |  min_sample_leaf= 5  |  max_f= sqrt  |  est= 100 mae= 1.9325449219820545\n",
            "26 / 72 | max_depth= 5  |  min_sample_leaf= 5  |  max_f= sqrt  |  est= 500 mae= 1.9341839454965872\n",
            "27 / 72 | max_depth= 5  |  min_sample_leaf= 5  |  max_f= sqrt  |  est= 1000 mae= 1.9332403425865319\n",
            "28 / 72 | max_depth= 5  |  min_sample_leaf= 5  |  max_f= log2  |  est= 100 mae= 1.9325449219820545\n",
            "29 / 72 | max_depth= 5  |  min_sample_leaf= 5  |  max_f= log2  |  est= 500 mae= 1.9341839454965872\n",
            "30 / 72 | max_depth= 5  |  min_sample_leaf= 5  |  max_f= log2  |  est= 1000 mae= 1.9332403425865319\n",
            "31 / 72 | max_depth= 5  |  min_sample_leaf= 5  |  max_f= 0.75  |  est= 100 mae= 1.9270709037677776\n",
            "32 / 72 | max_depth= 5  |  min_sample_leaf= 5  |  max_f= 0.75  |  est= 500 mae= 1.9132849962888125\n",
            "33 / 72 | max_depth= 5  |  min_sample_leaf= 5  |  max_f= 0.75  |  est= 1000 mae= 1.9146459582016497\n",
            "34 / 72 | max_depth= 5  |  min_sample_leaf= 5  |  max_f= None  |  est= 100 mae= 1.925174127943149\n",
            "35 / 72 | max_depth= 5  |  min_sample_leaf= 5  |  max_f= None  |  est= 500 mae= 1.9170408345141141\n",
            "36 / 72 | max_depth= 5  |  min_sample_leaf= 5  |  max_f= None  |  est= 1000 mae= 1.9166808340161239\n",
            "37 / 72 | max_depth= 5  |  min_sample_leaf= 10  |  max_f= sqrt  |  est= 100 mae= 1.942468555070607\n",
            "38 / 72 | max_depth= 5  |  min_sample_leaf= 10  |  max_f= sqrt  |  est= 500 mae= 1.9382223969095127\n",
            "39 / 72 | max_depth= 5  |  min_sample_leaf= 10  |  max_f= sqrt  |  est= 1000 mae= 1.9379312867613456\n",
            "40 / 72 | max_depth= 5  |  min_sample_leaf= 10  |  max_f= log2  |  est= 100 mae= 1.942468555070607\n",
            "41 / 72 | max_depth= 5  |  min_sample_leaf= 10  |  max_f= log2  |  est= 500 mae= 1.9382223969095127\n",
            "42 / 72 | max_depth= 5  |  min_sample_leaf= 10  |  max_f= log2  |  est= 1000 mae= 1.9379312867613456\n",
            "43 / 72 | max_depth= 5  |  min_sample_leaf= 10  |  max_f= 0.75  |  est= 100 mae= 1.9267109830002895\n",
            "44 / 72 | max_depth= 5  |  min_sample_leaf= 10  |  max_f= 0.75  |  est= 500 mae= 1.9188524906935374\n",
            "45 / 72 | max_depth= 5  |  min_sample_leaf= 10  |  max_f= 0.75  |  est= 1000 mae= 1.9201529099176982\n",
            "46 / 72 | max_depth= 5  |  min_sample_leaf= 10  |  max_f= None  |  est= 100 mae= 1.9237910382527137\n",
            "47 / 72 | max_depth= 5  |  min_sample_leaf= 10  |  max_f= None  |  est= 500 mae= 1.9208687896835137\n",
            "48 / 72 | max_depth= 5  |  min_sample_leaf= 10  |  max_f= None  |  est= 1000 mae= 1.9197431797796092\n",
            "49 / 72 | max_depth= 10  |  min_sample_leaf= 5  |  max_f= sqrt  |  est= 100 mae= 1.8937574194070728\n",
            "50 / 72 | max_depth= 10  |  min_sample_leaf= 5  |  max_f= sqrt  |  est= 500 mae= 1.884053996253638\n",
            "51 / 72 | max_depth= 10  |  min_sample_leaf= 5  |  max_f= sqrt  |  est= 1000 mae= 1.8803131699869684\n",
            "52 / 72 | max_depth= 10  |  min_sample_leaf= 5  |  max_f= log2  |  est= 100 mae= 1.8937574194070728\n",
            "53 / 72 | max_depth= 10  |  min_sample_leaf= 5  |  max_f= log2  |  est= 500 mae= 1.884053996253638\n",
            "54 / 72 | max_depth= 10  |  min_sample_leaf= 5  |  max_f= log2  |  est= 1000 mae= 1.8803131699869684\n",
            "55 / 72 | max_depth= 10  |  min_sample_leaf= 5  |  max_f= 0.75  |  est= 100 mae= 1.8735184883957718\n",
            "56 / 72 | max_depth= 10  |  min_sample_leaf= 5  |  max_f= 0.75  |  est= 500 mae= 1.865950525282555\n",
            "57 / 72 | max_depth= 10  |  min_sample_leaf= 5  |  max_f= 0.75  |  est= 1000 mae= 1.8650778110792954\n",
            "58 / 72 | max_depth= 10  |  min_sample_leaf= 5  |  max_f= None  |  est= 100 mae= 1.8783367764437606\n",
            "59 / 72 | max_depth= 10  |  min_sample_leaf= 5  |  max_f= None  |  est= 500 mae= 1.8664917930115827\n",
            "60 / 72 | max_depth= 10  |  min_sample_leaf= 5  |  max_f= None  |  est= 1000 mae= 1.8655935300714035\n",
            "61 / 72 | max_depth= 10  |  min_sample_leaf= 10  |  max_f= sqrt  |  est= 100 mae= 1.927910501631317\n",
            "62 / 72 | max_depth= 10  |  min_sample_leaf= 10  |  max_f= sqrt  |  est= 500 mae= 1.919519200803747\n",
            "63 / 72 | max_depth= 10  |  min_sample_leaf= 10  |  max_f= sqrt  |  est= 1000 mae= 1.9160863777862411\n",
            "64 / 72 | max_depth= 10  |  min_sample_leaf= 10  |  max_f= log2  |  est= 100 mae= 1.927910501631317\n",
            "65 / 72 | max_depth= 10  |  min_sample_leaf= 10  |  max_f= log2  |  est= 500 mae= 1.919519200803747\n",
            "66 / 72 | max_depth= 10  |  min_sample_leaf= 10  |  max_f= log2  |  est= 1000 mae= 1.9160863777862411\n",
            "67 / 72 | max_depth= 10  |  min_sample_leaf= 10  |  max_f= 0.75  |  est= 100 mae= 1.9119406241290506\n",
            "68 / 72 | max_depth= 10  |  min_sample_leaf= 10  |  max_f= 0.75  |  est= 500 mae= 1.8966785674906006\n",
            "69 / 72 | max_depth= 10  |  min_sample_leaf= 10  |  max_f= 0.75  |  est= 1000 mae= 1.8968366114483157\n",
            "70 / 72 | max_depth= 10  |  min_sample_leaf= 10  |  max_f= None  |  est= 100 mae= 1.9025660873656502\n",
            "71 / 72 | max_depth= 10  |  min_sample_leaf= 10  |  max_f= None  |  est= 500 mae= 1.8988929999300554\n",
            "72 / 72 | max_depth= 10  |  min_sample_leaf= 10  |  max_f= None  |  est= 1000 mae= 1.8970621038313358\n"
          ]
        }
      ],
      "source": [
        "import numpy as np\n",
        "import pandas as pd\n",
        "from scipy.io import arff\n",
        "from sklearn.metrics import mean_absolute_error\n",
        "from sklearn.model_selection import train_test_split, GridSearchCV\n",
        "from sklearn.preprocessing import MinMaxScaler\n",
        "from sklearn.ensemble import RandomForestRegressor\n",
        "\n",
        "# load data\n",
        "wq_data = arff.loadarff('wq.arff')\n",
        "wq_df = pd.DataFrame(wq_data[0])\n",
        "wq_df = wq_df.iloc[:500]\n",
        "\n",
        "# get column names\n",
        "column_names = wq_df.columns\n",
        "\n",
        "# get data/target names\n",
        "f_n = column_names[:16]\n",
        "t_n = column_names[16:]\n",
        "\n",
        "X = wq_df[f_n]\n",
        "y = wq_df[t_n]\n",
        "\n",
        "# convert to numpy\n",
        "X = X.to_numpy()\n",
        "y = y.to_numpy()\n",
        "\n",
        "scaler = MinMaxScaler(feature_range=(0,10))\n",
        "y = scaler.fit_transform(y)\n",
        "\n",
        "\n",
        "# split data\n",
        "X_train, X_test, y_train, y_test = train_test_split(X, y, test_size=.1, random_state=42)\n",
        "\n",
        "max_ds = [2, 5, 10]\n",
        "min_s_ls = [5, 10]\n",
        "m_fs = ['sqrt', 'log2', 0.75, None]\n",
        "ests = [100, 500, 1000]\n",
        "total = (len(max_ds)*len(min_s_ls)*len(m_fs)*len(ests))\n",
        "counter = 1\n",
        "min_mae = 10**10 # just a ref, should be > than len(feature_names)\n",
        "for max_d in max_ds:\n",
        "  for min_s_l in min_s_ls:\n",
        "    for m_f in m_fs:\n",
        "      for est in ests:\n",
        "        RFmodel = RandomForestRegressor(n_estimators=est, max_depth=max_d, min_samples_leaf=min_s_l, max_features=m_f, n_jobs=-1, random_state=42)\n",
        "        RFmodel.fit(X_train, y_train)\n",
        "        pred = RFmodel.predict(X_test)\n",
        "        mae = mean_absolute_error(pred, y_test)\n",
        "        if mae < min_mae:\n",
        "          min_mae = mae\n",
        "          best_par = {\"test:\":counter, \"max_d=\":max_d, \"min_s_l=\":min_s_l, \"m_f=\": m_f, \"est=\": est, \"mae=\": min_mae}\n",
        "        print(counter, '/', total, \"| max_depth=\",max_d,\" | \", \"min_sample_leaf=\",min_s_l,\" | \", \"max_f=\", m_f,\" | \", \"est=\", est, \"mae=\", mae)\n",
        "        #print(\" \", pred[1])\n",
        "        #print(\" \", y_test[1])\n",
        "        counter += 1"
      ]
    },
    {
      "cell_type": "code",
      "source": [
        "best_par"
      ],
      "metadata": {
        "colab": {
          "base_uri": "https://localhost:8080/"
        },
        "id": "aeTqauY5z8Pf",
        "outputId": "05a6e41d-2562-4f8a-983d-fa83855e1533"
      },
      "execution_count": null,
      "outputs": [
        {
          "output_type": "execute_result",
          "data": {
            "text/plain": [
              "{'test:': 57,\n",
              " 'max_d=': 10,\n",
              " 'min_s_l=': 5,\n",
              " 'm_f=': 0.75,\n",
              " 'est=': 1000,\n",
              " 'mae=': 1.8650778110792954}"
            ]
          },
          "metadata": {},
          "execution_count": 2
        }
      ]
    }
  ]
}