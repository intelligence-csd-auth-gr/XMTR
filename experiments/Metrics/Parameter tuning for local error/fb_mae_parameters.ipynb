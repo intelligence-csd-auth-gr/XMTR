{
  "nbformat": 4,
  "nbformat_minor": 0,
  "metadata": {
    "colab": {
      "provenance": []
    },
    "kernelspec": {
      "name": "python3",
      "display_name": "Python 3"
    },
    "language_info": {
      "name": "python"
    }
  },
  "cells": [
    {
      "cell_type": "code",
      "execution_count": 1,
      "metadata": {
        "id": "wFS-PxPTdQ8H"
      },
      "outputs": [],
      "source": [
        "from XMTR import MTR\n",
        "import numpy as np\n",
        "import pandas as pd\n",
        "from scipy.io import arff\n",
        "from sklearn.metrics import mean_absolute_error\n",
        "from sklearn.model_selection import train_test_split, GridSearchCV\n",
        "from sklearn.preprocessing import MinMaxScaler\n",
        "from sklearn.ensemble import RandomForestRegressor"
      ]
    },
    {
      "cell_type": "code",
      "source": [
        "def calc_al_error(instance, perc):\n",
        "  # the error should be non zero\n",
        "  return (abs(instance)+0.1)*perc \n",
        "\n",
        "fb_df = pd.read_csv('dataset_Facebook.csv', sep=';')#, nrows=200)\n",
        "\n",
        "# fill NaN\n",
        "fb_df['like'].fillna(0,inplace=True)\n",
        "fb_df['share'].fillna(0,inplace=True)\n",
        "fb_df['Paid'].fillna(0,inplace=True)\n",
        "fb_df.drop(['Type'], inplace=True, axis=1)\n",
        "\n",
        "\n",
        "# get column names\n",
        "column_names = fb_df.columns\n",
        "\n",
        "# get data/target names\n",
        "f_n = column_names[:14]\n",
        "#t_n = ['comment', 'share']\n",
        "t_n = column_names[14:]\n",
        "\n",
        "X = fb_df[f_n]\n",
        "y = fb_df[t_n]\n",
        "\n",
        "# convert to numpy\n",
        "X = X.to_numpy()\n",
        "y = y.to_numpy()\n",
        "\n",
        "scaler = MinMaxScaler(feature_range=(0,10))\n",
        "y = scaler.fit_transform(y)\n",
        "\n",
        "# split data\n",
        "X_train, X_test, y_train, y_test = train_test_split(X, y, test_size=.1, random_state=42)\n",
        "allowed_error = 0.5\n",
        "\n",
        "max_ds = [2, 5, 10]\n",
        "min_s_ls = [5, 10]\n",
        "m_fs = ['sqrt', 0.75, None]\n",
        "ests = [100, 500, 1000]\n",
        "total = (len(max_ds)*len(min_s_ls)*len(m_fs)*len(ests))\n",
        "counter = 1\n",
        "min_error = 10**10 # just a ref\n",
        "for max_d in max_ds:\n",
        "  for min_s_l in min_s_ls:\n",
        "    for m_f in m_fs:\n",
        "      for est in ests:\n",
        "        # create/train model\n",
        "        RFmodel = RandomForestRegressor(n_estimators=est, max_depth=max_d, min_samples_leaf=min_s_l, max_features=m_f, n_jobs=-1, random_state=42)\n",
        "        RFmodel.fit(X_train, y_train)\n",
        "        MTR_obj = MTR(model=RFmodel, X_train = X_train, X_test=X_test, y_train=y_train, y_test=y_test, feature_names=f_n, target_names=t_n)\n",
        "        #avgRuleLengths = 0\n",
        "        avgEstimators = []\n",
        "        #actualpreds = []\n",
        "        MTRpreds = []\n",
        "        # get results\n",
        "        for i in range(len(X_test)):\n",
        "          error = calc_al_error(y_test[i], allowed_error)\n",
        "          rule = MTR_obj.explain(X_test[i], error) # explain instance\n",
        "          \n",
        "          #actualpreds.append(y_test[i])\n",
        "          decisionsAndErrors = MTR_obj.getDecisionsAndErros() # get preds/errors\n",
        "          MTRpreds.append(decisionsAndErrors)\n",
        "\n",
        "          #feature_limits = MTR_obj.getFeatureLimits()\n",
        "          #avgRuleLengths += len(feature_limits.keys())\n",
        "          estimators = MTR_obj.getAmountOfReduction() # get estimators\n",
        "          avgEstimators.append(estimators[0])\n",
        "        #finalLen = avgRuleLengths/len(X_test)\n",
        "\n",
        "        #actualpreds = np.array(actualpreds)\n",
        "        MTRpreds = np.array(MTRpreds)\n",
        "\n",
        "        # local error\n",
        "        MTRerrors = np.array([subarray[:,1] for subarray in MTRpreds])\n",
        "        total_error = np.mean(MTRerrors, axis=0) # error per target\n",
        "        final_error = np.array(total_error).mean() # avg error\n",
        "\n",
        "        if final_error < min_error:\n",
        "          min_error = final_error\n",
        "          best_par = {\"max_d=\":max_d, \"min_s_l=\":min_s_l, \"m_f=\": m_f, \"est=\": est, \"local error=\": final_error}\n",
        "        print(counter, '/', total, \"| max_depth=\",max_d,\" | \", \"min_sample_leaf=\",min_s_l,\" | \", \"max_f=\", m_f,\" | \", \"est=\", est,\" | \", \"local error=\", final_error, \" | \", \"estimators=\", round(np.array(avgEstimators).mean(),3),\"/\",est)\n",
        "        counter += 1"
      ],
      "metadata": {
        "colab": {
          "base_uri": "https://localhost:8080/"
        },
        "id": "vtaR7x_edvtl",
        "outputId": "8eb1608f-4661-4c4e-dfd3-fb6de074c8eb"
      },
      "execution_count": 6,
      "outputs": [
        {
          "output_type": "stream",
          "name": "stdout",
          "text": [
            "1 / 54 | max_depth= 2  |  min_sample_leaf= 5  |  max_f= sqrt  |  est= 100  |  local error= 0.0  |  estimators= 100.0 / 100\n",
            "2 / 54 | max_depth= 2  |  min_sample_leaf= 5  |  max_f= sqrt  |  est= 500  |  local error= 0.0  |  estimators= 500.0 / 500\n",
            "3 / 54 | max_depth= 2  |  min_sample_leaf= 5  |  max_f= sqrt  |  est= 1000  |  local error= 0.0  |  estimators= 1000.0 / 1000\n",
            "4 / 54 | max_depth= 2  |  min_sample_leaf= 5  |  max_f= 0.75  |  est= 100  |  local error= 0.0  |  estimators= 100.0 / 100\n",
            "5 / 54 | max_depth= 2  |  min_sample_leaf= 5  |  max_f= 0.75  |  est= 500  |  local error= 0.0  |  estimators= 500.0 / 500\n",
            "6 / 54 | max_depth= 2  |  min_sample_leaf= 5  |  max_f= 0.75  |  est= 1000  |  local error= 0.0  |  estimators= 1000.0 / 1000\n",
            "7 / 54 | max_depth= 2  |  min_sample_leaf= 5  |  max_f= None  |  est= 100  |  local error= 0.013587084720714654  |  estimators= 99.44 / 100\n",
            "8 / 54 | max_depth= 2  |  min_sample_leaf= 5  |  max_f= None  |  est= 500  |  local error= 0.014276188907102435  |  estimators= 496.62 / 500\n",
            "9 / 54 | max_depth= 2  |  min_sample_leaf= 5  |  max_f= None  |  est= 1000  |  local error= 0.014182275232278678  |  estimators= 993.72 / 1000\n",
            "10 / 54 | max_depth= 2  |  min_sample_leaf= 10  |  max_f= sqrt  |  est= 100  |  local error= 0.0  |  estimators= 100.0 / 100\n",
            "11 / 54 | max_depth= 2  |  min_sample_leaf= 10  |  max_f= sqrt  |  est= 500  |  local error= 0.0  |  estimators= 500.0 / 500\n",
            "12 / 54 | max_depth= 2  |  min_sample_leaf= 10  |  max_f= sqrt  |  est= 1000  |  local error= 0.0  |  estimators= 1000.0 / 1000\n",
            "13 / 54 | max_depth= 2  |  min_sample_leaf= 10  |  max_f= 0.75  |  est= 100  |  local error= 0.01648444602049295  |  estimators= 98.66 / 100\n",
            "14 / 54 | max_depth= 2  |  min_sample_leaf= 10  |  max_f= 0.75  |  est= 500  |  local error= 0.009376891296097188  |  estimators= 496.48 / 500\n",
            "15 / 54 | max_depth= 2  |  min_sample_leaf= 10  |  max_f= 0.75  |  est= 1000  |  local error= 0.009363181686265775  |  estimators= 993.08 / 1000\n",
            "16 / 54 | max_depth= 2  |  min_sample_leaf= 10  |  max_f= None  |  est= 100  |  local error= 0.017431382041074778  |  estimators= 98.74 / 100\n",
            "17 / 54 | max_depth= 2  |  min_sample_leaf= 10  |  max_f= None  |  est= 500  |  local error= 0.037712392640575014  |  estimators= 486.42 / 500\n",
            "18 / 54 | max_depth= 2  |  min_sample_leaf= 10  |  max_f= None  |  est= 1000  |  local error= 0.05122241632612199  |  estimators= 964.14 / 1000\n",
            "19 / 54 | max_depth= 5  |  min_sample_leaf= 5  |  max_f= sqrt  |  est= 100  |  local error= 0.0  |  estimators= 100.0 / 100\n",
            "20 / 54 | max_depth= 5  |  min_sample_leaf= 5  |  max_f= sqrt  |  est= 500  |  local error= 0.0  |  estimators= 500.0 / 500\n",
            "21 / 54 | max_depth= 5  |  min_sample_leaf= 5  |  max_f= sqrt  |  est= 1000  |  local error= 0.0  |  estimators= 1000.0 / 1000\n",
            "22 / 54 | max_depth= 5  |  min_sample_leaf= 5  |  max_f= 0.75  |  est= 100  |  local error= 0.007865148435794236  |  estimators= 99.62 / 100\n",
            "23 / 54 | max_depth= 5  |  min_sample_leaf= 5  |  max_f= 0.75  |  est= 500  |  local error= 0.012388626840822817  |  estimators= 497.06 / 500\n",
            "24 / 54 | max_depth= 5  |  min_sample_leaf= 5  |  max_f= 0.75  |  est= 1000  |  local error= 0.012327726244355084  |  estimators= 994.38 / 1000\n",
            "25 / 54 | max_depth= 5  |  min_sample_leaf= 5  |  max_f= None  |  est= 100  |  local error= 0.013432488167396273  |  estimators= 99.4 / 100\n",
            "26 / 54 | max_depth= 5  |  min_sample_leaf= 5  |  max_f= None  |  est= 500  |  local error= 0.019388324301988318  |  estimators= 495.3 / 500\n",
            "27 / 54 | max_depth= 5  |  min_sample_leaf= 5  |  max_f= None  |  est= 1000  |  local error= 0.01919244203639312  |  estimators= 991.06 / 1000\n",
            "28 / 54 | max_depth= 5  |  min_sample_leaf= 10  |  max_f= sqrt  |  est= 100  |  local error= 0.0  |  estimators= 100.0 / 100\n",
            "29 / 54 | max_depth= 5  |  min_sample_leaf= 10  |  max_f= sqrt  |  est= 500  |  local error= 0.0  |  estimators= 500.0 / 500\n",
            "30 / 54 | max_depth= 5  |  min_sample_leaf= 10  |  max_f= sqrt  |  est= 1000  |  local error= 0.0  |  estimators= 1000.0 / 1000\n",
            "31 / 54 | max_depth= 5  |  min_sample_leaf= 10  |  max_f= 0.75  |  est= 100  |  local error= 0.03117839867446134  |  estimators= 97.88 / 100\n",
            "32 / 54 | max_depth= 5  |  min_sample_leaf= 10  |  max_f= 0.75  |  est= 500  |  local error= 0.038795077542313594  |  estimators= 487.34 / 500\n",
            "33 / 54 | max_depth= 5  |  min_sample_leaf= 10  |  max_f= 0.75  |  est= 1000  |  local error= 0.03649737805526436  |  estimators= 976.58 / 1000\n",
            "34 / 54 | max_depth= 5  |  min_sample_leaf= 10  |  max_f= None  |  est= 100  |  local error= 0.03262923447875391  |  estimators= 98.0 / 100\n",
            "35 / 54 | max_depth= 5  |  min_sample_leaf= 10  |  max_f= None  |  est= 500  |  local error= 0.02926107407491383  |  estimators= 490.42 / 500\n",
            "36 / 54 | max_depth= 5  |  min_sample_leaf= 10  |  max_f= None  |  est= 1000  |  local error= 0.024667332666844503  |  estimators= 983.98 / 1000\n",
            "37 / 54 | max_depth= 10  |  min_sample_leaf= 5  |  max_f= sqrt  |  est= 100  |  local error= 0.002351051437990968  |  estimators= 99.9 / 100\n",
            "38 / 54 | max_depth= 10  |  min_sample_leaf= 5  |  max_f= sqrt  |  est= 500  |  local error= 0.0032903863908843034  |  estimators= 499.24 / 500\n",
            "39 / 54 | max_depth= 10  |  min_sample_leaf= 5  |  max_f= sqrt  |  est= 1000  |  local error= 0.0  |  estimators= 1000.0 / 1000\n",
            "40 / 54 | max_depth= 10  |  min_sample_leaf= 5  |  max_f= 0.75  |  est= 100  |  local error= 0.016983822832509824  |  estimators= 99.24 / 100\n",
            "41 / 54 | max_depth= 10  |  min_sample_leaf= 5  |  max_f= 0.75  |  est= 500  |  local error= 0.015323740808801965  |  estimators= 496.48 / 500\n",
            "42 / 54 | max_depth= 10  |  min_sample_leaf= 5  |  max_f= 0.75  |  est= 1000  |  local error= 0.009571052024792904  |  estimators= 995.54 / 1000\n",
            "43 / 54 | max_depth= 10  |  min_sample_leaf= 5  |  max_f= None  |  est= 100  |  local error= 0.007249689186594943  |  estimators= 99.68 / 100\n",
            "44 / 54 | max_depth= 10  |  min_sample_leaf= 5  |  max_f= None  |  est= 500  |  local error= 0.00777548441603298  |  estimators= 498.16 / 500\n",
            "45 / 54 | max_depth= 10  |  min_sample_leaf= 5  |  max_f= None  |  est= 1000  |  local error= 0.007958318139009393  |  estimators= 996.12 / 1000\n",
            "46 / 54 | max_depth= 10  |  min_sample_leaf= 10  |  max_f= sqrt  |  est= 100  |  local error= 0.0  |  estimators= 100.0 / 100\n",
            "47 / 54 | max_depth= 10  |  min_sample_leaf= 10  |  max_f= sqrt  |  est= 500  |  local error= 0.0  |  estimators= 500.0 / 500\n",
            "48 / 54 | max_depth= 10  |  min_sample_leaf= 10  |  max_f= sqrt  |  est= 1000  |  local error= 0.0  |  estimators= 1000.0 / 1000\n",
            "49 / 54 | max_depth= 10  |  min_sample_leaf= 10  |  max_f= 0.75  |  est= 100  |  local error= 0.02927837030273643  |  estimators= 97.9 / 100\n",
            "50 / 54 | max_depth= 10  |  min_sample_leaf= 10  |  max_f= 0.75  |  est= 500  |  local error= 0.014491263243228148  |  estimators= 495.34 / 500\n",
            "51 / 54 | max_depth= 10  |  min_sample_leaf= 10  |  max_f= 0.75  |  est= 1000  |  local error= 0.014476119549954945  |  estimators= 990.7 / 1000\n",
            "52 / 54 | max_depth= 10  |  min_sample_leaf= 10  |  max_f= None  |  est= 100  |  local error= 0.02156645803955013  |  estimators= 98.58 / 100\n",
            "53 / 54 | max_depth= 10  |  min_sample_leaf= 10  |  max_f= None  |  est= 500  |  local error= 0.018065157581026316  |  estimators= 493.86 / 500\n",
            "54 / 54 | max_depth= 10  |  min_sample_leaf= 10  |  max_f= None  |  est= 1000  |  local error= 0.016051879729162576  |  estimators= 989.42 / 1000\n"
          ]
        }
      ]
    },
    {
      "cell_type": "code",
      "source": [
        "best_par"
      ],
      "metadata": {
        "colab": {
          "base_uri": "https://localhost:8080/"
        },
        "id": "aIMiRW8XqZsS",
        "outputId": "0fa6363c-4698-4747-d84f-c58af21ee8c8"
      },
      "execution_count": 7,
      "outputs": [
        {
          "output_type": "execute_result",
          "data": {
            "text/plain": [
              "{'max_d=': 2, 'min_s_l=': 5, 'm_f=': 'sqrt', 'est=': 100, 'local error=': 0.0}"
            ]
          },
          "metadata": {},
          "execution_count": 7
        }
      ]
    },
    {
      "cell_type": "code",
      "source": [
        "# WORST\n",
        "#18 / 54 | max_depth= 2  |  min_sample_leaf= 10  |  max_f= None  |  est= 1000  |  local error= 0.05122241632612199  |  estimators= 964.14 / 1000"
      ],
      "metadata": {
        "id": "6zOc_Rpyzi3C"
      },
      "execution_count": null,
      "outputs": []
    }
  ]
}