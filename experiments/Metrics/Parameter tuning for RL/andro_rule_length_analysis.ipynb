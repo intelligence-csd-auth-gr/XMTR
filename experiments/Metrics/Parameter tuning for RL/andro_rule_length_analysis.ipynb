{
  "nbformat": 4,
  "nbformat_minor": 0,
  "metadata": {
    "colab": {
      "provenance": []
    },
    "kernelspec": {
      "name": "python3",
      "display_name": "Python 3"
    },
    "language_info": {
      "name": "python"
    }
  },
  "cells": [
    {
      "cell_type": "code",
      "execution_count": 1,
      "metadata": {
        "id": "i8RtDCyysnC1"
      },
      "outputs": [],
      "source": [
        "from XMTR import MTR\n",
        "import numpy as np\n",
        "import pandas as pd\n",
        "from scipy.io import arff\n",
        "from sklearn.metrics import mean_absolute_error\n",
        "from sklearn.model_selection import train_test_split, GridSearchCV\n",
        "from sklearn.preprocessing import MinMaxScaler\n",
        "from sklearn.ensemble import RandomForestRegressor"
      ]
    },
    {
      "cell_type": "code",
      "source": [
        "def calc_al_error(instance, perc):\n",
        "  # the error should be non zero\n",
        "  return (abs(instance)+0.1)*perc \n",
        "\n",
        "# load data\n",
        "andro_data = arff.loadarff('andro.arff')\n",
        "andro_df = pd.DataFrame(andro_data[0])\n",
        "\n",
        "# get column names\n",
        "column_names = andro_df.columns\n",
        "\n",
        "# get data/target names\n",
        "f_n = column_names[:30]\n",
        "t_n = column_names[30:]\n",
        "\n",
        "X = andro_df[f_n]\n",
        "y = andro_df[t_n]\n",
        "\n",
        "# convert to numpy\n",
        "X = X.to_numpy()\n",
        "y = y.to_numpy()\n",
        "\n",
        "\n",
        "# scale target values\n",
        "scalerY = MinMaxScaler(feature_range=(0,10))\n",
        "y = scalerY.fit_transform(y)\n",
        "\n",
        "# split data\n",
        "X_train, X_test, y_train, y_test = train_test_split(X, y, test_size=.3, random_state=42)\n",
        "allowed_error = 0.1\n",
        "\n",
        "max_ds = [2, 5, 10]\n",
        "min_s_ls = [5]\n",
        "m_fs = ['sqrt', 0.75, None]\n",
        "ests = [100, 500, 1000]\n",
        "total = (len(max_ds)*len(min_s_ls)*len(m_fs)*len(ests))\n",
        "counter = 1\n",
        "min_len = (len(f_n)+1) # just a ref, should be > than len(feature_names)\n",
        "for max_d in max_ds:\n",
        "  for min_s_l in min_s_ls:\n",
        "    for m_f in m_fs:\n",
        "      for est in ests:\n",
        "        # create/train model\n",
        "        RFmodel = RandomForestRegressor(n_estimators=est, max_depth=max_d, min_samples_leaf=min_s_l, max_features=m_f, n_jobs=-1, random_state=42)\n",
        "        RFmodel.fit(X_train, y_train)\n",
        "        MTR_obj = MTR(model=RFmodel, X_train = X_train, X_test=X_test, y_train=y_train, y_test=y_test, feature_names=f_n, target_names=t_n)\n",
        "        avgRuleLengths = 0\n",
        "        avgEstimators = []\n",
        "        # get results\n",
        "        for i in range(len(X_test)):\n",
        "          error = calc_al_error(y_test[i], allowed_error)\n",
        "          rule = MTR_obj.explain(X_test[i], error) # explain instance\n",
        "          feature_limits = MTR_obj.getFeatureLimits()\n",
        "          avgRuleLengths += len(feature_limits.keys())\n",
        "          estimators = MTR_obj.getAmountOfReduction() # get estimators\n",
        "          avgEstimators.append(estimators[0])\n",
        "        finalLen = avgRuleLengths/len(X_test)\n",
        "        if finalLen < min_len:\n",
        "          min_len = finalLen\n",
        "          best_par = {\"max_d=\":max_d, \"min_s_l=\":min_s_l, \"m_f=\": m_f, \"est=\": est, \"rule length=\": finalLen}\n",
        "        print(counter, '/', total, \"| max_depth=\",max_d,\" | \", \"min_sample_leaf=\",min_s_l,\" | \", \"max_f=\", m_f,\" | \", \"est=\", est,\" | \", \"rule length=\", finalLen,\" | \", \"estimators=\", round(np.array(avgEstimators).mean(),3),\"/\",est)\n",
        "        counter += 1"
      ],
      "metadata": {
        "colab": {
          "base_uri": "https://localhost:8080/"
        },
        "id": "KocmBCvjs4L_",
        "outputId": "959df8a1-4840-4ddf-b3c2-e4f8b3ef308d"
      },
      "execution_count": 2,
      "outputs": [
        {
          "output_type": "stream",
          "name": "stdout",
          "text": [
            "1 / 27 | max_depth= 2  |  min_sample_leaf= 5  |  max_f= sqrt  |  est= 100  |  rule length= 23.533333333333335  |  estimators= 100.0 / 100\n",
            "2 / 27 | max_depth= 2  |  min_sample_leaf= 5  |  max_f= sqrt  |  est= 500  |  rule length= 29.666666666666668  |  estimators= 500.0 / 500\n",
            "3 / 27 | max_depth= 2  |  min_sample_leaf= 5  |  max_f= sqrt  |  est= 1000  |  rule length= 29.8  |  estimators= 1000.0 / 1000\n",
            "4 / 27 | max_depth= 2  |  min_sample_leaf= 5  |  max_f= 0.75  |  est= 100  |  rule length= 21.6  |  estimators= 100.0 / 100\n",
            "5 / 27 | max_depth= 2  |  min_sample_leaf= 5  |  max_f= 0.75  |  est= 500  |  rule length= 28.2  |  estimators= 500.0 / 500\n",
            "6 / 27 | max_depth= 2  |  min_sample_leaf= 5  |  max_f= 0.75  |  est= 1000  |  rule length= 28.733333333333334  |  estimators= 1000.0 / 1000\n",
            "7 / 27 | max_depth= 2  |  min_sample_leaf= 5  |  max_f= None  |  est= 100  |  rule length= 22.0  |  estimators= 100.0 / 100\n",
            "8 / 27 | max_depth= 2  |  min_sample_leaf= 5  |  max_f= None  |  est= 500  |  rule length= 28.4  |  estimators= 500.0 / 500\n",
            "9 / 27 | max_depth= 2  |  min_sample_leaf= 5  |  max_f= None  |  est= 1000  |  rule length= 29.2  |  estimators= 1000.0 / 1000\n",
            "10 / 27 | max_depth= 5  |  min_sample_leaf= 5  |  max_f= sqrt  |  est= 100  |  rule length= 24.733333333333334  |  estimators= 100.0 / 100\n",
            "11 / 27 | max_depth= 5  |  min_sample_leaf= 5  |  max_f= sqrt  |  est= 500  |  rule length= 29.733333333333334  |  estimators= 500.0 / 500\n",
            "12 / 27 | max_depth= 5  |  min_sample_leaf= 5  |  max_f= sqrt  |  est= 1000  |  rule length= 30.0  |  estimators= 1000.0 / 1000\n",
            "13 / 27 | max_depth= 5  |  min_sample_leaf= 5  |  max_f= 0.75  |  est= 100  |  rule length= 23.866666666666667  |  estimators= 100.0 / 100\n",
            "14 / 27 | max_depth= 5  |  min_sample_leaf= 5  |  max_f= 0.75  |  est= 500  |  rule length= 29.066666666666666  |  estimators= 500.0 / 500\n",
            "15 / 27 | max_depth= 5  |  min_sample_leaf= 5  |  max_f= 0.75  |  est= 1000  |  rule length= 29.533333333333335  |  estimators= 1000.0 / 1000\n",
            "16 / 27 | max_depth= 5  |  min_sample_leaf= 5  |  max_f= None  |  est= 100  |  rule length= 23.733333333333334  |  estimators= 100.0 / 100\n",
            "17 / 27 | max_depth= 5  |  min_sample_leaf= 5  |  max_f= None  |  est= 500  |  rule length= 29.266666666666666  |  estimators= 500.0 / 500\n",
            "18 / 27 | max_depth= 5  |  min_sample_leaf= 5  |  max_f= None  |  est= 1000  |  rule length= 29.8  |  estimators= 1000.0 / 1000\n",
            "19 / 27 | max_depth= 10  |  min_sample_leaf= 5  |  max_f= sqrt  |  est= 100  |  rule length= 24.733333333333334  |  estimators= 100.0 / 100\n",
            "20 / 27 | max_depth= 10  |  min_sample_leaf= 5  |  max_f= sqrt  |  est= 500  |  rule length= 29.733333333333334  |  estimators= 500.0 / 500\n",
            "21 / 27 | max_depth= 10  |  min_sample_leaf= 5  |  max_f= sqrt  |  est= 1000  |  rule length= 30.0  |  estimators= 1000.0 / 1000\n",
            "22 / 27 | max_depth= 10  |  min_sample_leaf= 5  |  max_f= 0.75  |  est= 100  |  rule length= 23.866666666666667  |  estimators= 100.0 / 100\n",
            "23 / 27 | max_depth= 10  |  min_sample_leaf= 5  |  max_f= 0.75  |  est= 500  |  rule length= 29.066666666666666  |  estimators= 500.0 / 500\n",
            "24 / 27 | max_depth= 10  |  min_sample_leaf= 5  |  max_f= 0.75  |  est= 1000  |  rule length= 29.533333333333335  |  estimators= 1000.0 / 1000\n",
            "25 / 27 | max_depth= 10  |  min_sample_leaf= 5  |  max_f= None  |  est= 100  |  rule length= 23.733333333333334  |  estimators= 100.0 / 100\n",
            "26 / 27 | max_depth= 10  |  min_sample_leaf= 5  |  max_f= None  |  est= 500  |  rule length= 29.266666666666666  |  estimators= 500.0 / 500\n",
            "27 / 27 | max_depth= 10  |  min_sample_leaf= 5  |  max_f= None  |  est= 1000  |  rule length= 29.8  |  estimators= 1000.0 / 1000\n"
          ]
        }
      ]
    },
    {
      "cell_type": "code",
      "source": [
        "best_par"
      ],
      "metadata": {
        "colab": {
          "base_uri": "https://localhost:8080/"
        },
        "id": "g73nBCtS03_B",
        "outputId": "2e09624e-2838-4b32-ca24-0a0638cbca51"
      },
      "execution_count": 4,
      "outputs": [
        {
          "output_type": "execute_result",
          "data": {
            "text/plain": [
              "{'max_d=': 2, 'min_s_l=': 5, 'm_f=': 0.75, 'est=': 100, 'rule length=': 21.6}"
            ]
          },
          "metadata": {},
          "execution_count": 4
        }
      ]
    }
  ]
}