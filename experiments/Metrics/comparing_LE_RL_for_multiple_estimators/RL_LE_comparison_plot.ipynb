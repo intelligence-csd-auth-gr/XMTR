{
  "nbformat": 4,
  "nbformat_minor": 0,
  "metadata": {
    "colab": {
      "provenance": []
    },
    "kernelspec": {
      "name": "python3",
      "display_name": "Python 3"
    },
    "language_info": {
      "name": "python"
    }
  },
  "cells": [
    {
      "cell_type": "code",
      "execution_count": 13,
      "metadata": {
        "id": "HSeBFdvsxPBC"
      },
      "outputs": [],
      "source": [
        "local_error = [2.01814370502376,\n",
        " 2.0288186264210495,\n",
        " 2.037926706649111,\n",
        " 2.03485711884485,\n",
        " 2.0420722677913976,\n",
        " 2.0342577349167055,\n",
        " 2.035503049291747,\n",
        " 2.039513753835292,\n",
        " 2.044352748042723,\n",
        " 2.0452754655043868,\n",
        " 2.044316089420582,\n",
        " 2.0448407285092736,\n",
        " 2.0427553024255443,\n",
        " 2.0445947411786025,\n",
        " 2.0455358050983343,\n",
        " 2.045487563071102,\n",
        " 2.04548728690282,\n",
        " 2.0455153210430024,\n",
        " 2.0440639101501263]"
      ]
    },
    {
      "cell_type": "code",
      "source": [
        "rule_len = [2.709677419354839, 2.161290322580645, 1.903225806451613, 1.903225806451613, 2.0, 1.903225806451613, 1.645161290322581, 1.774193548387097, 1.67741935483871, 1.580645161290323, 1.580645161290323, 1.709677419354839, 1.709677419354839, 1.709677419354839, 1.451612903225806, 1.451612903225806, 1.451612903225806, 1.451612903225806, 1.451612903225806]"
      ],
      "metadata": {
        "id": "WnQZ1bk7xY0i"
      },
      "execution_count": 4,
      "outputs": []
    },
    {
      "cell_type": "code",
      "source": [
        "ests = [i for i in range(100, 1001, 50)]\n",
        "ests"
      ],
      "metadata": {
        "colab": {
          "base_uri": "https://localhost:8080/"
        },
        "id": "rgDkk5RSxgEZ",
        "outputId": "3030b27d-44e3-43a8-e8ef-a171deb8530e"
      },
      "execution_count": 1,
      "outputs": [
        {
          "output_type": "execute_result",
          "data": {
            "text/plain": [
              "[100,\n",
              " 150,\n",
              " 200,\n",
              " 250,\n",
              " 300,\n",
              " 350,\n",
              " 400,\n",
              " 450,\n",
              " 500,\n",
              " 550,\n",
              " 600,\n",
              " 650,\n",
              " 700,\n",
              " 750,\n",
              " 800,\n",
              " 850,\n",
              " 900,\n",
              " 950,\n",
              " 1000]"
            ]
          },
          "metadata": {},
          "execution_count": 1
        }
      ]
    },
    {
      "cell_type": "code",
      "source": [
        "from sklearn.preprocessing import MinMaxScaler\n",
        "import numpy as np\n",
        "\n",
        "new_local_error = [i*1000 for i in local_error]\n",
        "data = []\n",
        "data.append(new_local_error)\n",
        "data.append(rule_len)\n",
        "scaler = MinMaxScaler(feature_range=(0, 1))\n",
        "normalized_local_error = scaler.fit_transform([[x] for x in local_error])\n",
        "\n",
        "scaler = MinMaxScaler(feature_range=(0, 1))\n",
        "normalized_rule_len = scaler.fit_transform([[x] for x in rule_len])\n"
      ],
      "metadata": {
        "id": "K9XfytlKzcjp"
      },
      "execution_count": 32,
      "outputs": []
    },
    {
      "cell_type": "code",
      "source": [
        "import matplotlib.pyplot as plt\n",
        "  \n",
        "# plot lines\n",
        "plt.plot(ests, normalized_local_error, label = \"Local error\")\n",
        "plt.plot(ests, normalized_rule_len, label = \"rule length\")\n",
        "plt.legend()\n",
        "plt.show()"
      ],
      "metadata": {
        "colab": {
          "base_uri": "https://localhost:8080/",
          "height": 265
        },
        "id": "3aCV7_3XxjAZ",
        "outputId": "b868856c-c219-4efa-b733-0d1b22290d84"
      },
      "execution_count": 34,
      "outputs": [
        {
          "output_type": "display_data",
          "data": {
            "text/plain": [
              "<Figure size 432x288 with 1 Axes>"
            ],
            "image/png": "[encoded data removed]"
          },
          "metadata": {
            "needs_background": "light"
          }
        }
      ]
    }
  ]
}