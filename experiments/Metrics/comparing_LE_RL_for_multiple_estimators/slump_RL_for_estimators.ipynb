{
  "nbformat": 4,
  "nbformat_minor": 0,
  "metadata": {
    "colab": {
      "provenance": []
    },
    "kernelspec": {
      "name": "python3",
      "display_name": "Python 3"
    },
    "language_info": {
      "name": "python"
    }
  },
  "cells": [
    {
      "cell_type": "code",
      "execution_count": 4,
      "metadata": {
        "id": "nkGCNvxl_apR"
      },
      "outputs": [],
      "source": [
        "from XMTR import MTR\n",
        "import numpy as np\n",
        "import pandas as pd\n",
        "from scipy.io import arff\n",
        "from sklearn.metrics import mean_absolute_error\n",
        "from sklearn.model_selection import train_test_split, GridSearchCV\n",
        "from sklearn.preprocessing import MinMaxScaler\n",
        "from sklearn.ensemble import RandomForestRegressor"
      ]
    },
    {
      "cell_type": "code",
      "source": [
        "my_array = [i for i in range(100, 1001, 20)]\n",
        "len(my_array)"
      ],
      "metadata": {
        "colab": {
          "base_uri": "https://localhost:8080/"
        },
        "id": "j5ZmVuBzAPXc",
        "outputId": "4423e478-eca9-40ec-ae9a-46f9d5d75bf0"
      },
      "execution_count": 3,
      "outputs": [
        {
          "output_type": "execute_result",
          "data": {
            "text/plain": [
              "46"
            ]
          },
          "metadata": {},
          "execution_count": 3
        }
      ]
    },
    {
      "cell_type": "code",
      "source": [
        "def calc_al_error(instance, perc):\n",
        "  # the error should be non zero\n",
        "  return (abs(instance)+0.1)*perc \n",
        "\n",
        "\n",
        "# load data\n",
        "slump_data = arff.loadarff('slump.arff')\n",
        "slump_df = pd.DataFrame(slump_data[0])\n",
        "\n",
        "# get column names\n",
        "column_names = slump_df.columns\n",
        "\n",
        "# get data/target values\n",
        "f_n = column_names[:7]\n",
        "t_n = column_names[7:]\n",
        "\n",
        "X = slump_df[f_n]\n",
        "y = slump_df[t_n]\n",
        "\n",
        "# convert to numpy\n",
        "X = X.to_numpy()\n",
        "y = y.to_numpy()\n",
        "\n",
        "# scale target values\n",
        "scaler = MinMaxScaler(feature_range=(0,10))\n",
        "y = scaler.fit_transform(y)\n",
        "\n",
        "# split data\n",
        "X_train, X_test, y_train, y_test = train_test_split(X, y, test_size=.3, random_state=42)\n",
        "allowed_error = 0.1\n",
        "\n",
        "max_ds = [2]\n",
        "min_s_ls = [10]\n",
        "m_fs = [None]\n",
        "\n",
        "ests = [i for i in range(100, 1001, 50)]\n",
        "rule_lengths = []\n",
        "total = (len(max_ds)*len(min_s_ls)*len(m_fs)*len(ests))\n",
        "counter = 1\n",
        "min_len = (len(f_n)+1) # just a ref, should be > than len(feature_names)\n",
        "for max_d in max_ds:\n",
        "  for min_s_l in min_s_ls:\n",
        "    for m_f in m_fs:\n",
        "      for est in ests:\n",
        "        # create/train model\n",
        "        RFmodel = RandomForestRegressor(n_estimators=est, max_depth=max_d, min_samples_leaf=min_s_l, max_features=m_f, n_jobs=-1, random_state=42)\n",
        "        RFmodel.fit(X_train, y_train)\n",
        "        MTR_obj = MTR(model=RFmodel, X_train = X_train, X_test=X_test, y_train=y_train, y_test=y_test, feature_names=f_n, target_names=t_n)\n",
        "        avgRuleLengths = 0\n",
        "        avgEstimators = []\n",
        "        # get results\n",
        "        for i in range(len(X_test)):\n",
        "          error = calc_al_error(y_test[i], allowed_error)\n",
        "          rule = MTR_obj.explain(X_test[i], error) # explain instance\n",
        "          feature_limits = MTR_obj.getFeatureLimits()\n",
        "          avgRuleLengths += len(feature_limits.keys())\n",
        "          estimators = MTR_obj.getAmountOfReduction() # get estimators\n",
        "          avgEstimators.append(estimators[0])\n",
        "        finalLen = avgRuleLengths/len(X_test)\n",
        "        rule_lengths.append((7-finalLen))\n",
        "        if finalLen < min_len:\n",
        "          min_len = finalLen\n",
        "          best_par = {\"max_d=\":max_d, \"min_s_l=\":min_s_l, \"m_f=\": m_f, \"est=\": est, \"rule length=\": finalLen}\n",
        "        print(counter, '/', total, \"| max_depth=\",max_d,\" | \", \"min_sample_leaf=\",min_s_l,\" | \", \"max_f=\", m_f,\" | \", \"est=\", est,\" | \", \"reduction=\", (7-finalLen),\" | \", \"estimators=\", round(np.array(avgEstimators).mean(),3),\"/\",est)\n",
        "        counter += 1"
      ],
      "metadata": {
        "colab": {
          "base_uri": "https://localhost:8080/"
        },
        "id": "YBGZeMXD_bmx",
        "outputId": "30477a7a-47c5-423f-dfa2-00572b442266"
      },
      "execution_count": 9,
      "outputs": [
        {
          "output_type": "stream",
          "name": "stdout",
          "text": [
            "1 / 19 | max_depth= 2  |  min_sample_leaf= 10  |  max_f= None  |  est= 100  |  reduction= 2.709677419354839  |  estimators= 92.903 / 100\n",
            "2 / 19 | max_depth= 2  |  min_sample_leaf= 10  |  max_f= None  |  est= 150  |  reduction= 2.161290322580645  |  estimators= 142.032 / 150\n",
            "3 / 19 | max_depth= 2  |  min_sample_leaf= 10  |  max_f= None  |  est= 200  |  reduction= 1.903225806451613  |  estimators= 189.484 / 200\n",
            "4 / 19 | max_depth= 2  |  min_sample_leaf= 10  |  max_f= None  |  est= 250  |  reduction= 1.903225806451613  |  estimators= 236.871 / 250\n",
            "5 / 19 | max_depth= 2  |  min_sample_leaf= 10  |  max_f= None  |  est= 300  |  reduction= 2.0  |  estimators= 277.903 / 300\n",
            "6 / 19 | max_depth= 2  |  min_sample_leaf= 10  |  max_f= None  |  est= 350  |  reduction= 1.903225806451613  |  estimators= 330.161 / 350\n",
            "7 / 19 | max_depth= 2  |  min_sample_leaf= 10  |  max_f= None  |  est= 400  |  reduction= 1.645161290322581  |  estimators= 378.903 / 400\n",
            "8 / 19 | max_depth= 2  |  min_sample_leaf= 10  |  max_f= None  |  est= 450  |  reduction= 1.774193548387097  |  estimators= 422.806 / 450\n",
            "9 / 19 | max_depth= 2  |  min_sample_leaf= 10  |  max_f= None  |  est= 500  |  reduction= 1.67741935483871  |  estimators= 471.581 / 500\n",
            "10 / 19 | max_depth= 2  |  min_sample_leaf= 10  |  max_f= None  |  est= 550  |  reduction= 1.580645161290323  |  estimators= 520.387 / 550\n",
            "11 / 19 | max_depth= 2  |  min_sample_leaf= 10  |  max_f= None  |  est= 600  |  reduction= 1.580645161290323  |  estimators= 565.194 / 600\n",
            "12 / 19 | max_depth= 2  |  min_sample_leaf= 10  |  max_f= None  |  est= 650  |  reduction= 1.709677419354839  |  estimators= 600.355 / 650\n",
            "13 / 19 | max_depth= 2  |  min_sample_leaf= 10  |  max_f= None  |  est= 700  |  reduction= 1.709677419354839  |  estimators= 645.903 / 700\n",
            "14 / 19 | max_depth= 2  |  min_sample_leaf= 10  |  max_f= None  |  est= 750  |  reduction= 1.709677419354839  |  estimators= 691.581 / 750\n",
            "15 / 19 | max_depth= 2  |  min_sample_leaf= 10  |  max_f= None  |  est= 800  |  reduction= 1.451612903225806  |  estimators= 738.903 / 800\n",
            "16 / 19 | max_depth= 2  |  min_sample_leaf= 10  |  max_f= None  |  est= 850  |  reduction= 1.451612903225806  |  estimators= 785.0 / 850\n",
            "17 / 19 | max_depth= 2  |  min_sample_leaf= 10  |  max_f= None  |  est= 900  |  reduction= 1.451612903225806  |  estimators= 831.419 / 900\n",
            "18 / 19 | max_depth= 2  |  min_sample_leaf= 10  |  max_f= None  |  est= 950  |  reduction= 1.451612903225806  |  estimators= 877.645 / 950\n",
            "19 / 19 | max_depth= 2  |  min_sample_leaf= 10  |  max_f= None  |  est= 1000  |  reduction= 1.451612903225806  |  estimators= 924.097 / 1000\n"
          ]
        }
      ]
    },
    {
      "cell_type": "code",
      "source": [
        "print(rule_lengths)"
      ],
      "metadata": {
        "colab": {
          "base_uri": "https://localhost:8080/"
        },
        "id": "5BixdO2LHsuG",
        "outputId": "bb7187db-ce4a-419c-8a95-58bb5ada28c4"
      },
      "execution_count": 10,
      "outputs": [
        {
          "output_type": "stream",
          "name": "stdout",
          "text": [
            "[2.709677419354839, 2.161290322580645, 1.903225806451613, 1.903225806451613, 2.0, 1.903225806451613, 1.645161290322581, 1.774193548387097, 1.67741935483871, 1.580645161290323, 1.580645161290323, 1.709677419354839, 1.709677419354839, 1.709677419354839, 1.451612903225806, 1.451612903225806, 1.451612903225806, 1.451612903225806, 1.451612903225806]\n"
          ]
        }
      ]
    },
    {
      "cell_type": "code",
      "source": [
        "\n",
        "for r in rule_lengths:\n",
        "  print(r)"
      ],
      "metadata": {
        "colab": {
          "base_uri": "https://localhost:8080/"
        },
        "id": "Z9bpoNhUHi8F",
        "outputId": "778a412f-5f51-4e9e-8095-f450dffe224b"
      },
      "execution_count": 11,
      "outputs": [
        {
          "output_type": "stream",
          "name": "stdout",
          "text": [
            "2.709677419354839\n",
            "2.161290322580645\n",
            "1.903225806451613\n",
            "1.903225806451613\n",
            "2.0\n",
            "1.903225806451613\n",
            "1.645161290322581\n",
            "1.774193548387097\n",
            "1.67741935483871\n",
            "1.580645161290323\n",
            "1.580645161290323\n",
            "1.709677419354839\n",
            "1.709677419354839\n",
            "1.709677419354839\n",
            "1.451612903225806\n",
            "1.451612903225806\n",
            "1.451612903225806\n",
            "1.451612903225806\n",
            "1.451612903225806\n"
          ]
        }
      ]
    }
  ]
}