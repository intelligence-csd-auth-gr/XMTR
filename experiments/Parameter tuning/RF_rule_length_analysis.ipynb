{
  "nbformat": 4,
  "nbformat_minor": 0,
  "metadata": {
    "colab": {
      "provenance": []
    },
    "kernelspec": {
      "name": "python3",
      "display_name": "Python 3"
    },
    "language_info": {
      "name": "python"
    }
  },
  "cells": [
    {
      "cell_type": "code",
      "execution_count": 3,
      "metadata": {
        "id": "b3qPXZLL7RuU"
      },
      "outputs": [],
      "source": [
        "from XMTR import MTR\n",
        "import numpy as np\n",
        "import pandas as pd\n",
        "from scipy.io import arff\n",
        "from sklearn.metrics import mean_absolute_error\n",
        "from sklearn.model_selection import train_test_split, GridSearchCV\n",
        "from sklearn.preprocessing import MinMaxScaler\n",
        "from sklearn.ensemble import RandomForestRegressor"
      ]
    },
    {
      "cell_type": "code",
      "source": [
        "def calc_al_error(instance, perc):\n",
        "  # the error should be non zero\n",
        "  return (abs(instance)+0.1)*perc \n",
        "\n",
        "\n",
        "RF2_df = pd.read_csv('RF2.csv')\n",
        "RF2_df = RF2_df.dropna(axis=0)\n",
        "\n",
        "RF2_cols = RF2_df.columns\n",
        "RF2_df = RF2_df[RF2_cols[1:]].reset_index(drop=True)\n",
        "RF2_df = RF2_df.iloc[:500]\n",
        "\n",
        "RF2_cols = RF2_df.columns\n",
        "f_n = RF2_cols[:200]\n",
        "t_n = RF2_cols[576:]\n",
        "#f_n = f_n[:15]\n",
        "#t_n = t_n[:5]\n",
        "\n",
        "X = RF2_df[f_n]\n",
        "y = RF2_df[t_n]\n",
        "\n",
        "# convert to numpy\n",
        "X = X.to_numpy()\n",
        "y = y.to_numpy()\n",
        "\n",
        "scaler = MinMaxScaler(feature_range=(1,10))\n",
        "y = scaler.fit_transform(y)\n",
        "\n",
        "\n",
        "# split data\n",
        "X_train, X_test, y_train, y_test = train_test_split(X, y, test_size=.1, random_state=42)\n",
        "allowed_error = 0.1\n",
        "print(len(X_test))\n",
        "max_ds = [5, 10]\n",
        "min_s_ls = [5, 10]\n",
        "m_fs = ['sqrt', 0.75, None]\n",
        "ests = [100, 500, 1000]\n",
        "total = (len(max_ds)*len(min_s_ls)*len(m_fs)*len(ests))\n",
        "counter = 1\n",
        "min_len = (len(f_n)+1) # just a ref, should be > than len(feature_names)\n",
        "for max_d in max_ds:\n",
        "  for min_s_l in min_s_ls:\n",
        "    for m_f in m_fs:\n",
        "      for est in ests:\n",
        "        # create/train model\n",
        "        RFmodel = RandomForestRegressor(n_estimators=est, max_depth=max_d, min_samples_leaf=min_s_l, max_features=m_f, n_jobs=-1, random_state=42)\n",
        "        RFmodel.fit(X_train, y_train)\n",
        "        MTR_obj = MTR(model=RFmodel, X_train = X_train, X_test=X_test, y_train=y_train, y_test=y_test, feature_names=f_n, target_names=t_n)\n",
        "        avgRuleLengths = 0\n",
        "        avgEstimators = []\n",
        "        # get results\n",
        "        for i in range(len(X_test)):\n",
        "          error = calc_al_error(y_test[i], allowed_error)\n",
        "          rule = MTR_obj.explain(X_test[i], error) # explain instance\n",
        "          feature_limits = MTR_obj.getFeatureLimits()\n",
        "          avgRuleLengths += len(feature_limits.keys())\n",
        "          estimators = MTR_obj.getAmountOfReduction() # get estimators\n",
        "          avgEstimators.append(estimators[0])\n",
        "        finalLen = avgRuleLengths/len(X_test)\n",
        "        if finalLen < min_len:\n",
        "          min_len = finalLen\n",
        "          best_par = {\"max_d=\":max_d, \"min_s_l=\":min_s_l, \"m_f=\": m_f, \"est=\": est, \"rule length=\": finalLen}\n",
        "        print(counter, '/', total, \"| max_depth=\",max_d,\" | \", \"min_sample_leaf=\",min_s_l,\" | \", \"max_f=\", m_f,\" | \", \"est=\", est,\" | \", \"rule length=\", finalLen,\" | \", \"estimators=\", round(np.array(avgEstimators).mean(),3),\"/\",est)\n",
        "        counter += 1"
      ],
      "metadata": {
        "colab": {
          "base_uri": "https://localhost:8080/"
        },
        "id": "I0uF_EMo7iMk",
        "outputId": "8d35f842-7b66-4c70-e361-e79a180f2631"
      },
      "execution_count": 6,
      "outputs": [
        {
          "output_type": "stream",
          "name": "stdout",
          "text": [
            "50\n",
            "1 / 36 | max_depth= 5  |  min_sample_leaf= 5  |  max_f= sqrt  |  est= 100  |  rule length= 86.94  |  estimators= 100.0 / 100\n",
            "2 / 36 | max_depth= 5  |  min_sample_leaf= 5  |  max_f= sqrt  |  est= 500  |  rule length= 130.16  |  estimators= 500.0 / 500\n",
            "3 / 36 | max_depth= 5  |  min_sample_leaf= 5  |  max_f= sqrt  |  est= 1000  |  rule length= 146.98  |  estimators= 1000.0 / 1000\n",
            "4 / 36 | max_depth= 5  |  min_sample_leaf= 5  |  max_f= 0.75  |  est= 100  |  rule length= 57.42  |  estimators= 100.0 / 100\n",
            "5 / 36 | max_depth= 5  |  min_sample_leaf= 5  |  max_f= 0.75  |  est= 500  |  rule length= 79.02  |  estimators= 500.0 / 500\n",
            "6 / 36 | max_depth= 5  |  min_sample_leaf= 5  |  max_f= 0.75  |  est= 1000  |  rule length= 88.46  |  estimators= 1000.0 / 1000\n",
            "7 / 36 | max_depth= 5  |  min_sample_leaf= 5  |  max_f= None  |  est= 100  |  rule length= 53.82  |  estimators= 100.0 / 100\n",
            "8 / 36 | max_depth= 5  |  min_sample_leaf= 5  |  max_f= None  |  est= 500  |  rule length= 73.26  |  estimators= 500.0 / 500\n",
            "9 / 36 | max_depth= 5  |  min_sample_leaf= 5  |  max_f= None  |  est= 1000  |  rule length= 81.3  |  estimators= 1000.0 / 1000\n",
            "10 / 36 | max_depth= 5  |  min_sample_leaf= 10  |  max_f= sqrt  |  est= 100  |  rule length= 82.06  |  estimators= 100.0 / 100\n",
            "11 / 36 | max_depth= 5  |  min_sample_leaf= 10  |  max_f= sqrt  |  est= 500  |  rule length= 119.9  |  estimators= 500.0 / 500\n",
            "12 / 36 | max_depth= 5  |  min_sample_leaf= 10  |  max_f= sqrt  |  est= 1000  |  rule length= 134.14  |  estimators= 1000.0 / 1000\n",
            "13 / 36 | max_depth= 5  |  min_sample_leaf= 10  |  max_f= 0.75  |  est= 100  |  rule length= 47.9  |  estimators= 100.0 / 100\n",
            "14 / 36 | max_depth= 5  |  min_sample_leaf= 10  |  max_f= 0.75  |  est= 500  |  rule length= 63.5  |  estimators= 500.0 / 500\n",
            "15 / 36 | max_depth= 5  |  min_sample_leaf= 10  |  max_f= 0.75  |  est= 1000  |  rule length= 70.32  |  estimators= 1000.0 / 1000\n",
            "16 / 36 | max_depth= 5  |  min_sample_leaf= 10  |  max_f= None  |  est= 100  |  rule length= 41.78  |  estimators= 100.0 / 100\n",
            "17 / 36 | max_depth= 5  |  min_sample_leaf= 10  |  max_f= None  |  est= 500  |  rule length= 57.8  |  estimators= 500.0 / 500\n",
            "18 / 36 | max_depth= 5  |  min_sample_leaf= 10  |  max_f= None  |  est= 1000  |  rule length= 63.2  |  estimators= 1000.0 / 1000\n",
            "19 / 36 | max_depth= 10  |  min_sample_leaf= 5  |  max_f= sqrt  |  est= 100  |  rule length= 101.98  |  estimators= 100.0 / 100\n",
            "20 / 36 | max_depth= 10  |  min_sample_leaf= 5  |  max_f= sqrt  |  est= 500  |  rule length= 150.0  |  estimators= 500.0 / 500\n",
            "21 / 36 | max_depth= 10  |  min_sample_leaf= 5  |  max_f= sqrt  |  est= 1000  |  rule length= 163.92  |  estimators= 1000.0 / 1000\n",
            "22 / 36 | max_depth= 10  |  min_sample_leaf= 5  |  max_f= 0.75  |  est= 100  |  rule length= 74.32  |  estimators= 100.0 / 100\n",
            "23 / 36 | max_depth= 10  |  min_sample_leaf= 5  |  max_f= 0.75  |  est= 500  |  rule length= 105.88  |  estimators= 500.0 / 500\n",
            "24 / 36 | max_depth= 10  |  min_sample_leaf= 5  |  max_f= 0.75  |  est= 1000  |  rule length= 120.84  |  estimators= 1000.0 / 1000\n",
            "25 / 36 | max_depth= 10  |  min_sample_leaf= 5  |  max_f= None  |  est= 100  |  rule length= 70.12  |  estimators= 100.0 / 100\n",
            "26 / 36 | max_depth= 10  |  min_sample_leaf= 5  |  max_f= None  |  est= 500  |  rule length= 102.78  |  estimators= 500.0 / 500\n",
            "27 / 36 | max_depth= 10  |  min_sample_leaf= 5  |  max_f= None  |  est= 1000  |  rule length= 117.2  |  estimators= 1000.0 / 1000\n",
            "28 / 36 | max_depth= 10  |  min_sample_leaf= 10  |  max_f= sqrt  |  est= 100  |  rule length= 93.8  |  estimators= 100.0 / 100\n",
            "29 / 36 | max_depth= 10  |  min_sample_leaf= 10  |  max_f= sqrt  |  est= 500  |  rule length= 136.1  |  estimators= 500.0 / 500\n",
            "30 / 36 | max_depth= 10  |  min_sample_leaf= 10  |  max_f= sqrt  |  est= 1000  |  rule length= 149.82  |  estimators= 1000.0 / 1000\n",
            "31 / 36 | max_depth= 10  |  min_sample_leaf= 10  |  max_f= 0.75  |  est= 100  |  rule length= 59.84  |  estimators= 100.0 / 100\n",
            "32 / 36 | max_depth= 10  |  min_sample_leaf= 10  |  max_f= 0.75  |  est= 500  |  rule length= 85.16  |  estimators= 500.0 / 500\n",
            "33 / 36 | max_depth= 10  |  min_sample_leaf= 10  |  max_f= 0.75  |  est= 1000  |  rule length= 95.78  |  estimators= 1000.0 / 1000\n",
            "34 / 36 | max_depth= 10  |  min_sample_leaf= 10  |  max_f= None  |  est= 100  |  rule length= 54.32  |  estimators= 100.0 / 100\n",
            "35 / 36 | max_depth= 10  |  min_sample_leaf= 10  |  max_f= None  |  est= 500  |  rule length= 77.34  |  estimators= 500.0 / 500\n",
            "36 / 36 | max_depth= 10  |  min_sample_leaf= 10  |  max_f= None  |  est= 1000  |  rule length= 88.04  |  estimators= 1000.0 / 1000\n"
          ]
        }
      ]
    },
    {
      "cell_type": "code",
      "source": [
        "best_par"
      ],
      "metadata": {
        "colab": {
          "base_uri": "https://localhost:8080/"
        },
        "id": "knIysdDsbaWo",
        "outputId": "47ef3d3c-9709-4c62-85a3-32124279d6a4"
      },
      "execution_count": 7,
      "outputs": [
        {
          "output_type": "execute_result",
          "data": {
            "text/plain": [
              "{'max_d=': 5, 'min_s_l=': 10, 'm_f=': None, 'est=': 100, 'rule length=': 41.78}"
            ]
          },
          "metadata": {},
          "execution_count": 7
        }
      ]
    }
  ]
}