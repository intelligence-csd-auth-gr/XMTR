{
  "nbformat": 4,
  "nbformat_minor": 0,
  "metadata": {
    "colab": {
      "provenance": []
    },
    "kernelspec": {
      "name": "python3",
      "display_name": "Python 3"
    },
    "language_info": {
      "name": "python"
    }
  },
  "cells": [
    {
      "cell_type": "code",
      "execution_count": 1,
      "metadata": {
        "id": "X0eed51Tlhnl"
      },
      "outputs": [],
      "source": [
        "from XMTR import MTR\n",
        "import numpy as np\n",
        "import pandas as pd\n",
        "from scipy.io import arff\n",
        "from sklearn.metrics import mean_absolute_error\n",
        "from sklearn.model_selection import train_test_split, GridSearchCV\n",
        "from sklearn.preprocessing import MinMaxScaler\n",
        "from sklearn.ensemble import RandomForestRegressor"
      ]
    },
    {
      "cell_type": "code",
      "source": [
        "def calc_al_error(instance, perc):\n",
        "  # the error should be non zero\n",
        "  return (abs(instance)+0.1)*perc \n",
        "\n",
        "\n",
        "# load data\n",
        "slump_data = arff.loadarff('slump.arff')\n",
        "slump_df = pd.DataFrame(slump_data[0])\n",
        "\n",
        "# get column names\n",
        "column_names = slump_df.columns\n",
        "\n",
        "# get data/target values\n",
        "f_n = column_names[:7]\n",
        "t_n = column_names[7:]\n",
        "\n",
        "X = slump_df[f_n]\n",
        "y = slump_df[t_n]\n",
        "\n",
        "# convert to numpy\n",
        "X = X.to_numpy()\n",
        "y = y.to_numpy()\n",
        "\n",
        "# scale target values\n",
        "scaler = MinMaxScaler(feature_range=(0,10))\n",
        "y = scaler.fit_transform(y)\n",
        "\n",
        "# split data\n",
        "X_train, X_test, y_train, y_test = train_test_split(X, y, test_size=.3, random_state=42)\n",
        "allowed_error = 0.1\n",
        "\n",
        "max_ds = [2, 5, 10]\n",
        "min_s_ls = [5, 10]\n",
        "m_fs = ['sqrt', 'log2', 0.75, None]\n",
        "ests = [100, 500, 1000]\n",
        "total = (len(max_ds)*len(min_s_ls)*len(m_fs)*len(ests))\n",
        "counter = 1\n",
        "min_len = (len(f_n)+1) # just a ref, should be > than len(feature_names)\n",
        "for max_d in max_ds:\n",
        "  for min_s_l in min_s_ls:\n",
        "    for m_f in m_fs:\n",
        "      for est in ests:\n",
        "        # create/train model\n",
        "        RFmodel = RandomForestRegressor(n_estimators=est, max_depth=max_d, min_samples_leaf=min_s_l, max_features=m_f, n_jobs=-1, random_state=42)\n",
        "        RFmodel.fit(X_train, y_train)\n",
        "        MTR_obj = MTR(model=RFmodel, X_train = X_train, X_test=X_test, y_train=y_train, y_test=y_test, feature_names=f_n, target_names=t_n)\n",
        "        avgRuleLengths = 0\n",
        "        avgEstimators = []\n",
        "        # get results\n",
        "        for i in range(len(X_test)):\n",
        "          error = calc_al_error(y_test[i], allowed_error)\n",
        "          rule = MTR_obj.explain(X_test[i], error) # explain instance\n",
        "          feature_limits = MTR_obj.getFeatureLimits()\n",
        "          avgRuleLengths += len(feature_limits.keys())\n",
        "          estimators = MTR_obj.getAmountOfReduction() # get estimators\n",
        "          avgEstimators.append(estimators[0])\n",
        "        finalLen = avgRuleLengths/len(X_test)\n",
        "        if finalLen < min_len:\n",
        "          min_len = finalLen\n",
        "          best_par = {\"max_d=\":max_d, \"min_s_l=\":min_s_l, \"m_f=\": m_f, \"est=\": est, \"rule length=\": finalLen}\n",
        "        print(counter, '/', total, \"| max_depth=\",max_d,\" | \", \"min_sample_leaf=\",min_s_l,\" | \", \"max_f=\", m_f,\" | \", \"est=\", est,\" | \", \"rule length=\", finalLen,\" | \", \"estimators=\", round(np.array(avgEstimators).mean(),3),\"/\",est)\n",
        "        counter += 1"
      ],
      "metadata": {
        "colab": {
          "base_uri": "https://localhost:8080/"
        },
        "id": "RSr1LXG7l0U_",
        "outputId": "bc6a3cf0-1a9c-4e37-9a75-8fdf467c3e00"
      },
      "execution_count": 2,
      "outputs": [
        {
          "output_type": "stream",
          "name": "stdout",
          "text": [
            "1 / 72 | max_depth= 2  |  min_sample_leaf= 5  |  max_f= sqrt  |  est= 100  |  rule length= 7.0  |  estimators= 100.0 / 100\n",
            "2 / 72 | max_depth= 2  |  min_sample_leaf= 5  |  max_f= sqrt  |  est= 500  |  rule length= 7.0  |  estimators= 500.0 / 500\n",
            "3 / 72 | max_depth= 2  |  min_sample_leaf= 5  |  max_f= sqrt  |  est= 1000  |  rule length= 7.0  |  estimators= 1000.0 / 1000\n",
            "4 / 72 | max_depth= 2  |  min_sample_leaf= 5  |  max_f= log2  |  est= 100  |  rule length= 7.0  |  estimators= 100.0 / 100\n",
            "5 / 72 | max_depth= 2  |  min_sample_leaf= 5  |  max_f= log2  |  est= 500  |  rule length= 7.0  |  estimators= 500.0 / 500\n",
            "6 / 72 | max_depth= 2  |  min_sample_leaf= 5  |  max_f= log2  |  est= 1000  |  rule length= 7.0  |  estimators= 1000.0 / 1000\n",
            "7 / 72 | max_depth= 2  |  min_sample_leaf= 5  |  max_f= 0.75  |  est= 100  |  rule length= 6.032258064516129  |  estimators= 98.29 / 100\n",
            "8 / 72 | max_depth= 2  |  min_sample_leaf= 5  |  max_f= 0.75  |  est= 500  |  rule length= 5.903225806451613  |  estimators= 469.806 / 500\n",
            "9 / 72 | max_depth= 2  |  min_sample_leaf= 5  |  max_f= 0.75  |  est= 1000  |  rule length= 6.870967741935484  |  estimators= 991.452 / 1000\n",
            "10 / 72 | max_depth= 2  |  min_sample_leaf= 5  |  max_f= None  |  est= 100  |  rule length= 4.935483870967742  |  estimators= 93.29 / 100\n",
            "11 / 72 | max_depth= 2  |  min_sample_leaf= 5  |  max_f= None  |  est= 500  |  rule length= 5.258064516129032  |  estimators= 466.645 / 500\n",
            "12 / 72 | max_depth= 2  |  min_sample_leaf= 5  |  max_f= None  |  est= 1000  |  rule length= 5.612903225806452  |  estimators= 935.935 / 1000\n",
            "13 / 72 | max_depth= 2  |  min_sample_leaf= 10  |  max_f= sqrt  |  est= 100  |  rule length= 7.0  |  estimators= 100.0 / 100\n",
            "14 / 72 | max_depth= 2  |  min_sample_leaf= 10  |  max_f= sqrt  |  est= 500  |  rule length= 7.0  |  estimators= 500.0 / 500\n",
            "15 / 72 | max_depth= 2  |  min_sample_leaf= 10  |  max_f= sqrt  |  est= 1000  |  rule length= 7.0  |  estimators= 1000.0 / 1000\n",
            "16 / 72 | max_depth= 2  |  min_sample_leaf= 10  |  max_f= log2  |  est= 100  |  rule length= 7.0  |  estimators= 100.0 / 100\n",
            "17 / 72 | max_depth= 2  |  min_sample_leaf= 10  |  max_f= log2  |  est= 500  |  rule length= 7.0  |  estimators= 500.0 / 500\n",
            "18 / 72 | max_depth= 2  |  min_sample_leaf= 10  |  max_f= log2  |  est= 1000  |  rule length= 7.0  |  estimators= 1000.0 / 1000\n",
            "19 / 72 | max_depth= 2  |  min_sample_leaf= 10  |  max_f= 0.75  |  est= 100  |  rule length= 5.419354838709677  |  estimators= 92.839 / 100\n",
            "20 / 72 | max_depth= 2  |  min_sample_leaf= 10  |  max_f= 0.75  |  est= 500  |  rule length= 5.903225806451613  |  estimators= 460.129 / 500\n",
            "21 / 72 | max_depth= 2  |  min_sample_leaf= 10  |  max_f= 0.75  |  est= 1000  |  rule length= 5.903225806451613  |  estimators= 923.258 / 1000\n",
            "22 / 72 | max_depth= 2  |  min_sample_leaf= 10  |  max_f= None  |  est= 100  |  rule length= 4.290322580645161  |  estimators= 92.903 / 100\n",
            "23 / 72 | max_depth= 2  |  min_sample_leaf= 10  |  max_f= None  |  est= 500  |  rule length= 5.32258064516129  |  estimators= 471.581 / 500\n",
            "24 / 72 | max_depth= 2  |  min_sample_leaf= 10  |  max_f= None  |  est= 1000  |  rule length= 5.548387096774194  |  estimators= 924.097 / 1000\n",
            "25 / 72 | max_depth= 5  |  min_sample_leaf= 5  |  max_f= sqrt  |  est= 100  |  rule length= 7.0  |  estimators= 94.452 / 100\n",
            "26 / 72 | max_depth= 5  |  min_sample_leaf= 5  |  max_f= sqrt  |  est= 500  |  rule length= 7.0  |  estimators= 464.097 / 500\n",
            "27 / 72 | max_depth= 5  |  min_sample_leaf= 5  |  max_f= sqrt  |  est= 1000  |  rule length= 7.0  |  estimators= 932.548 / 1000\n",
            "28 / 72 | max_depth= 5  |  min_sample_leaf= 5  |  max_f= log2  |  est= 100  |  rule length= 7.0  |  estimators= 94.452 / 100\n",
            "29 / 72 | max_depth= 5  |  min_sample_leaf= 5  |  max_f= log2  |  est= 500  |  rule length= 7.0  |  estimators= 464.097 / 500\n",
            "30 / 72 | max_depth= 5  |  min_sample_leaf= 5  |  max_f= log2  |  est= 1000  |  rule length= 7.0  |  estimators= 932.548 / 1000\n",
            "31 / 72 | max_depth= 5  |  min_sample_leaf= 5  |  max_f= 0.75  |  est= 100  |  rule length= 6.741935483870968  |  estimators= 97.161 / 100\n",
            "32 / 72 | max_depth= 5  |  min_sample_leaf= 5  |  max_f= 0.75  |  est= 500  |  rule length= 6.709677419354839  |  estimators= 484.258 / 500\n",
            "33 / 72 | max_depth= 5  |  min_sample_leaf= 5  |  max_f= 0.75  |  est= 1000  |  rule length= 6.741935483870968  |  estimators= 970.613 / 1000\n",
            "34 / 72 | max_depth= 5  |  min_sample_leaf= 5  |  max_f= None  |  est= 100  |  rule length= 6.387096774193548  |  estimators= 97.677 / 100\n",
            "35 / 72 | max_depth= 5  |  min_sample_leaf= 5  |  max_f= None  |  est= 500  |  rule length= 6.548387096774194  |  estimators= 487.935 / 500\n",
            "36 / 72 | max_depth= 5  |  min_sample_leaf= 5  |  max_f= None  |  est= 1000  |  rule length= 6.612903225806452  |  estimators= 971.677 / 1000\n",
            "37 / 72 | max_depth= 5  |  min_sample_leaf= 10  |  max_f= sqrt  |  est= 100  |  rule length= 7.0  |  estimators= 100.0 / 100\n",
            "38 / 72 | max_depth= 5  |  min_sample_leaf= 10  |  max_f= sqrt  |  est= 500  |  rule length= 7.0  |  estimators= 500.0 / 500\n",
            "39 / 72 | max_depth= 5  |  min_sample_leaf= 10  |  max_f= sqrt  |  est= 1000  |  rule length= 7.0  |  estimators= 1000.0 / 1000\n",
            "40 / 72 | max_depth= 5  |  min_sample_leaf= 10  |  max_f= log2  |  est= 100  |  rule length= 7.0  |  estimators= 100.0 / 100\n",
            "41 / 72 | max_depth= 5  |  min_sample_leaf= 10  |  max_f= log2  |  est= 500  |  rule length= 7.0  |  estimators= 500.0 / 500\n",
            "42 / 72 | max_depth= 5  |  min_sample_leaf= 10  |  max_f= log2  |  est= 1000  |  rule length= 7.0  |  estimators= 1000.0 / 1000\n",
            "43 / 72 | max_depth= 5  |  min_sample_leaf= 10  |  max_f= 0.75  |  est= 100  |  rule length= 5.193548387096774  |  estimators= 91.71 / 100\n",
            "44 / 72 | max_depth= 5  |  min_sample_leaf= 10  |  max_f= 0.75  |  est= 500  |  rule length= 5.903225806451613  |  estimators= 462.419 / 500\n",
            "45 / 72 | max_depth= 5  |  min_sample_leaf= 10  |  max_f= 0.75  |  est= 1000  |  rule length= 5.903225806451613  |  estimators= 924.613 / 1000\n",
            "46 / 72 | max_depth= 5  |  min_sample_leaf= 10  |  max_f= None  |  est= 100  |  rule length= 4.612903225806452  |  estimators= 93.323 / 100\n",
            "47 / 72 | max_depth= 5  |  min_sample_leaf= 10  |  max_f= None  |  est= 500  |  rule length= 5.32258064516129  |  estimators= 462.903 / 500\n",
            "48 / 72 | max_depth= 5  |  min_sample_leaf= 10  |  max_f= None  |  est= 1000  |  rule length= 5.580645161290323  |  estimators= 926.129 / 1000\n",
            "49 / 72 | max_depth= 10  |  min_sample_leaf= 5  |  max_f= sqrt  |  est= 100  |  rule length= 7.0  |  estimators= 94.452 / 100\n",
            "50 / 72 | max_depth= 10  |  min_sample_leaf= 5  |  max_f= sqrt  |  est= 500  |  rule length= 7.0  |  estimators= 464.097 / 500\n",
            "51 / 72 | max_depth= 10  |  min_sample_leaf= 5  |  max_f= sqrt  |  est= 1000  |  rule length= 7.0  |  estimators= 932.71 / 1000\n",
            "52 / 72 | max_depth= 10  |  min_sample_leaf= 5  |  max_f= log2  |  est= 100  |  rule length= 7.0  |  estimators= 94.452 / 100\n",
            "53 / 72 | max_depth= 10  |  min_sample_leaf= 5  |  max_f= log2  |  est= 500  |  rule length= 7.0  |  estimators= 464.097 / 500\n",
            "54 / 72 | max_depth= 10  |  min_sample_leaf= 5  |  max_f= log2  |  est= 1000  |  rule length= 7.0  |  estimators= 932.71 / 1000\n",
            "55 / 72 | max_depth= 10  |  min_sample_leaf= 5  |  max_f= 0.75  |  est= 100  |  rule length= 6.774193548387097  |  estimators= 97.097 / 100\n",
            "56 / 72 | max_depth= 10  |  min_sample_leaf= 5  |  max_f= 0.75  |  est= 500  |  rule length= 6.67741935483871  |  estimators= 481.645 / 500\n",
            "57 / 72 | max_depth= 10  |  min_sample_leaf= 5  |  max_f= 0.75  |  est= 1000  |  rule length= 6.741935483870968  |  estimators= 970.613 / 1000\n",
            "58 / 72 | max_depth= 10  |  min_sample_leaf= 5  |  max_f= None  |  est= 100  |  rule length= 6.387096774193548  |  estimators= 97.677 / 100\n",
            "59 / 72 | max_depth= 10  |  min_sample_leaf= 5  |  max_f= None  |  est= 500  |  rule length= 6.548387096774194  |  estimators= 487.935 / 500\n",
            "60 / 72 | max_depth= 10  |  min_sample_leaf= 5  |  max_f= None  |  est= 1000  |  rule length= 6.580645161290323  |  estimators= 969.581 / 1000\n",
            "61 / 72 | max_depth= 10  |  min_sample_leaf= 10  |  max_f= sqrt  |  est= 100  |  rule length= 7.0  |  estimators= 100.0 / 100\n",
            "62 / 72 | max_depth= 10  |  min_sample_leaf= 10  |  max_f= sqrt  |  est= 500  |  rule length= 7.0  |  estimators= 500.0 / 500\n",
            "63 / 72 | max_depth= 10  |  min_sample_leaf= 10  |  max_f= sqrt  |  est= 1000  |  rule length= 7.0  |  estimators= 1000.0 / 1000\n",
            "64 / 72 | max_depth= 10  |  min_sample_leaf= 10  |  max_f= log2  |  est= 100  |  rule length= 7.0  |  estimators= 100.0 / 100\n",
            "65 / 72 | max_depth= 10  |  min_sample_leaf= 10  |  max_f= log2  |  est= 500  |  rule length= 7.0  |  estimators= 500.0 / 500\n",
            "66 / 72 | max_depth= 10  |  min_sample_leaf= 10  |  max_f= log2  |  est= 1000  |  rule length= 7.0  |  estimators= 1000.0 / 1000\n",
            "67 / 72 | max_depth= 10  |  min_sample_leaf= 10  |  max_f= 0.75  |  est= 100  |  rule length= 5.193548387096774  |  estimators= 91.71 / 100\n",
            "68 / 72 | max_depth= 10  |  min_sample_leaf= 10  |  max_f= 0.75  |  est= 500  |  rule length= 5.903225806451613  |  estimators= 462.419 / 500\n",
            "69 / 72 | max_depth= 10  |  min_sample_leaf= 10  |  max_f= 0.75  |  est= 1000  |  rule length= 5.903225806451613  |  estimators= 924.613 / 1000\n",
            "70 / 72 | max_depth= 10  |  min_sample_leaf= 10  |  max_f= None  |  est= 100  |  rule length= 4.612903225806452  |  estimators= 93.323 / 100\n",
            "71 / 72 | max_depth= 10  |  min_sample_leaf= 10  |  max_f= None  |  est= 500  |  rule length= 5.32258064516129  |  estimators= 462.903 / 500\n",
            "72 / 72 | max_depth= 10  |  min_sample_leaf= 10  |  max_f= None  |  est= 1000  |  rule length= 5.580645161290323  |  estimators= 926.129 / 1000\n"
          ]
        }
      ]
    },
    {
      "cell_type": "code",
      "source": [
        "best_par"
      ],
      "metadata": {
        "colab": {
          "base_uri": "https://localhost:8080/"
        },
        "id": "27u4QjDW7zsW",
        "outputId": "a46924d1-d5ca-4813-eeae-79a0117c122e"
      },
      "execution_count": 3,
      "outputs": [
        {
          "output_type": "execute_result",
          "data": {
            "text/plain": [
              "{'max_d=': 2,\n",
              " 'min_s_l=': 10,\n",
              " 'm_f=': None,\n",
              " 'est=': 100,\n",
              " 'rule length=': 4.290322580645161}"
            ]
          },
          "metadata": {},
          "execution_count": 3
        }
      ]
    }
  ]
}