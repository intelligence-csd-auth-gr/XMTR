{
  "nbformat": 4,
  "nbformat_minor": 0,
  "metadata": {
    "colab": {
      "provenance": []
    },
    "kernelspec": {
      "name": "python3",
      "display_name": "Python 3"
    },
    "language_info": {
      "name": "python"
    }
  },
  "cells": [
    {
      "cell_type": "code",
      "execution_count": 1,
      "metadata": {
        "id": "X0eed51Tlhnl"
      },
      "outputs": [],
      "source": [
        "from XMTR import MTR\n",
        "import numpy as np\n",
        "import pandas as pd\n",
        "from scipy.io import arff\n",
        "from sklearn.metrics import mean_absolute_error\n",
        "from sklearn.model_selection import train_test_split, GridSearchCV\n",
        "from sklearn.preprocessing import MinMaxScaler\n",
        "from sklearn.ensemble import RandomForestRegressor"
      ]
    },
    {
      "cell_type": "code",
      "source": [
        "def calc_al_error(instance, perc):\n",
        "  # the error should be non zero\n",
        "  return (abs(instance)+0.1)*perc \n",
        "\n",
        "\n",
        "# load data\n",
        "slump_data = arff.loadarff('slump.arff')\n",
        "slump_df = pd.DataFrame(slump_data[0])\n",
        "\n",
        "# get column names\n",
        "column_names = slump_df.columns\n",
        "\n",
        "# get data/target values\n",
        "feature_names = column_names[:7]\n",
        "target_names = column_names[7:]\n",
        "\n",
        "X = slump_df[feature_names]\n",
        "y = slump_df[target_names]\n",
        "\n",
        "# convert to numpy\n",
        "X = X.to_numpy()\n",
        "y = y.to_numpy()\n",
        "\n",
        "# scale target values\n",
        "scaler = MinMaxScaler(feature_range=(0,10))\n",
        "y = scaler.fit_transform(y)\n",
        "\n",
        "# split data\n",
        "X_train, X_test, y_train, y_test = train_test_split(X, y, test_size=.3, random_state=42)\n",
        "allowed_error = 0.1\n",
        "\n",
        "min_len = 10 # just a ref, should be > than len(feature_names)\n",
        "for max_d in [2, 5, 10]:\n",
        "  for min_s_l in [5, 10]:\n",
        "    for m_f in ['sqrt', 'log2', 0.75, None]:\n",
        "      for est in [100, 500, 1000]:\n",
        "        # create/train model\n",
        "        RFmodel = RandomForestRegressor(n_estimators=est, min_samples_leaf=min_s_l, max_features=m_f, n_jobs=-1, random_state=42)\n",
        "        RFmodel.fit(X_train, y_train)\n",
        "        MTR_obj = MTR(model=RFmodel, X_train = X_train, X_test=X_test, y_train=y_train, y_test=y_test, feature_names=feature_names, target_names=target_names)\n",
        "        avgRuleLengths = 0\n",
        "        avgEstimators = []\n",
        "        # get results\n",
        "        for i in range(len(X_test)):\n",
        "          error = calc_al_error(y_test[i], allowed_error)\n",
        "          rule = MTR_obj.explain(X_test[i], error) # explain instance\n",
        "          feature_limits = MTR_obj.getFeatureLimits()\n",
        "          avgRuleLengths += len(feature_limits.keys())\n",
        "          estimators = MTR_obj.getAmountOfReduction() # get estimators\n",
        "          avgEstimators.append(estimators[0])\n",
        "        finalLen = avgRuleLengths/len(X_test)\n",
        "        if finalLen < min_len:\n",
        "          min_len = finalLen\n",
        "          best_par = {\"max_d=\":max_d, \"min_s_l=\":min_s_l, \"m_f=\": m_f, \"est=\": est, \"rule length=\": finalLen}\n",
        "        print(\"max_depth=\",max_d,\" | \", \"min_sample_leaf=\",min_s_l,\" | \", \"max_f=\", m_f,\" | \", \"est=\", est,\" | \", \"rule length=\", finalLen,\" | \", \"estimators=\", round(np.array(avgEstimators).mean(),3),\"/\",est)"
      ],
      "metadata": {
        "colab": {
          "base_uri": "https://localhost:8080/"
        },
        "id": "RSr1LXG7l0U_",
        "outputId": "b6ef25c7-9b4e-4de7-9ec1-155609a72055"
      },
      "execution_count": 4,
      "outputs": [
        {
          "output_type": "stream",
          "name": "stdout",
          "text": [
            "max_depth= 2  |  min_sample_leaf= 5  |  max_f= sqrt  |  est= 100  |  rule length= 7.0  |  estimators= 94.452 / 100\n",
            "max_depth= 2  |  min_sample_leaf= 5  |  max_f= sqrt  |  est= 500  |  rule length= 7.0  |  estimators= 464.097 / 500\n",
            "max_depth= 2  |  min_sample_leaf= 5  |  max_f= sqrt  |  est= 1000  |  rule length= 7.0  |  estimators= 932.71 / 1000\n",
            "max_depth= 2  |  min_sample_leaf= 5  |  max_f= log2  |  est= 100  |  rule length= 7.0  |  estimators= 94.452 / 100\n",
            "max_depth= 2  |  min_sample_leaf= 5  |  max_f= log2  |  est= 500  |  rule length= 7.0  |  estimators= 464.097 / 500\n",
            "max_depth= 2  |  min_sample_leaf= 5  |  max_f= log2  |  est= 1000  |  rule length= 7.0  |  estimators= 932.71 / 1000\n",
            "max_depth= 2  |  min_sample_leaf= 5  |  max_f= 0.75  |  est= 100  |  rule length= 6.774193548387097  |  estimators= 97.097 / 100\n",
            "max_depth= 2  |  min_sample_leaf= 5  |  max_f= 0.75  |  est= 500  |  rule length= 6.67741935483871  |  estimators= 481.645 / 500\n",
            "max_depth= 2  |  min_sample_leaf= 5  |  max_f= 0.75  |  est= 1000  |  rule length= 6.741935483870968  |  estimators= 970.613 / 1000\n",
            "max_depth= 2  |  min_sample_leaf= 5  |  max_f= None  |  est= 100  |  rule length= 6.387096774193548  |  estimators= 97.677 / 100\n",
            "max_depth= 2  |  min_sample_leaf= 5  |  max_f= None  |  est= 500  |  rule length= 6.548387096774194  |  estimators= 487.935 / 500\n",
            "max_depth= 2  |  min_sample_leaf= 5  |  max_f= None  |  est= 1000  |  rule length= 6.580645161290323  |  estimators= 969.581 / 1000\n",
            "max_depth= 2  |  min_sample_leaf= 10  |  max_f= sqrt  |  est= 100  |  rule length= 7.0  |  estimators= 100.0 / 100\n",
            "max_depth= 2  |  min_sample_leaf= 10  |  max_f= sqrt  |  est= 500  |  rule length= 7.0  |  estimators= 500.0 / 500\n",
            "max_depth= 2  |  min_sample_leaf= 10  |  max_f= sqrt  |  est= 1000  |  rule length= 7.0  |  estimators= 1000.0 / 1000\n",
            "max_depth= 2  |  min_sample_leaf= 10  |  max_f= log2  |  est= 100  |  rule length= 7.0  |  estimators= 100.0 / 100\n",
            "max_depth= 2  |  min_sample_leaf= 10  |  max_f= log2  |  est= 500  |  rule length= 7.0  |  estimators= 500.0 / 500\n",
            "max_depth= 2  |  min_sample_leaf= 10  |  max_f= log2  |  est= 1000  |  rule length= 7.0  |  estimators= 1000.0 / 1000\n",
            "max_depth= 2  |  min_sample_leaf= 10  |  max_f= 0.75  |  est= 100  |  rule length= 5.193548387096774  |  estimators= 91.71 / 100\n",
            "max_depth= 2  |  min_sample_leaf= 10  |  max_f= 0.75  |  est= 500  |  rule length= 5.903225806451613  |  estimators= 462.419 / 500\n",
            "max_depth= 2  |  min_sample_leaf= 10  |  max_f= 0.75  |  est= 1000  |  rule length= 5.903225806451613  |  estimators= 924.613 / 1000\n",
            "max_depth= 2  |  min_sample_leaf= 10  |  max_f= None  |  est= 100  |  rule length= 4.612903225806452  |  estimators= 93.323 / 100\n",
            "max_depth= 2  |  min_sample_leaf= 10  |  max_f= None  |  est= 500  |  rule length= 5.32258064516129  |  estimators= 462.903 / 500\n",
            "max_depth= 2  |  min_sample_leaf= 10  |  max_f= None  |  est= 1000  |  rule length= 5.580645161290323  |  estimators= 926.129 / 1000\n",
            "max_depth= 5  |  min_sample_leaf= 5  |  max_f= sqrt  |  est= 100  |  rule length= 7.0  |  estimators= 94.452 / 100\n",
            "max_depth= 5  |  min_sample_leaf= 5  |  max_f= sqrt  |  est= 500  |  rule length= 7.0  |  estimators= 464.097 / 500\n",
            "max_depth= 5  |  min_sample_leaf= 5  |  max_f= sqrt  |  est= 1000  |  rule length= 7.0  |  estimators= 932.71 / 1000\n",
            "max_depth= 5  |  min_sample_leaf= 5  |  max_f= log2  |  est= 100  |  rule length= 7.0  |  estimators= 94.452 / 100\n",
            "max_depth= 5  |  min_sample_leaf= 5  |  max_f= log2  |  est= 500  |  rule length= 7.0  |  estimators= 464.097 / 500\n",
            "max_depth= 5  |  min_sample_leaf= 5  |  max_f= log2  |  est= 1000  |  rule length= 7.0  |  estimators= 932.71 / 1000\n",
            "max_depth= 5  |  min_sample_leaf= 5  |  max_f= 0.75  |  est= 100  |  rule length= 6.774193548387097  |  estimators= 97.097 / 100\n",
            "max_depth= 5  |  min_sample_leaf= 5  |  max_f= 0.75  |  est= 500  |  rule length= 6.67741935483871  |  estimators= 481.645 / 500\n",
            "max_depth= 5  |  min_sample_leaf= 5  |  max_f= 0.75  |  est= 1000  |  rule length= 6.741935483870968  |  estimators= 970.613 / 1000\n",
            "max_depth= 5  |  min_sample_leaf= 5  |  max_f= None  |  est= 100  |  rule length= 6.387096774193548  |  estimators= 97.677 / 100\n",
            "max_depth= 5  |  min_sample_leaf= 5  |  max_f= None  |  est= 500  |  rule length= 6.548387096774194  |  estimators= 487.935 / 500\n",
            "max_depth= 5  |  min_sample_leaf= 5  |  max_f= None  |  est= 1000  |  rule length= 6.580645161290323  |  estimators= 969.581 / 1000\n",
            "max_depth= 5  |  min_sample_leaf= 10  |  max_f= sqrt  |  est= 100  |  rule length= 7.0  |  estimators= 100.0 / 100\n",
            "max_depth= 5  |  min_sample_leaf= 10  |  max_f= sqrt  |  est= 500  |  rule length= 7.0  |  estimators= 500.0 / 500\n",
            "max_depth= 5  |  min_sample_leaf= 10  |  max_f= sqrt  |  est= 1000  |  rule length= 7.0  |  estimators= 1000.0 / 1000\n",
            "max_depth= 5  |  min_sample_leaf= 10  |  max_f= log2  |  est= 100  |  rule length= 7.0  |  estimators= 100.0 / 100\n",
            "max_depth= 5  |  min_sample_leaf= 10  |  max_f= log2  |  est= 500  |  rule length= 7.0  |  estimators= 500.0 / 500\n",
            "max_depth= 5  |  min_sample_leaf= 10  |  max_f= log2  |  est= 1000  |  rule length= 7.0  |  estimators= 1000.0 / 1000\n",
            "max_depth= 5  |  min_sample_leaf= 10  |  max_f= 0.75  |  est= 100  |  rule length= 5.193548387096774  |  estimators= 91.71 / 100\n",
            "max_depth= 5  |  min_sample_leaf= 10  |  max_f= 0.75  |  est= 500  |  rule length= 5.903225806451613  |  estimators= 462.419 / 500\n",
            "max_depth= 5  |  min_sample_leaf= 10  |  max_f= 0.75  |  est= 1000  |  rule length= 5.903225806451613  |  estimators= 924.613 / 1000\n",
            "max_depth= 5  |  min_sample_leaf= 10  |  max_f= None  |  est= 100  |  rule length= 4.612903225806452  |  estimators= 93.323 / 100\n",
            "max_depth= 5  |  min_sample_leaf= 10  |  max_f= None  |  est= 500  |  rule length= 5.32258064516129  |  estimators= 462.903 / 500\n",
            "max_depth= 5  |  min_sample_leaf= 10  |  max_f= None  |  est= 1000  |  rule length= 5.580645161290323  |  estimators= 926.129 / 1000\n",
            "max_depth= 10  |  min_sample_leaf= 5  |  max_f= sqrt  |  est= 100  |  rule length= 7.0  |  estimators= 94.452 / 100\n",
            "max_depth= 10  |  min_sample_leaf= 5  |  max_f= sqrt  |  est= 500  |  rule length= 7.0  |  estimators= 464.097 / 500\n",
            "max_depth= 10  |  min_sample_leaf= 5  |  max_f= sqrt  |  est= 1000  |  rule length= 7.0  |  estimators= 932.71 / 1000\n",
            "max_depth= 10  |  min_sample_leaf= 5  |  max_f= log2  |  est= 100  |  rule length= 7.0  |  estimators= 94.452 / 100\n",
            "max_depth= 10  |  min_sample_leaf= 5  |  max_f= log2  |  est= 500  |  rule length= 7.0  |  estimators= 464.097 / 500\n",
            "max_depth= 10  |  min_sample_leaf= 5  |  max_f= log2  |  est= 1000  |  rule length= 7.0  |  estimators= 932.71 / 1000\n",
            "max_depth= 10  |  min_sample_leaf= 5  |  max_f= 0.75  |  est= 100  |  rule length= 6.774193548387097  |  estimators= 97.097 / 100\n",
            "max_depth= 10  |  min_sample_leaf= 5  |  max_f= 0.75  |  est= 500  |  rule length= 6.67741935483871  |  estimators= 481.645 / 500\n",
            "max_depth= 10  |  min_sample_leaf= 5  |  max_f= 0.75  |  est= 1000  |  rule length= 6.741935483870968  |  estimators= 970.613 / 1000\n",
            "max_depth= 10  |  min_sample_leaf= 5  |  max_f= None  |  est= 100  |  rule length= 6.387096774193548  |  estimators= 97.677 / 100\n",
            "max_depth= 10  |  min_sample_leaf= 5  |  max_f= None  |  est= 500  |  rule length= 6.548387096774194  |  estimators= 487.935 / 500\n",
            "max_depth= 10  |  min_sample_leaf= 5  |  max_f= None  |  est= 1000  |  rule length= 6.580645161290323  |  estimators= 969.581 / 1000\n",
            "max_depth= 10  |  min_sample_leaf= 10  |  max_f= sqrt  |  est= 100  |  rule length= 7.0  |  estimators= 100.0 / 100\n",
            "max_depth= 10  |  min_sample_leaf= 10  |  max_f= sqrt  |  est= 500  |  rule length= 7.0  |  estimators= 500.0 / 500\n",
            "max_depth= 10  |  min_sample_leaf= 10  |  max_f= sqrt  |  est= 1000  |  rule length= 7.0  |  estimators= 1000.0 / 1000\n",
            "max_depth= 10  |  min_sample_leaf= 10  |  max_f= log2  |  est= 100  |  rule length= 7.0  |  estimators= 100.0 / 100\n",
            "max_depth= 10  |  min_sample_leaf= 10  |  max_f= log2  |  est= 500  |  rule length= 7.0  |  estimators= 500.0 / 500\n",
            "max_depth= 10  |  min_sample_leaf= 10  |  max_f= log2  |  est= 1000  |  rule length= 7.0  |  estimators= 1000.0 / 1000\n",
            "max_depth= 10  |  min_sample_leaf= 10  |  max_f= 0.75  |  est= 100  |  rule length= 5.193548387096774  |  estimators= 91.71 / 100\n",
            "max_depth= 10  |  min_sample_leaf= 10  |  max_f= 0.75  |  est= 500  |  rule length= 5.903225806451613  |  estimators= 462.419 / 500\n",
            "max_depth= 10  |  min_sample_leaf= 10  |  max_f= 0.75  |  est= 1000  |  rule length= 5.903225806451613  |  estimators= 924.613 / 1000\n",
            "max_depth= 10  |  min_sample_leaf= 10  |  max_f= None  |  est= 100  |  rule length= 4.612903225806452  |  estimators= 93.323 / 100\n",
            "max_depth= 10  |  min_sample_leaf= 10  |  max_f= None  |  est= 500  |  rule length= 5.32258064516129  |  estimators= 462.903 / 500\n",
            "max_depth= 10  |  min_sample_leaf= 10  |  max_f= None  |  est= 1000  |  rule length= 5.580645161290323  |  estimators= 926.129 / 1000\n"
          ]
        }
      ]
    },
    {
      "cell_type": "code",
      "source": [
        "best_par"
      ],
      "metadata": {
        "colab": {
          "base_uri": "https://localhost:8080/"
        },
        "id": "27u4QjDW7zsW",
        "outputId": "b4d45609-ce54-4386-d7a8-14309fc631cf"
      },
      "execution_count": 5,
      "outputs": [
        {
          "output_type": "execute_result",
          "data": {
            "text/plain": [
              "{'max_d=': 2,\n",
              " 'min_s_l=': 10,\n",
              " 'm_f=': None,\n",
              " 'est=': 100,\n",
              " 'rule length=': 4.612903225806452}"
            ]
          },
          "metadata": {},
          "execution_count": 5
        }
      ]
    }
  ]
}