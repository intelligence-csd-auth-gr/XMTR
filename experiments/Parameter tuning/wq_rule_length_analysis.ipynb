{
  "nbformat": 4,
  "nbformat_minor": 0,
  "metadata": {
    "colab": {
      "provenance": []
    },
    "kernelspec": {
      "name": "python3",
      "display_name": "Python 3"
    },
    "language_info": {
      "name": "python"
    }
  },
  "cells": [
    {
      "cell_type": "code",
      "source": [
        "from XMTR import MTR\n",
        "import numpy as np\n",
        "import pandas as pd\n",
        "from scipy.io import arff\n",
        "from sklearn.metrics import mean_absolute_error\n",
        "from sklearn.model_selection import train_test_split, GridSearchCV\n",
        "from sklearn.preprocessing import MinMaxScaler\n",
        "from sklearn.ensemble import RandomForestRegressor"
      ],
      "metadata": {
        "id": "DoE92xHt2uaS"
      },
      "execution_count": 1,
      "outputs": []
    },
    {
      "cell_type": "code",
      "execution_count": 8,
      "metadata": {
        "colab": {
          "base_uri": "https://localhost:8080/"
        },
        "id": "ZR73mi2k2WAL",
        "outputId": "3a07d5f3-a34d-498c-dc58-a4f66dfca254"
      },
      "outputs": [
        {
          "output_type": "stream",
          "name": "stdout",
          "text": [
            "1 / 54 | max_depth= 2  |  min_sample_leaf= 5  |  max_f= sqrt  |  est= 100  |  rule length= 15.98  |  estimators= 99.14 / 100\n",
            "2 / 54 | max_depth= 2  |  min_sample_leaf= 5  |  max_f= sqrt  |  est= 500  |  rule length= 16.0  |  estimators= 500.0 / 500\n",
            "3 / 54 | max_depth= 2  |  min_sample_leaf= 5  |  max_f= sqrt  |  est= 1000  |  rule length= 16.0  |  estimators= 1000.0 / 1000\n",
            "4 / 54 | max_depth= 2  |  min_sample_leaf= 5  |  max_f= 0.75  |  est= 100  |  rule length= 16.0  |  estimators= 99.12 / 100\n",
            "5 / 54 | max_depth= 2  |  min_sample_leaf= 5  |  max_f= 0.75  |  est= 500  |  rule length= 16.0  |  estimators= 497.16 / 500\n",
            "6 / 54 | max_depth= 2  |  min_sample_leaf= 5  |  max_f= 0.75  |  est= 1000  |  rule length= 16.0  |  estimators= 995.66 / 1000\n",
            "7 / 54 | max_depth= 2  |  min_sample_leaf= 5  |  max_f= None  |  est= 100  |  rule length= 16.0  |  estimators= 98.88 / 100\n",
            "8 / 54 | max_depth= 2  |  min_sample_leaf= 5  |  max_f= None  |  est= 500  |  rule length= 16.0  |  estimators= 495.8 / 500\n",
            "9 / 54 | max_depth= 2  |  min_sample_leaf= 5  |  max_f= None  |  est= 1000  |  rule length= 16.0  |  estimators= 994.32 / 1000\n",
            "10 / 54 | max_depth= 2  |  min_sample_leaf= 10  |  max_f= sqrt  |  est= 100  |  rule length= 15.98  |  estimators= 99.92 / 100\n",
            "11 / 54 | max_depth= 2  |  min_sample_leaf= 10  |  max_f= sqrt  |  est= 500  |  rule length= 16.0  |  estimators= 500.0 / 500\n",
            "12 / 54 | max_depth= 2  |  min_sample_leaf= 10  |  max_f= sqrt  |  est= 1000  |  rule length= 16.0  |  estimators= 1000.0 / 1000\n",
            "13 / 54 | max_depth= 2  |  min_sample_leaf= 10  |  max_f= 0.75  |  est= 100  |  rule length= 15.98  |  estimators= 99.84 / 100\n",
            "14 / 54 | max_depth= 2  |  min_sample_leaf= 10  |  max_f= 0.75  |  est= 500  |  rule length= 16.0  |  estimators= 500.0 / 500\n",
            "15 / 54 | max_depth= 2  |  min_sample_leaf= 10  |  max_f= 0.75  |  est= 1000  |  rule length= 16.0  |  estimators= 1000.0 / 1000\n",
            "16 / 54 | max_depth= 2  |  min_sample_leaf= 10  |  max_f= None  |  est= 100  |  rule length= 16.0  |  estimators= 99.92 / 100\n",
            "17 / 54 | max_depth= 2  |  min_sample_leaf= 10  |  max_f= None  |  est= 500  |  rule length= 16.0  |  estimators= 500.0 / 500\n",
            "18 / 54 | max_depth= 2  |  min_sample_leaf= 10  |  max_f= None  |  est= 1000  |  rule length= 16.0  |  estimators= 1000.0 / 1000\n",
            "19 / 54 | max_depth= 5  |  min_sample_leaf= 5  |  max_f= sqrt  |  est= 100  |  rule length= 15.98  |  estimators= 99.14 / 100\n",
            "20 / 54 | max_depth= 5  |  min_sample_leaf= 5  |  max_f= sqrt  |  est= 500  |  rule length= 16.0  |  estimators= 500.0 / 500\n",
            "21 / 54 | max_depth= 5  |  min_sample_leaf= 5  |  max_f= sqrt  |  est= 1000  |  rule length= 16.0  |  estimators= 1000.0 / 1000\n",
            "22 / 54 | max_depth= 5  |  min_sample_leaf= 5  |  max_f= 0.75  |  est= 100  |  rule length= 16.0  |  estimators= 99.12 / 100\n",
            "23 / 54 | max_depth= 5  |  min_sample_leaf= 5  |  max_f= 0.75  |  est= 500  |  rule length= 16.0  |  estimators= 497.16 / 500\n",
            "24 / 54 | max_depth= 5  |  min_sample_leaf= 5  |  max_f= 0.75  |  est= 1000  |  rule length= 16.0  |  estimators= 995.66 / 1000\n",
            "25 / 54 | max_depth= 5  |  min_sample_leaf= 5  |  max_f= None  |  est= 100  |  rule length= 16.0  |  estimators= 98.88 / 100\n",
            "26 / 54 | max_depth= 5  |  min_sample_leaf= 5  |  max_f= None  |  est= 500  |  rule length= 16.0  |  estimators= 495.8 / 500\n",
            "27 / 54 | max_depth= 5  |  min_sample_leaf= 5  |  max_f= None  |  est= 1000  |  rule length= 16.0  |  estimators= 994.32 / 1000\n",
            "28 / 54 | max_depth= 5  |  min_sample_leaf= 10  |  max_f= sqrt  |  est= 100  |  rule length= 15.98  |  estimators= 99.92 / 100\n",
            "29 / 54 | max_depth= 5  |  min_sample_leaf= 10  |  max_f= sqrt  |  est= 500  |  rule length= 16.0  |  estimators= 500.0 / 500\n",
            "30 / 54 | max_depth= 5  |  min_sample_leaf= 10  |  max_f= sqrt  |  est= 1000  |  rule length= 16.0  |  estimators= 1000.0 / 1000\n",
            "31 / 54 | max_depth= 5  |  min_sample_leaf= 10  |  max_f= 0.75  |  est= 100  |  rule length= 15.98  |  estimators= 99.84 / 100\n",
            "32 / 54 | max_depth= 5  |  min_sample_leaf= 10  |  max_f= 0.75  |  est= 500  |  rule length= 16.0  |  estimators= 500.0 / 500\n",
            "33 / 54 | max_depth= 5  |  min_sample_leaf= 10  |  max_f= 0.75  |  est= 1000  |  rule length= 16.0  |  estimators= 1000.0 / 1000\n",
            "34 / 54 | max_depth= 5  |  min_sample_leaf= 10  |  max_f= None  |  est= 100  |  rule length= 16.0  |  estimators= 99.92 / 100\n",
            "35 / 54 | max_depth= 5  |  min_sample_leaf= 10  |  max_f= None  |  est= 500  |  rule length= 16.0  |  estimators= 500.0 / 500\n",
            "36 / 54 | max_depth= 5  |  min_sample_leaf= 10  |  max_f= None  |  est= 1000  |  rule length= 16.0  |  estimators= 1000.0 / 1000\n",
            "37 / 54 | max_depth= 10  |  min_sample_leaf= 5  |  max_f= sqrt  |  est= 100  |  rule length= 15.98  |  estimators= 99.14 / 100\n",
            "38 / 54 | max_depth= 10  |  min_sample_leaf= 5  |  max_f= sqrt  |  est= 500  |  rule length= 16.0  |  estimators= 500.0 / 500\n",
            "39 / 54 | max_depth= 10  |  min_sample_leaf= 5  |  max_f= sqrt  |  est= 1000  |  rule length= 16.0  |  estimators= 1000.0 / 1000\n",
            "40 / 54 | max_depth= 10  |  min_sample_leaf= 5  |  max_f= 0.75  |  est= 100  |  rule length= 16.0  |  estimators= 99.12 / 100\n",
            "41 / 54 | max_depth= 10  |  min_sample_leaf= 5  |  max_f= 0.75  |  est= 500  |  rule length= 16.0  |  estimators= 497.16 / 500\n",
            "42 / 54 | max_depth= 10  |  min_sample_leaf= 5  |  max_f= 0.75  |  est= 1000  |  rule length= 16.0  |  estimators= 995.66 / 1000\n",
            "43 / 54 | max_depth= 10  |  min_sample_leaf= 5  |  max_f= None  |  est= 100  |  rule length= 16.0  |  estimators= 98.88 / 100\n",
            "44 / 54 | max_depth= 10  |  min_sample_leaf= 5  |  max_f= None  |  est= 500  |  rule length= 16.0  |  estimators= 495.8 / 500\n",
            "45 / 54 | max_depth= 10  |  min_sample_leaf= 5  |  max_f= None  |  est= 1000  |  rule length= 16.0  |  estimators= 994.32 / 1000\n",
            "46 / 54 | max_depth= 10  |  min_sample_leaf= 10  |  max_f= sqrt  |  est= 100  |  rule length= 15.98  |  estimators= 99.92 / 100\n",
            "47 / 54 | max_depth= 10  |  min_sample_leaf= 10  |  max_f= sqrt  |  est= 500  |  rule length= 16.0  |  estimators= 500.0 / 500\n",
            "48 / 54 | max_depth= 10  |  min_sample_leaf= 10  |  max_f= sqrt  |  est= 1000  |  rule length= 16.0  |  estimators= 1000.0 / 1000\n",
            "49 / 54 | max_depth= 10  |  min_sample_leaf= 10  |  max_f= 0.75  |  est= 100  |  rule length= 15.98  |  estimators= 99.84 / 100\n",
            "50 / 54 | max_depth= 10  |  min_sample_leaf= 10  |  max_f= 0.75  |  est= 500  |  rule length= 16.0  |  estimators= 500.0 / 500\n",
            "51 / 54 | max_depth= 10  |  min_sample_leaf= 10  |  max_f= 0.75  |  est= 1000  |  rule length= 16.0  |  estimators= 1000.0 / 1000\n",
            "52 / 54 | max_depth= 10  |  min_sample_leaf= 10  |  max_f= None  |  est= 100  |  rule length= 16.0  |  estimators= 99.92 / 100\n",
            "53 / 54 | max_depth= 10  |  min_sample_leaf= 10  |  max_f= None  |  est= 500  |  rule length= 16.0  |  estimators= 500.0 / 500\n",
            "54 / 54 | max_depth= 10  |  min_sample_leaf= 10  |  max_f= None  |  est= 1000  |  rule length= 16.0  |  estimators= 1000.0 / 1000\n"
          ]
        }
      ],
      "source": [
        "def calc_al_error(instance, perc):\n",
        "  # the error should be non zero\n",
        "  return (abs(instance)+0.1)*perc \n",
        "\n",
        "\n",
        "# load data\n",
        "wq_data = arff.loadarff('wq.arff')\n",
        "wq_df = pd.DataFrame(wq_data[0])\n",
        "wq_df = wq_df.iloc[:500]\n",
        "\n",
        "# get column names\n",
        "column_names = wq_df.columns\n",
        "\n",
        "# get data/target names\n",
        "f_n = column_names[:16]\n",
        "t_n = column_names[16:]\n",
        "\n",
        "X = wq_df[f_n]\n",
        "y = wq_df[t_n]\n",
        "\n",
        "# convert to numpy\n",
        "X = X.to_numpy()\n",
        "y = y.to_numpy()\n",
        "\n",
        "scaler = MinMaxScaler(feature_range=(1,10))\n",
        "y = scaler.fit_transform(y)\n",
        "\n",
        "\n",
        "# split data\n",
        "X_train, X_test, y_train, y_test = train_test_split(X, y, test_size=.1, random_state=42)\n",
        "allowed_error = 0.2\n",
        "\n",
        "max_ds = [2, 5, 10]\n",
        "min_s_ls = [5, 10]\n",
        "m_fs = ['sqrt', 0.75, None]\n",
        "ests = [100, 500, 1000]\n",
        "total = (len(max_ds)*len(min_s_ls)*len(m_fs)*len(ests))\n",
        "counter = 1\n",
        "min_len = (len(f_n)+1) # just a ref, should be > than len(feature_names)\n",
        "for max_d in max_ds:\n",
        "  for min_s_l in min_s_ls:\n",
        "    for m_f in m_fs:\n",
        "      for est in ests:\n",
        "        # create/train model\n",
        "        RFmodel = RandomForestRegressor(n_estimators=est, min_samples_leaf=min_s_l, max_features=m_f, n_jobs=-1, random_state=42)\n",
        "        RFmodel.fit(X_train, y_train)\n",
        "        MTR_obj = MTR(model=RFmodel, X_train = X_train, X_test=X_test, y_train=y_train, y_test=y_test, feature_names=f_n, target_names=t_n)\n",
        "        avgRuleLengths = 0\n",
        "        avgEstimators = []\n",
        "        # get results\n",
        "        for i in range(len(X_test)):\n",
        "          error = calc_al_error(y_test[i], allowed_error)\n",
        "          rule = MTR_obj.explain(X_test[i], error) # explain instance\n",
        "          feature_limits = MTR_obj.getFeatureLimits()\n",
        "          avgRuleLengths += len(feature_limits.keys())\n",
        "          estimators = MTR_obj.getAmountOfReduction() # get estimators\n",
        "          avgEstimators.append(estimators[0])\n",
        "        finalLen = avgRuleLengths/len(X_test)\n",
        "        if finalLen < min_len:\n",
        "          min_len = finalLen\n",
        "          best_par = {\"max_d=\":max_d, \"min_s_l=\":min_s_l, \"m_f=\": m_f, \"est=\": est, \"rule length=\": finalLen}\n",
        "        print(counter, '/', total, \"| max_depth=\",max_d,\" | \", \"min_sample_leaf=\",min_s_l,\" | \", \"max_f=\", m_f,\" | \", \"est=\", est,\" | \", \"rule length=\", finalLen,\" | \", \"estimators=\", round(np.array(avgEstimators).mean(),3),\"/\",est)\n",
        "        counter += 1"
      ]
    },
    {
      "cell_type": "code",
      "source": [
        "best_par"
      ],
      "metadata": {
        "colab": {
          "base_uri": "https://localhost:8080/"
        },
        "id": "nZrU-wx6bemu",
        "outputId": "45c5f09e-aec0-4245-84f4-146c518b6eb6"
      },
      "execution_count": 9,
      "outputs": [
        {
          "output_type": "execute_result",
          "data": {
            "text/plain": [
              "{'max_d=': 2,\n",
              " 'min_s_l=': 5,\n",
              " 'm_f=': 'sqrt',\n",
              " 'est=': 100,\n",
              " 'rule length=': 15.98}"
            ]
          },
          "metadata": {},
          "execution_count": 9
        }
      ]
    }
  ]
}