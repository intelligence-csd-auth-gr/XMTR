{
  "nbformat": 4,
  "nbformat_minor": 0,
  "metadata": {
    "colab": {
      "provenance": []
    },
    "kernelspec": {
      "name": "python3",
      "display_name": "Python 3"
    },
    "language_info": {
      "name": "python"
    }
  },
  "cells": [
    {
      "cell_type": "code",
      "execution_count": 1,
      "metadata": {
        "id": "yKcwu27AbTnZ"
      },
      "outputs": [],
      "source": [
        "from XMTR import MTR\n",
        "import numpy as np\n",
        "import pandas as pd\n",
        "from scipy.io import arff\n",
        "from sklearn.metrics import mean_absolute_error\n",
        "from sklearn.model_selection import train_test_split, GridSearchCV\n",
        "from sklearn.preprocessing import MinMaxScaler\n",
        "from sklearn.ensemble import RandomForestRegressor"
      ]
    },
    {
      "cell_type": "code",
      "source": [
        "def calc_al_error(instance, perc):\n",
        "  # the error should be non zero\n",
        "  return (abs(instance)+0.1)*perc \n",
        "\n",
        "# load data\n",
        "andro_data = arff.loadarff('andro.arff')\n",
        "andro_df = pd.DataFrame(andro_data[0])\n",
        "\n",
        "# get column names\n",
        "column_names = andro_df.columns\n",
        "\n",
        "# get data/target names\n",
        "f_n = column_names[:30]\n",
        "t_n = column_names[30:]\n",
        "\n",
        "X = andro_df[f_n]\n",
        "y = andro_df[t_n]\n",
        "\n",
        "# convert to numpy\n",
        "X = X.to_numpy()\n",
        "y = y.to_numpy()\n",
        "\n",
        "\n",
        "# scale target values\n",
        "scalerY = MinMaxScaler(feature_range=(0,10))\n",
        "y = scalerY.fit_transform(y)\n",
        "\n",
        "# split data\n",
        "X_train, X_test, y_train, y_test = train_test_split(X, y, test_size=.3, random_state=42)\n",
        "allowed_error = 2\n",
        "\n",
        "max_ds = [2, 5, 10]\n",
        "min_s_ls = [5]\n",
        "m_fs = ['sqrt', 0.75, None]\n",
        "ests = [10, 100, 500, 1000]\n",
        "total = (len(max_ds)*len(min_s_ls)*len(m_fs)*len(ests))\n",
        "counter = 1\n",
        "min_error = 10**10 # just a ref\n",
        "for max_d in max_ds:\n",
        "  for min_s_l in min_s_ls:\n",
        "    for m_f in m_fs:\n",
        "      for est in ests:\n",
        "        # create/train model\n",
        "        RFmodel = RandomForestRegressor(n_estimators=est, max_depth=max_d, min_samples_leaf=min_s_l, max_features=m_f, n_jobs=-1, random_state=42)\n",
        "        RFmodel.fit(X_train, y_train)\n",
        "        MTR_obj = MTR(model=RFmodel, X_train = X_train, X_test=X_test, y_train=y_train, y_test=y_test, feature_names=f_n, target_names=t_n)\n",
        "        #avgRuleLengths = 0\n",
        "        avgEstimators = []\n",
        "        #actualpreds = []\n",
        "        MTRpreds = []\n",
        "        # get results\n",
        "        for i in range(len(X_test)):\n",
        "          error = calc_al_error(y_test[i], allowed_error)\n",
        "          rule = MTR_obj.explain(X_test[i], error) # explain instance\n",
        "          \n",
        "          #actualpreds.append(y_test[i])\n",
        "          decisionsAndErrors = MTR_obj.getDecisionsAndErros() # get preds/errors\n",
        "          MTRpreds.append(decisionsAndErrors)\n",
        "\n",
        "          #feature_limits = MTR_obj.getFeatureLimits()\n",
        "          #avgRuleLengths += len(feature_limits.keys())\n",
        "          estimators = MTR_obj.getAmountOfReduction() # get estimators\n",
        "          avgEstimators.append(estimators[0])\n",
        "        #finalLen = avgRuleLengths/len(X_test)\n",
        "\n",
        "        #actualpreds = np.array(actualpreds)\n",
        "        MTRpreds = np.array(MTRpreds)\n",
        "\n",
        "        # local error\n",
        "        MTRerrors = np.array([subarray[:,1] for subarray in MTRpreds])\n",
        "        total_error = np.mean(MTRerrors, axis=0) # error per target\n",
        "        final_error = np.array(total_error).mean() # avg error\n",
        "\n",
        "        if final_error < min_error:\n",
        "          min_error = final_error\n",
        "          best_par = {\"max_d=\":max_d, \"min_s_l=\":min_s_l, \"m_f=\": m_f, \"est=\": est, \"local error=\": final_error}\n",
        "        print(counter, '/', total, \"| max_depth=\",max_d,\" | \", \"min_sample_leaf=\",min_s_l,\" | \", \"max_f=\", m_f,\" | \", \"est=\", est,\" | \", \"local error=\", final_error, \" | \", \"estimators=\", round(np.array(avgEstimators).mean(),3),\"/\",est)\n",
        "        counter += 1"
      ],
      "metadata": {
        "colab": {
          "base_uri": "https://localhost:8080/"
        },
        "id": "dpMM7J_dbqfw",
        "outputId": "c22eb1e2-2e31-44ed-d5ff-790e0c427df4"
      },
      "execution_count": 9,
      "outputs": [
        {
          "output_type": "stream",
          "name": "stdout",
          "text": [
            "1 / 36 | max_depth= 2  |  min_sample_leaf= 5  |  max_f= sqrt  |  est= 10  |  local error= 2.2594151356827683  |  estimators= 4.267 / 10\n",
            "2 / 36 | max_depth= 2  |  min_sample_leaf= 5  |  max_f= sqrt  |  est= 100  |  local error= 0.0  |  estimators= 100.0 / 100\n",
            "3 / 36 | max_depth= 2  |  min_sample_leaf= 5  |  max_f= sqrt  |  est= 500  |  local error= 0.0  |  estimators= 500.0 / 500\n",
            "4 / 36 | max_depth= 2  |  min_sample_leaf= 5  |  max_f= sqrt  |  est= 1000  |  local error= 0.0  |  estimators= 1000.0 / 1000\n",
            "5 / 36 | max_depth= 2  |  min_sample_leaf= 5  |  max_f= 0.75  |  est= 10  |  local error= 2.450409103925527  |  estimators= 4.2 / 10\n",
            "6 / 36 | max_depth= 2  |  min_sample_leaf= 5  |  max_f= 0.75  |  est= 100  |  local error= 1.9522508314912237  |  estimators= 53.8 / 100\n",
            "7 / 36 | max_depth= 2  |  min_sample_leaf= 5  |  max_f= 0.75  |  est= 500  |  local error= 0.0  |  estimators= 500.0 / 500\n",
            "8 / 36 | max_depth= 2  |  min_sample_leaf= 5  |  max_f= 0.75  |  est= 1000  |  local error= 0.0  |  estimators= 1000.0 / 1000\n",
            "9 / 36 | max_depth= 2  |  min_sample_leaf= 5  |  max_f= None  |  est= 10  |  local error= 2.447808987738546  |  estimators= 4.2 / 10\n",
            "10 / 36 | max_depth= 2  |  min_sample_leaf= 5  |  max_f= None  |  est= 100  |  local error= 2.2488015216456847  |  estimators= 47.2 / 100\n",
            "11 / 36 | max_depth= 2  |  min_sample_leaf= 5  |  max_f= None  |  est= 500  |  local error= 0.0  |  estimators= 500.0 / 500\n",
            "12 / 36 | max_depth= 2  |  min_sample_leaf= 5  |  max_f= None  |  est= 1000  |  local error= 0.0  |  estimators= 1000.0 / 1000\n",
            "13 / 36 | max_depth= 5  |  min_sample_leaf= 5  |  max_f= sqrt  |  est= 10  |  local error= 2.3290690343883633  |  estimators= 4.267 / 10\n",
            "14 / 36 | max_depth= 5  |  min_sample_leaf= 5  |  max_f= sqrt  |  est= 100  |  local error= 0.0  |  estimators= 100.0 / 100\n",
            "15 / 36 | max_depth= 5  |  min_sample_leaf= 5  |  max_f= sqrt  |  est= 500  |  local error= 0.0  |  estimators= 500.0 / 500\n",
            "16 / 36 | max_depth= 5  |  min_sample_leaf= 5  |  max_f= sqrt  |  est= 1000  |  local error= 0.0  |  estimators= 1000.0 / 1000\n",
            "17 / 36 | max_depth= 5  |  min_sample_leaf= 5  |  max_f= 0.75  |  est= 10  |  local error= 2.6209276094260887  |  estimators= 4.2 / 10\n",
            "18 / 36 | max_depth= 5  |  min_sample_leaf= 5  |  max_f= 0.75  |  est= 100  |  local error= 2.412077533476366  |  estimators= 47.067 / 100\n",
            "19 / 36 | max_depth= 5  |  min_sample_leaf= 5  |  max_f= 0.75  |  est= 500  |  local error= 0.0  |  estimators= 500.0 / 500\n",
            "20 / 36 | max_depth= 5  |  min_sample_leaf= 5  |  max_f= 0.75  |  est= 1000  |  local error= 0.0  |  estimators= 1000.0 / 1000\n",
            "21 / 36 | max_depth= 5  |  min_sample_leaf= 5  |  max_f= None  |  est= 10  |  local error= 2.649492865942952  |  estimators= 4.2 / 10\n",
            "22 / 36 | max_depth= 5  |  min_sample_leaf= 5  |  max_f= None  |  est= 100  |  local error= 2.7327806847851512  |  estimators= 40.467 / 100\n",
            "23 / 36 | max_depth= 5  |  min_sample_leaf= 5  |  max_f= None  |  est= 500  |  local error= 0.0  |  estimators= 500.0 / 500\n",
            "24 / 36 | max_depth= 5  |  min_sample_leaf= 5  |  max_f= None  |  est= 1000  |  local error= 0.0  |  estimators= 1000.0 / 1000\n",
            "25 / 36 | max_depth= 10  |  min_sample_leaf= 5  |  max_f= sqrt  |  est= 10  |  local error= 2.3290690343883633  |  estimators= 4.267 / 10\n",
            "26 / 36 | max_depth= 10  |  min_sample_leaf= 5  |  max_f= sqrt  |  est= 100  |  local error= 0.0  |  estimators= 100.0 / 100\n",
            "27 / 36 | max_depth= 10  |  min_sample_leaf= 5  |  max_f= sqrt  |  est= 500  |  local error= 0.0  |  estimators= 500.0 / 500\n",
            "28 / 36 | max_depth= 10  |  min_sample_leaf= 5  |  max_f= sqrt  |  est= 1000  |  local error= 0.0  |  estimators= 1000.0 / 1000\n",
            "29 / 36 | max_depth= 10  |  min_sample_leaf= 5  |  max_f= 0.75  |  est= 10  |  local error= 2.6209276094260887  |  estimators= 4.2 / 10\n",
            "30 / 36 | max_depth= 10  |  min_sample_leaf= 5  |  max_f= 0.75  |  est= 100  |  local error= 2.412077533476366  |  estimators= 47.067 / 100\n",
            "31 / 36 | max_depth= 10  |  min_sample_leaf= 5  |  max_f= 0.75  |  est= 500  |  local error= 0.0  |  estimators= 500.0 / 500\n",
            "32 / 36 | max_depth= 10  |  min_sample_leaf= 5  |  max_f= 0.75  |  est= 1000  |  local error= 0.0  |  estimators= 1000.0 / 1000\n",
            "33 / 36 | max_depth= 10  |  min_sample_leaf= 5  |  max_f= None  |  est= 10  |  local error= 2.649492865942952  |  estimators= 4.2 / 10\n",
            "34 / 36 | max_depth= 10  |  min_sample_leaf= 5  |  max_f= None  |  est= 100  |  local error= 2.7327806847851512  |  estimators= 40.467 / 100\n",
            "35 / 36 | max_depth= 10  |  min_sample_leaf= 5  |  max_f= None  |  est= 500  |  local error= 0.0  |  estimators= 500.0 / 500\n",
            "36 / 36 | max_depth= 10  |  min_sample_leaf= 5  |  max_f= None  |  est= 1000  |  local error= 0.0  |  estimators= 1000.0 / 1000\n"
          ]
        }
      ]
    },
    {
      "cell_type": "code",
      "source": [
        "best_par"
      ],
      "metadata": {
        "colab": {
          "base_uri": "https://localhost:8080/"
        },
        "id": "FOvcVp5Ddx32",
        "outputId": "d2cd2944-f7c3-44e0-8643-62a039c69f60"
      },
      "execution_count": 11,
      "outputs": [
        {
          "output_type": "execute_result",
          "data": {
            "text/plain": [
              "{'max_d=': 2, 'min_s_l=': 5, 'm_f=': 'sqrt', 'est=': 100, 'local error=': 0.0}"
            ]
          },
          "metadata": {},
          "execution_count": 11
        }
      ]
    },
    {
      "cell_type": "code",
      "source": [
        "# WORST \n",
        "#22 / 36 | max_depth= 5  |  min_sample_leaf= 5  |  max_f= None  |  est= 100  |  local error= 2.7327806847851512  |  estimators= 40.467 / 100\n",
        "#34 / 36 | max_depth= 10  |  min_sample_leaf= 5  |  max_f= None  |  est= 100  |  local error= 2.7327806847851512  |  estimators= 40.467 / 100\n"
      ],
      "metadata": {
        "id": "ajI51YkN0OYo"
      },
      "execution_count": null,
      "outputs": []
    }
  ]
}