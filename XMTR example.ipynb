{
  "nbformat": 4,
  "nbformat_minor": 0,
  "metadata": {
    "colab": {
      "provenance": []
    },
    "kernelspec": {
      "name": "python3",
      "display_name": "Python 3"
    },
    "language_info": {
      "name": "python"
    }
  },
  "cells": [
    {
      "cell_type": "markdown",
      "source": [
        "Load data"
      ],
      "metadata": {
        "id": "xtvpoKVXP2_V"
      }
    },
    {
      "cell_type": "code",
      "source": [
        "import numpy as np\n",
        "import pandas as pd\n",
        "from scipy.io import arff\n",
        "from sklearn.model_selection import train_test_split\n",
        "\n",
        "# load data\n",
        "slump_data = arff.loadarff('slump.arff')\n",
        "slump_df = pd.DataFrame(slump_data[0])\n",
        "\n",
        "# get column names\n",
        "column_names = slump_df.columns\n",
        "\n",
        "# get data/target names\n",
        "f_n = column_names[:7]\n",
        "t_n = column_names[7:]\n",
        "\n",
        "X = slump_df[f_n]\n",
        "y = slump_df[t_n]\n",
        "\n",
        "# convert to numpy\n",
        "X = X.to_numpy()\n",
        "y = y.to_numpy()\n",
        "\n",
        "# split data\n",
        "X_train, X_test, y_train, y_test = train_test_split(X, y, test_size=.1, random_state=42)\n",
        "\n",
        "# examined instance\n",
        "instance = X_test[10]"
      ],
      "metadata": {
        "id": "V9002zcLPx04"
      },
      "execution_count": 1,
      "outputs": []
    },
    {
      "cell_type": "markdown",
      "source": [
        "using MTR"
      ],
      "metadata": {
        "id": "rq63E5SmP6Hs"
      }
    },
    {
      "cell_type": "code",
      "source": [
        "from XMTR import MTR, GlobalSurrogateTree, LocalSurrogateTree\n",
        "MTR_obj = MTR(X_train, X_test, y_train, y_test, f_n, t_n)\n",
        "rule = MTR_obj.explain(instance, 1) # you can add as last arguement the allowed error\n",
        "print(rule)\n",
        "\n",
        "# this model will be used for L/G surrogate\n",
        "model = MTR_obj.getModel()\n",
        "predictions = model.predict(X_train)"
      ],
      "metadata": {
        "colab": {
          "base_uri": "https://localhost:8080/"
        },
        "id": "qo-D_hAfP8PM",
        "outputId": "8611bb21-7e31-4cac-87a8-7a0ea1a37c79"
      },
      "execution_count": 2,
      "outputs": [
        {
          "output_type": "stream",
          "name": "stdout",
          "text": [
            "reduced_rules:  98 / 100\n",
            "if 164.0<=Water<=182.25 & 0.0<=Slag<=66.4 & 896.0<=Coarse_Aggr<=1049.45 & 307.0<=Cemment<=329.0 & 9.0<=SP<=19.0 & 705.0<=Fine_Aggr<=902.0 then SLUMP_cm: 13.045 +/- 0.34 error, FLOW_cm: 39.33 +/- 0.78 error, Compressive_Strength_Mpa: 34.7788 +/- 0.5192 error\n"
          ]
        }
      ]
    },
    {
      "cell_type": "markdown",
      "source": [
        "using global surrogate"
      ],
      "metadata": {
        "id": "L-lG18OuP953"
      }
    },
    {
      "cell_type": "code",
      "source": [
        "GS = GlobalSurrogateTree(X_train, predictions, f_n)\n",
        "print(GS.rule(instance))"
      ],
      "metadata": {
        "colab": {
          "base_uri": "https://localhost:8080/"
        },
        "id": "EaKyvBdFQBnt",
        "outputId": "800ce3e3-8541-4753-c865-90f05494cf35"
      },
      "execution_count": 5,
      "outputs": [
        {
          "output_type": "stream",
          "name": "stdout",
          "text": [
            "({'Cemment': [['<=', 179.8000030517578], ['>', 150.5]], 'Water': [['<=', 205.9000015258789], ['>', 182.25]], 'Fly_ash': [['>', 98.5]]}, array([15.5 , 35.  , 32.71]))\n"
          ]
        },
        {
          "output_type": "stream",
          "name": "stderr",
          "text": [
            "/usr/local/lib/python3.8/dist-packages/sklearn/tree/_classes.py:366: FutureWarning: Criterion 'mae' was deprecated in v1.0 and will be removed in version 1.2. Use `criterion='absolute_error'` which is equivalent.\n",
            "  warnings.warn(\n"
          ]
        }
      ]
    },
    {
      "cell_type": "markdown",
      "source": [
        "using local surrogate"
      ],
      "metadata": {
        "id": "Arqz8_w-QCtS"
      }
    },
    {
      "cell_type": "code",
      "source": [
        "LS = LocalSurrogateTree(X_train, predictions, f_n, 10) # neigns should be >= 10\n",
        "print(LS.rule(instance))"
      ],
      "metadata": {
        "colab": {
          "base_uri": "https://localhost:8080/"
        },
        "id": "dKoGZqfrQDCy",
        "outputId": "6f1ffc95-c101-4a93-b01d-69b49d5e42f4"
      },
      "execution_count": 6,
      "outputs": [
        {
          "output_type": "stream",
          "name": "stdout",
          "text": [
            "({'Cemment': [['<=', 356.0916409800256]], 'Coarse_Aggr': [['>', 857.907831305595]], 'Fly_ash': [['>', 151.14604087599835]]}, array([23.5 , 60.  , 45.69]))\n"
          ]
        },
        {
          "output_type": "stream",
          "name": "stderr",
          "text": [
            "/usr/local/lib/python3.8/dist-packages/sklearn/tree/_classes.py:366: FutureWarning: Criterion 'mae' was deprecated in v1.0 and will be removed in version 1.2. Use `criterion='absolute_error'` which is equivalent.\n",
            "  warnings.warn(\n"
          ]
        }
      ]
    }
  ]
}